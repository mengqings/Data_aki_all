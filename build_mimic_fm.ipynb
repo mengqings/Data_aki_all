{
 "cells": [
  {
   "cell_type": "markdown",
   "metadata": {
    "collapsed": true,
    "pycharm": {
     "name": "#%% md\n"
    }
   },
   "source": [
    "特征矩阵(feature matrix)\n",
    "\n",
    "Building the basic MIMIC feautre matrix for NLD work.\n",
    "We take minimum and maximum values of each variable during four hour sample window (four hours prior to callout)\n",
    "For 'single_feature_variables' we take only the final value (variables which are infrequently recorded will have the same value for min and max and therefore using both min and max as features for these variables does not make sense).\n",
    "We find that there are a lot of missing values when using the four hour sample window. So, where values are missing we look back over an extended sample window of 36 hours and take the final value during that time as the feature value.\n",
    "The above procedure results in imbalanced class sizes (there are relatively few patients with negative outcomes following callout). To balance the class sizes we sample from icustays using the same method described above, but at a sample time that is an integer multiple of 24 hours prior to callout (but not within 24 hours of icu admission). We specify that this sample must be taken at least 72 hours prior to callout, under the assumption that a patient is deintitely not ready for discharge at this point in time.\n",
    "These extra instances of the negative class are assigned unique identifier and treated as separate patients, however we save the id mapping so we can tell which stay each sample was taken from and at what time point.\n",
    "\n",
    "为NLD工作建立基本的MIMIC特征矩阵。\n",
    "在四个小时的样本窗口中(调用前四个小时)，我们取每个变量的最小值和最大值。\n",
    "对于'single_feature_variables'，我们只取最终的值(不经常被记录的变量的min和max值相同，因此使用min和max作为这些变量的特征是没有意义的)。\n",
    "我们发现在使用4小时的样本窗口时，存在大量的缺失值。因此，当缺少值时，我们回顾了一个扩展的36小时的样本窗口，并将这段时间内的最终值作为特征值。\n",
    "上述程序导致了班级规模的不平衡(在调出后出现不良结果的患者相对较少)。为了平衡班级规模，我们使用上述相同的方法对icustay进行了采样，但采样时间是调出前24小时\n",
    "(但不是在icu入院24小时内)的整数倍。我们规定，该样本必须在callout前至少72小时采集，假设患者此时确实没有准备好出院。\n",
    "负类的这些额外实例被分配了唯一的标识符，并作为单独的患者对待，但是我们保存了id映射，这样我们就可以知道每个样本是从哪个位置以及在什么时间点采集的。\n"
   ]
  },
  {
   "cell_type": "markdown",
   "metadata": {},
   "source": [
    "First we configure this script:\n",
    "首先我们配置这个脚本:"
   ]
  },
  {
   "cell_type": "code",
   "execution_count": 100,
   "metadata": {
    "pycharm": {
     "name": "#%%\n"
    }
   },
   "outputs": [],
   "source": [
    "#我们之前从mimic中提取和清理的数据存储在哪里\n",
    "DATA_PATH = 'mimic_all_data_CLEANED'   ## where the data we previously extracted and cleaned up from mimic is stored\n",
    "#允许运行此脚本而不自动覆盖以前的特征矩阵\n",
    "SAVE_FLAG = True    ## allows running this script without autmatically overwriting previous feature matrices\n",
    "#原始样本窗口(NLD指定4小时)\n",
    "HOURS_BEFORE_RFD = 24    ## original sample window (four hours specified by NLD)\n",
    "#扩展到样本窗口时，没有值记录在原始窗口(最终值采取)\n",
    "MAXIMUM_LOOKBACK = 36   ## extension to sample window when no value recorded in original window (final valule taken)\n",
    "\n",
    "## variables for which to only use single feature column:\n",
    "#只使用单一特性列的变量:\n",
    "single_feature_variables = ['k', 'na', 'bun', 'creatinine', 'hco3', 'haemoglobin', 'fio2', 'airway', 'pco2', 'po2', 'pain',\n",
    "                           'ALB','ALT','WBC','PLT','TBIL','PTT','PT','CL','LA'\n",
    "                           ]"
   ]
  },
  {
   "cell_type": "code",
   "execution_count": 101,
   "metadata": {
    "pycharm": {
     "name": "#%%\n"
    }
   },
   "outputs": [],
   "source": [
    "# import graphlab\n",
    "import numpy as np\n",
    "import pickle\n",
    "import datetime\n",
    "import shutil\n",
    "from collections import OrderedDict\n",
    "import matplotlib.pyplot as plt\n",
    "import matplotlib.dates as dates\n",
    "import pandas as pd\n",
    "# import graphlab.aggregate as agg\n",
    "%matplotlib inline\n",
    "\n"
   ]
  },
  {
   "cell_type": "markdown",
   "metadata": {
    "pycharm": {
     "name": "#%% md\n"
    }
   },
   "source": [
    "Load the data that we have previously extracted and pre-processed from MIMIC:\n",
    "只使用单一特性列的变量:"
   ]
  },
  {
   "cell_type": "code",
   "execution_count": 102,
   "metadata": {
    "pycharm": {
     "name": "#%%\n"
    }
   },
   "outputs": [],
   "source": [
    "# all_data = graphlab.SFrame(DATA_PATH)\n",
    "all_data = pd.read_pickle(DATA_PATH)\n"
   ]
  },
  {
   "cell_type": "markdown",
   "metadata": {
    "pycharm": {
     "name": "#%% md\n"
    }
   },
   "source": [
    "Create an SFrame to store summary of missing data:\n",
    "创建一个SFrame来存储缺失数据的摘要:"
   ]
  },
  {
   "cell_type": "code",
   "execution_count": 103,
   "metadata": {
    "pycharm": {
     "name": "#%%\n"
    }
   },
   "outputs": [],
   "source": [
    "# missing_data_summary = graphlab.SFrame()\n",
    "missing_data_summary = pd.DataFrame()\n"
   ]
  },
  {
   "cell_type": "markdown",
   "metadata": {
    "pycharm": {
     "name": "#%% md\n"
    }
   },
   "source": [
    "Select only measurments taken in HOURS_BEFORE_DISCHARGE:\n",
    "仅选择HOURS_BEFORE_DISCHARGE中的测量值:（前几个小时的放电）"
   ]
  },
  {
   "cell_type": "code",
   "execution_count": 104,
   "metadata": {
    "pycharm": {
     "name": "#%%\n"
    }
   },
   "outputs": [
    {
     "name": "stdout",
     "output_type": "stream",
     "text": [
      "There are 4070 icu satys with variables recorded in the final 24 hours before CALLOUT.\n"
     ]
    }
   ],
   "source": [
    "#取 0 到 4小时 之间的数据\n",
    "all_data = all_data[all_data['hrs_bRFD']<=HOURS_BEFORE_RFD]\n",
    "all_data = all_data[all_data['hrs_bRFD']>=0]\n",
    "print (\"There are %d icu satys with variables recorded in the final %d hours before CALLOUT.\" \\\n",
    "      %(len(all_data['C.ICUSTAY_ID'].unique()),HOURS_BEFORE_RFD))"
   ]
  },
  {
   "cell_type": "code",
   "execution_count": 105,
   "metadata": {
    "pycharm": {
     "name": "#%%\n"
    }
   },
   "outputs": [
    {
     "data": {
      "text/plain": [
       "array(['temp', 'hr', 'resp', 'spo2', 'haemoglobin', 'WBC', 'CL',\n",
       "       'creatinine', 'GLU', 'na', 'bun', 'k', 'hco3', 'PLT', 'bp', 'PT',\n",
       "       'PTT', 'INR', 'pain', 'ALB', 'ALT', 'TBIL', 'po2', 'pco2', 'NEUT',\n",
       "       'fio2', 'peep', 'airway'], dtype=object)"
      ]
     },
     "execution_count": 105,
     "metadata": {},
     "output_type": "execute_result"
    }
   ],
   "source": [
    "all_data['VARIABLE'].unique()"
   ]
  },
  {
   "cell_type": "markdown",
   "metadata": {
    "pycharm": {
     "name": "#%% md\n"
    }
   },
   "source": [
    "Produce data summary:\n",
    "（4小时）生成数据汇总:"
   ]
  },
  {
   "cell_type": "code",
   "execution_count": 106,
   "metadata": {
    "pycharm": {
     "name": "#%%\n"
    }
   },
   "outputs": [],
   "source": [
    "# summary = all_data.groupby(key_columns=['C.ICUSTAY_ID'], operations={'outcome':agg.SELECT_ONE('outcome'),\n",
    "#                                                                      'cohort':agg.SELECT_ONE('cohort'),\n",
    "#                                                                      'readmit':agg.SELECT_ONE('readmit'),\n",
    "#                                                                      'in_h_death':agg.SELECT_ONE('in_h_death'),\n",
    "#                                                                      'in_icu_death':agg.SELECT_ONE('in_icu_death'),\n",
    "#                                                                      'II.LOS':agg.SELECT_ONE('II.LOS'),\n",
    "#                                                                      'II.OUTTIME':agg.SELECT_ONE('II.OUTTIME'),\n",
    "#                                                                      'II.INTIME':agg.SELECT_ONE('II.INTIME')\n",
    "#                                                                     })\n",
    "all_data1 = all_data.groupby(by=['C.ICUSTAY_ID'])\n"
   ]
  },
  {
   "cell_type": "code",
   "execution_count": 107,
   "metadata": {
    "pycharm": {
     "name": "#%%\n"
    }
   },
   "outputs": [],
   "source": [
    "# 选择 8 个 需要的数据\n",
    "all_data2=all_data1.agg(\n",
    "    outcome=('outcome',np.random.choice),\n",
    "    cohort=('cohort',np.random.choice),\n",
    "    readmit=('readmit',np.random.choice),\n",
    "    in_h_death=('in_h_death',np.random.choice),\n",
    "    in_icu_death=('in_icu_death',np.random.choice),\n",
    "    LOS=('II.LOS',np.random.choice),\n",
    "    OUTTIME=('II.OUTTIME',np.random.choice),\n",
    "    INTIME=('II.INTIME',np.random.choice)\n",
    ").rename(columns={\n",
    "    'LOS':'II.LOS','OUTTIME':'II.OUTTIME','INTIME':'II.INTIME'\n",
    "})"
   ]
  },
  {
   "cell_type": "code",
   "execution_count": 108,
   "metadata": {
    "pycharm": {
     "name": "#%%\n"
    }
   },
   "outputs": [],
   "source": [
    "# all_data2['VARIABLE'].unique()"
   ]
  },
  {
   "cell_type": "code",
   "execution_count": 109,
   "metadata": {
    "pycharm": {
     "name": "#%%\n"
    }
   },
   "outputs": [],
   "source": [
    "summary=all_data2"
   ]
  },
  {
   "cell_type": "code",
   "execution_count": 110,
   "metadata": {
    "pycharm": {
     "name": "#%%\n"
    }
   },
   "outputs": [
    {
     "name": "stdout",
     "output_type": "stream",
     "text": [
      "There are 3757 icu stays in the cohort.\n"
     ]
    }
   ],
   "source": [
    "print( \"There are %d icu stays in the cohort.\" %sum(summary['cohort']==1))\n",
    "cohort_summary = summary[summary['cohort']==1]"
   ]
  },
  {
   "cell_type": "code",
   "execution_count": null,
   "metadata": {
    "pycharm": {
     "name": "#%%\n"
    }
   },
   "outputs": [],
   "source": []
  },
  {
   "cell_type": "markdown",
   "metadata": {
    "pycharm": {
     "name": "#%% md\n"
    }
   },
   "source": [
    "We now begin to construct the feature matrix.\n",
    "现在我们开始构造特征矩阵。"
   ]
  },
  {
   "cell_type": "code",
   "execution_count": 111,
   "metadata": {
    "pycharm": {
     "name": "#%%\n"
    }
   },
   "outputs": [],
   "source": [
    "# features = all_data.groupby(key_columns=['C.ICUSTAY_ID', 'VARIABLE'],\n",
    "#                             operations={'min':agg.MIN('C.VALUENUM'),\n",
    "#                                         'max':agg.MAX('C.VALUENUM'),\n",
    "#                                         'values':agg.CONCAT('C.VALUENUM'),\n",
    "#                                         'count':agg.COUNT('C.VALUENUM'),\n",
    "#                                         'cohort':agg.SELECT_ONE('cohort'),\n",
    "#                                         'outcome':agg.SELECT_ONE('outcome')\n",
    "#                                         })"
   ]
  },
  {
   "cell_type": "code",
   "execution_count": 112,
   "metadata": {
    "pycharm": {
     "name": "#%%\n"
    }
   },
   "outputs": [],
   "source": [
    "# all_data3=all_data.groupby(by=['C.ICUSTAY_ID', 'VARIABLE'])\n",
    "all_data3=all_data.groupby(by=['C.ICUSTAY_ID', 'VARIABLE'],as_index=False)"
   ]
  },
  {
   "cell_type": "code",
   "execution_count": 113,
   "metadata": {
    "pycharm": {
     "name": "#%%\n"
    }
   },
   "outputs": [],
   "source": [
    "# all_data3.loc[all_data3['VARIABLE']=='bp']"
   ]
  },
  {
   "cell_type": "code",
   "execution_count": 114,
   "metadata": {
    "pycharm": {
     "name": "#%%\n"
    }
   },
   "outputs": [
    {
     "data": {
      "text/plain": [
       "array(['CL', 'GLU', 'PLT', 'WBC', 'bp', 'bun', 'creatinine',\n",
       "       'haemoglobin', 'hco3', 'hr', 'k', 'na', 'pain', 'pco2', 'po2',\n",
       "       'resp', 'spo2', 'temp', 'ALT', 'INR', 'NEUT', 'PT', 'PTT', 'TBIL',\n",
       "       'ALB', 'fio2', 'peep', 'airway'], dtype=object)"
      ]
     },
     "execution_count": 114,
     "metadata": {},
     "output_type": "execute_result"
    }
   ],
   "source": [
    "a1=all_data3.count()\n",
    "a1['VARIABLE'].unique()"
   ]
  },
  {
   "cell_type": "code",
   "execution_count": 115,
   "metadata": {
    "pycharm": {
     "name": "#%%\n"
    }
   },
   "outputs": [
    {
     "data": {
      "text/plain": [
       "array(['temp', 'hr', 'resp', 'spo2', 'haemoglobin', 'WBC', 'CL',\n",
       "       'creatinine', 'GLU', 'na', 'bun', 'k', 'hco3', 'PLT', 'bp', 'PT',\n",
       "       'PTT', 'INR', 'pain', 'ALB', 'ALT', 'TBIL', 'po2', 'pco2', 'NEUT',\n",
       "       'fio2', 'peep', 'airway'], dtype=object)"
      ]
     },
     "execution_count": 115,
     "metadata": {},
     "output_type": "execute_result"
    }
   ],
   "source": [
    "all_data['VARIABLE'].unique()"
   ]
  },
  {
   "cell_type": "code",
   "execution_count": 116,
   "metadata": {
    "pycharm": {
     "name": "#%%\n"
    }
   },
   "outputs": [
    {
     "data": {
      "text/plain": [
       "[1234]"
      ]
     },
     "execution_count": 116,
     "metadata": {},
     "output_type": "execute_result"
    }
   ],
   "source": [
    "def yuanzhi(value):\n",
    "    return value\n",
    "yuanzhi ([1234])"
   ]
  },
  {
   "cell_type": "code",
   "execution_count": 117,
   "metadata": {
    "pycharm": {
     "name": "#%%\n"
    }
   },
   "outputs": [
    {
     "data": {
      "text/html": [
       "<div>\n",
       "<style scoped>\n",
       "    .dataframe tbody tr th:only-of-type {\n",
       "        vertical-align: middle;\n",
       "    }\n",
       "\n",
       "    .dataframe tbody tr th {\n",
       "        vertical-align: top;\n",
       "    }\n",
       "\n",
       "    .dataframe thead th {\n",
       "        text-align: right;\n",
       "    }\n",
       "</style>\n",
       "<table border=\"1\" class=\"dataframe\">\n",
       "  <thead>\n",
       "    <tr style=\"text-align: right;\">\n",
       "      <th></th>\n",
       "      <th>C.ICUSTAY_ID</th>\n",
       "      <th>VARIABLE</th>\n",
       "      <th>min</th>\n",
       "      <th>max</th>\n",
       "      <th>values</th>\n",
       "      <th>count</th>\n",
       "      <th>cohort</th>\n",
       "      <th>outcome</th>\n",
       "    </tr>\n",
       "  </thead>\n",
       "  <tbody>\n",
       "    <tr>\n",
       "      <th>0</th>\n",
       "      <td>200001.0</td>\n",
       "      <td>CL</td>\n",
       "      <td>98.000000</td>\n",
       "      <td>98.000000</td>\n",
       "      <td>98.000000</td>\n",
       "      <td>1</td>\n",
       "      <td>1</td>\n",
       "      <td>1</td>\n",
       "    </tr>\n",
       "    <tr>\n",
       "      <th>1</th>\n",
       "      <td>200001.0</td>\n",
       "      <td>GLU</td>\n",
       "      <td>99.000000</td>\n",
       "      <td>99.000000</td>\n",
       "      <td>99.000000</td>\n",
       "      <td>1</td>\n",
       "      <td>1</td>\n",
       "      <td>1</td>\n",
       "    </tr>\n",
       "    <tr>\n",
       "      <th>2</th>\n",
       "      <td>200001.0</td>\n",
       "      <td>PLT</td>\n",
       "      <td>168.000000</td>\n",
       "      <td>168.000000</td>\n",
       "      <td>168.000000</td>\n",
       "      <td>1</td>\n",
       "      <td>1</td>\n",
       "      <td>1</td>\n",
       "    </tr>\n",
       "    <tr>\n",
       "      <th>3</th>\n",
       "      <td>200001.0</td>\n",
       "      <td>WBC</td>\n",
       "      <td>3.400000</td>\n",
       "      <td>3.400000</td>\n",
       "      <td>3.400000</td>\n",
       "      <td>1</td>\n",
       "      <td>1</td>\n",
       "      <td>1</td>\n",
       "    </tr>\n",
       "    <tr>\n",
       "      <th>4</th>\n",
       "      <td>200001.0</td>\n",
       "      <td>bp</td>\n",
       "      <td>84.000000</td>\n",
       "      <td>135.000000</td>\n",
       "      <td>118.000000</td>\n",
       "      <td>29</td>\n",
       "      <td>1</td>\n",
       "      <td>1</td>\n",
       "    </tr>\n",
       "    <tr>\n",
       "      <th>...</th>\n",
       "      <td>...</td>\n",
       "      <td>...</td>\n",
       "      <td>...</td>\n",
       "      <td>...</td>\n",
       "      <td>...</td>\n",
       "      <td>...</td>\n",
       "      <td>...</td>\n",
       "      <td>...</td>\n",
       "    </tr>\n",
       "    <tr>\n",
       "      <th>77931</th>\n",
       "      <td>299998.0</td>\n",
       "      <td>peep</td>\n",
       "      <td>5.000000</td>\n",
       "      <td>5.000000</td>\n",
       "      <td>5.000000</td>\n",
       "      <td>6</td>\n",
       "      <td>0</td>\n",
       "      <td>0</td>\n",
       "    </tr>\n",
       "    <tr>\n",
       "      <th>77932</th>\n",
       "      <td>299998.0</td>\n",
       "      <td>po2</td>\n",
       "      <td>13.863200</td>\n",
       "      <td>22.394400</td>\n",
       "      <td>13.863200</td>\n",
       "      <td>2</td>\n",
       "      <td>0</td>\n",
       "      <td>0</td>\n",
       "    </tr>\n",
       "    <tr>\n",
       "      <th>77933</th>\n",
       "      <td>299998.0</td>\n",
       "      <td>resp</td>\n",
       "      <td>0.000000</td>\n",
       "      <td>21.000000</td>\n",
       "      <td>17.000000</td>\n",
       "      <td>35</td>\n",
       "      <td>0</td>\n",
       "      <td>0</td>\n",
       "    </tr>\n",
       "    <tr>\n",
       "      <th>77934</th>\n",
       "      <td>299998.0</td>\n",
       "      <td>spo2</td>\n",
       "      <td>94.000000</td>\n",
       "      <td>100.000000</td>\n",
       "      <td>100.000000</td>\n",
       "      <td>22</td>\n",
       "      <td>0</td>\n",
       "      <td>0</td>\n",
       "    </tr>\n",
       "    <tr>\n",
       "      <th>77935</th>\n",
       "      <td>299998.0</td>\n",
       "      <td>temp</td>\n",
       "      <td>36.666667</td>\n",
       "      <td>37.166667</td>\n",
       "      <td>36.944444</td>\n",
       "      <td>6</td>\n",
       "      <td>0</td>\n",
       "      <td>0</td>\n",
       "    </tr>\n",
       "  </tbody>\n",
       "</table>\n",
       "<p>77936 rows × 8 columns</p>\n",
       "</div>"
      ],
      "text/plain": [
       "       C.ICUSTAY_ID VARIABLE         min         max      values  count  \\\n",
       "0          200001.0       CL   98.000000   98.000000   98.000000      1   \n",
       "1          200001.0      GLU   99.000000   99.000000   99.000000      1   \n",
       "2          200001.0      PLT  168.000000  168.000000  168.000000      1   \n",
       "3          200001.0      WBC    3.400000    3.400000    3.400000      1   \n",
       "4          200001.0       bp   84.000000  135.000000  118.000000     29   \n",
       "...             ...      ...         ...         ...         ...    ...   \n",
       "77931      299998.0     peep    5.000000    5.000000    5.000000      6   \n",
       "77932      299998.0      po2   13.863200   22.394400   13.863200      2   \n",
       "77933      299998.0     resp    0.000000   21.000000   17.000000     35   \n",
       "77934      299998.0     spo2   94.000000  100.000000  100.000000     22   \n",
       "77935      299998.0     temp   36.666667   37.166667   36.944444      6   \n",
       "\n",
       "       cohort  outcome  \n",
       "0           1        1  \n",
       "1           1        1  \n",
       "2           1        1  \n",
       "3           1        1  \n",
       "4           1        1  \n",
       "...       ...      ...  \n",
       "77931       0        0  \n",
       "77932       0        0  \n",
       "77933       0        0  \n",
       "77934       0        0  \n",
       "77935       0        0  \n",
       "\n",
       "[77936 rows x 8 columns]"
      ]
     },
     "execution_count": 117,
     "metadata": {},
     "output_type": "execute_result"
    }
   ],
   "source": [
    "##all_data['C.VALUENUM']=all_data['C.VALUENUM'].astype(float)\n",
    "all_data4=all_data3.agg(\n",
    "    min=('C.VALUENUM','min'),\n",
    "    max=('C.VALUENUM','max'),\n",
    "    values=('C.VALUENUM',np.random.choice),\n",
    "    count=('C.VALUENUM','count'),\n",
    "    cohort=('cohort',np.random.choice),\n",
    "    outcome=('outcome',np.random.choice)\n",
    ")\n",
    "# all_data4['values'] = all_data3['C.VALUENUM']\n",
    "all_data4"
   ]
  },
  {
   "cell_type": "code",
   "execution_count": 118,
   "metadata": {
    "pycharm": {
     "name": "#%%\n"
    }
   },
   "outputs": [],
   "source": [
    "features =all_data4\n",
    "features = features.sort_values(ascending=True, by='C.ICUSTAY_ID')"
   ]
  },
  {
   "cell_type": "code",
   "execution_count": 119,
   "metadata": {
    "pycharm": {
     "name": "#%%\n"
    }
   },
   "outputs": [
    {
     "data": {
      "text/plain": [
       "array(['CL', 'temp', 'spo2', 'resp', 'po2', 'pain', 'na', 'k', 'hr',\n",
       "       'pco2', 'haemoglobin', 'creatinine', 'bun', 'bp', 'WBC', 'PLT',\n",
       "       'GLU', 'hco3', 'ALT', 'INR', 'NEUT', 'PT', 'PTT', 'TBIL', 'ALB',\n",
       "       'fio2', 'peep', 'airway'], dtype=object)"
      ]
     },
     "execution_count": 119,
     "metadata": {},
     "output_type": "execute_result"
    }
   ],
   "source": [
    "features['VARIABLE'].unique()"
   ]
  },
  {
   "cell_type": "markdown",
   "metadata": {
    "pycharm": {
     "name": "#%% md\n"
    }
   },
   "source": [
    "We define a function that takes the above dataframe and splits it into feature columns:\n",
    "我们定义了一个函数来接受上述数据帧并将其拆分为特性列:"
   ]
  },
  {
   "cell_type": "code",
   "execution_count": 120,
   "metadata": {
    "pycharm": {
     "name": "#%%\n"
    }
   },
   "outputs": [],
   "source": [
    "# 已经在下面实现了\n",
    "def _split_features_to_columns(features,all_variables,all_stay_ids,thisFM, single_feature_vars=single_feature_variables):\n",
    "    ''' Note: sort features by ICUSTAY_ID before using this function.'''\n",
    "\n",
    "    # all_variables = features['VARIABLE'].unique()\n",
    "    # all_stay_ids = features['C.ICUSTAY_ID'].unique().sort()\n",
    "    #\n",
    "    # # thisFM = graphlab.SFrame()\n",
    "    # thisFM = pd.DataFrame()\n",
    "    # thisFM['ICUSTAY_ID'] = all_stay_ids\n",
    "\n",
    "    for var in all_variables:\n",
    "        print (var)\n",
    "\n",
    "        var_min = []\n",
    "        var_max = []\n",
    "        var_values = []\n",
    "        var_count = []\n",
    "\n",
    "        _subset = features[features['VARIABLE']==var]\n",
    "        N = len(_subset)-1\n",
    "\n",
    "        rid = 0\n",
    "        for sid in all_stay_ids:\n",
    "            if rid<=N and _subset[rid]['C.ICUSTAY_ID']==sid:\n",
    "                ## add data and move on a row\n",
    "                row = _subset[rid]\n",
    "                var_min.append(row['min'])\n",
    "                var_max.append(row['max'])\n",
    "                var_values.append(row['values'])\n",
    "                rid += 1\n",
    "            else:\n",
    "                ## add None values and stay in place\n",
    "                var_min.append(None)\n",
    "                var_max.append(None)\n",
    "                var_values.append([])\n",
    "\n",
    "        if var not in single_feature_vars:\n",
    "            thisFM[var + '_min'] = var_min\n",
    "            thisFM[var + '_max'] = var_max\n",
    "\n",
    "        else:\n",
    "            ## if it is a single variable feature - take final value only\n",
    "            thisFM[var] = [val[-1]  if len(val)>0 else None for val in var_values]\n",
    "\n",
    "    return thisFM\n",
    "\n"
   ]
  },
  {
   "cell_type": "code",
   "execution_count": 121,
   "metadata": {
    "pycharm": {
     "name": "#%%\n"
    }
   },
   "outputs": [],
   "source": [
    "all_variables = features['VARIABLE'].unique()\n",
    "# # all_stay_ids = features['C.ICUSTAY_ID'].unique().sort()\n",
    "all_stay_ids = features['C.ICUSTAY_ID'].unique()\n",
    "all_stay_ids.sort()"
   ]
  },
  {
   "cell_type": "code",
   "execution_count": 122,
   "metadata": {
    "pycharm": {
     "name": "#%%\n"
    }
   },
   "outputs": [],
   "source": [
    "# # thisFM = graphlab.SFrame()\n",
    "thisFM = pd.DataFrame()\n",
    "thisFM['ICUSTAY_ID'] = all_stay_ids\n",
    "# thisFM['variables'] = all_variables"
   ]
  },
  {
   "cell_type": "code",
   "execution_count": 123,
   "metadata": {
    "pycharm": {
     "name": "#%%\n"
    }
   },
   "outputs": [
    {
     "data": {
      "text/plain": [
       "array(['CL', 'temp', 'spo2', 'resp', 'po2', 'pain', 'na', 'k', 'hr',\n",
       "       'pco2', 'haemoglobin', 'creatinine', 'bun', 'bp', 'WBC', 'PLT',\n",
       "       'GLU', 'hco3', 'ALT', 'INR', 'NEUT', 'PT', 'PTT', 'TBIL', 'ALB',\n",
       "       'fio2', 'peep', 'airway'], dtype=object)"
      ]
     },
     "execution_count": 123,
     "metadata": {},
     "output_type": "execute_result"
    }
   ],
   "source": [
    "all_variables"
   ]
  },
  {
   "cell_type": "code",
   "execution_count": 124,
   "metadata": {
    "pycharm": {
     "name": "#%%\n"
    }
   },
   "outputs": [
    {
     "data": {
      "text/plain": [
       "array([200001., 200010., 200038., ..., 299872., 299901., 299998.])"
      ]
     },
     "execution_count": 124,
     "metadata": {},
     "output_type": "execute_result"
    }
   ],
   "source": [
    "all_stay_ids"
   ]
  },
  {
   "cell_type": "code",
   "execution_count": 125,
   "metadata": {},
   "outputs": [
    {
     "data": {
      "text/plain": [
       "4070"
      ]
     },
     "execution_count": 125,
     "metadata": {},
     "output_type": "execute_result"
    }
   ],
   "source": [
    "len(all_stay_ids)"
   ]
  },
  {
   "cell_type": "code",
   "execution_count": 126,
   "metadata": {
    "pycharm": {
     "name": "#%%\n"
    }
   },
   "outputs": [
    {
     "data": {
      "text/plain": [
       "array(['temp', 'hr', 'resp', 'spo2', 'haemoglobin', 'WBC', 'CL',\n",
       "       'creatinine', 'GLU', 'na', 'bun', 'k', 'hco3', 'PLT', 'bp', 'PT',\n",
       "       'PTT', 'INR', 'pain', 'ALB', 'ALT', 'TBIL', 'po2', 'pco2', 'NEUT',\n",
       "       'fio2', 'peep', 'airway'], dtype=object)"
      ]
     },
     "execution_count": 126,
     "metadata": {},
     "output_type": "execute_result"
    }
   ],
   "source": [
    "all_data['VARIABLE'].unique()"
   ]
  },
  {
   "cell_type": "code",
   "execution_count": 127,
   "metadata": {
    "pycharm": {
     "name": "#%%\n"
    }
   },
   "outputs": [
    {
     "data": {
      "text/plain": [
       "array(['CL', 'GLU', 'PLT', 'WBC', 'bp', 'bun', 'creatinine',\n",
       "       'haemoglobin', 'hco3', 'hr', 'k', 'na', 'pain', 'pco2', 'po2',\n",
       "       'resp', 'spo2', 'temp', 'ALT', 'INR', 'NEUT', 'PT', 'PTT', 'TBIL',\n",
       "       'ALB', 'fio2', 'peep', 'airway'], dtype=object)"
      ]
     },
     "execution_count": 127,
     "metadata": {},
     "output_type": "execute_result"
    }
   ],
   "source": [
    "all_data4['VARIABLE'].unique()\n",
    "# FM = _split_features_to_columns(features,all_variables,all_stay_ids,thisFM, single_feature_variables)"
   ]
  },
  {
   "cell_type": "code",
   "execution_count": 128,
   "metadata": {
    "pycharm": {
     "name": "#%%\n"
    }
   },
   "outputs": [
    {
     "data": {
      "text/plain": [
       "array(['temp', 'hr', 'resp', 'spo2', 'haemoglobin', 'WBC', 'CL',\n",
       "       'creatinine', 'GLU', 'na', 'bun', 'k', 'hco3', 'PLT', 'bp', 'PT',\n",
       "       'PTT', 'INR', 'pain', 'ALB', 'ALT', 'TBIL', 'po2', 'pco2', 'NEUT',\n",
       "       'fio2', 'peep', 'airway'], dtype=object)"
      ]
     },
     "execution_count": 128,
     "metadata": {},
     "output_type": "execute_result"
    }
   ],
   "source": [
    "all_data['VARIABLE'].unique()"
   ]
  },
  {
   "cell_type": "code",
   "execution_count": 129,
   "metadata": {
    "pycharm": {
     "name": "#%%\n"
    }
   },
   "outputs": [
    {
     "name": "stdout",
     "output_type": "stream",
     "text": [
      "CL\n",
      "temp\n",
      "spo2\n",
      "resp\n",
      "po2\n",
      "pain\n",
      "na\n",
      "k\n",
      "hr\n",
      "pco2\n",
      "haemoglobin\n",
      "creatinine\n",
      "bun\n",
      "bp\n",
      "WBC\n",
      "PLT\n",
      "GLU\n",
      "hco3\n",
      "ALT\n",
      "INR\n",
      "NEUT\n",
      "PT\n",
      "PTT\n",
      "TBIL\n",
      "ALB\n",
      "fio2\n",
      "peep\n",
      "airway\n"
     ]
    }
   ],
   "source": [
    "for var in all_variables:\n",
    "        print (var)\n",
    "\n",
    "        var_min = []\n",
    "        var_max = []\n",
    "        var_values = []\n",
    "        var_count = []\n",
    "\n",
    "        _subset = features[features['VARIABLE']==var].reset_index(drop=True)\n",
    "        N = len(_subset)-1"
   ]
  },
  {
   "cell_type": "code",
   "execution_count": 130,
   "metadata": {
    "pycharm": {
     "name": "#%%\n"
    }
   },
   "outputs": [
    {
     "name": "stdout",
     "output_type": "stream",
     "text": [
      "CL\n",
      "po2\n",
      "pain\n",
      "na\n",
      "k\n",
      "pco2\n",
      "haemoglobin\n",
      "creatinine\n",
      "bun\n",
      "WBC\n",
      "PLT\n",
      "hco3\n",
      "ALT\n",
      "PT\n",
      "PTT\n",
      "TBIL\n",
      "ALB\n",
      "fio2\n",
      "airway\n"
     ]
    }
   ],
   "source": [
    "for var in all_variables:\n",
    "    if var in single_feature_variables:\n",
    "        print (var)\n"
   ]
  },
  {
   "cell_type": "code",
   "execution_count": 131,
   "metadata": {
    "pycharm": {
     "name": "#%%\n"
    }
   },
   "outputs": [
    {
     "data": {
      "text/plain": [
       "array(['CL', 'temp', 'spo2', 'resp', 'po2', 'pain', 'na', 'k', 'hr',\n",
       "       'pco2', 'haemoglobin', 'creatinine', 'bun', 'bp', 'WBC', 'PLT',\n",
       "       'GLU', 'hco3', 'ALT', 'INR', 'NEUT', 'PT', 'PTT', 'TBIL', 'ALB',\n",
       "       'fio2', 'peep', 'airway'], dtype=object)"
      ]
     },
     "execution_count": 131,
     "metadata": {},
     "output_type": "execute_result"
    }
   ],
   "source": [
    "all_variables"
   ]
  },
  {
   "cell_type": "code",
   "execution_count": 132,
   "metadata": {},
   "outputs": [
    {
     "name": "stdout",
     "output_type": "stream",
     "text": [
      "<class 'pandas.core.frame.DataFrame'>\n",
      "RangeIndex: 77936 entries, 0 to 77935\n",
      "Data columns (total 8 columns):\n",
      " #   Column        Non-Null Count  Dtype  \n",
      "---  ------        --------------  -----  \n",
      " 0   C.ICUSTAY_ID  77936 non-null  float64\n",
      " 1   VARIABLE      77936 non-null  object \n",
      " 2   min           77936 non-null  float64\n",
      " 3   max           77936 non-null  float64\n",
      " 4   values        77936 non-null  float64\n",
      " 5   count         77936 non-null  int64  \n",
      " 6   cohort        77936 non-null  int64  \n",
      " 7   outcome       77936 non-null  int64  \n",
      "dtypes: float64(4), int64(3), object(1)\n",
      "memory usage: 4.8+ MB\n"
     ]
    }
   ],
   "source": [
    "all_data4.info()"
   ]
  },
  {
   "cell_type": "code",
   "execution_count": 133,
   "metadata": {},
   "outputs": [
    {
     "data": {
      "text/html": [
       "<div>\n",
       "<style scoped>\n",
       "    .dataframe tbody tr th:only-of-type {\n",
       "        vertical-align: middle;\n",
       "    }\n",
       "\n",
       "    .dataframe tbody tr th {\n",
       "        vertical-align: top;\n",
       "    }\n",
       "\n",
       "    .dataframe thead th {\n",
       "        text-align: right;\n",
       "    }\n",
       "</style>\n",
       "<table border=\"1\" class=\"dataframe\">\n",
       "  <thead>\n",
       "    <tr style=\"text-align: right;\">\n",
       "      <th></th>\n",
       "      <th>C.ICUSTAY_ID</th>\n",
       "      <th>VARIABLE</th>\n",
       "      <th>min</th>\n",
       "      <th>max</th>\n",
       "      <th>values</th>\n",
       "      <th>count</th>\n",
       "      <th>cohort</th>\n",
       "      <th>outcome</th>\n",
       "    </tr>\n",
       "  </thead>\n",
       "  <tbody>\n",
       "    <tr>\n",
       "      <th>0</th>\n",
       "      <td>200001.0</td>\n",
       "      <td>CL</td>\n",
       "      <td>98.000000</td>\n",
       "      <td>98.000000</td>\n",
       "      <td>98.000000</td>\n",
       "      <td>1</td>\n",
       "      <td>1</td>\n",
       "      <td>1</td>\n",
       "    </tr>\n",
       "    <tr>\n",
       "      <th>17</th>\n",
       "      <td>200001.0</td>\n",
       "      <td>temp</td>\n",
       "      <td>35.277778</td>\n",
       "      <td>36.777778</td>\n",
       "      <td>35.277778</td>\n",
       "      <td>6</td>\n",
       "      <td>1</td>\n",
       "      <td>1</td>\n",
       "    </tr>\n",
       "    <tr>\n",
       "      <th>16</th>\n",
       "      <td>200001.0</td>\n",
       "      <td>spo2</td>\n",
       "      <td>87.000000</td>\n",
       "      <td>100.000000</td>\n",
       "      <td>97.000000</td>\n",
       "      <td>29</td>\n",
       "      <td>1</td>\n",
       "      <td>1</td>\n",
       "    </tr>\n",
       "    <tr>\n",
       "      <th>15</th>\n",
       "      <td>200001.0</td>\n",
       "      <td>resp</td>\n",
       "      <td>15.000000</td>\n",
       "      <td>29.000000</td>\n",
       "      <td>25.000000</td>\n",
       "      <td>29</td>\n",
       "      <td>1</td>\n",
       "      <td>1</td>\n",
       "    </tr>\n",
       "    <tr>\n",
       "      <th>14</th>\n",
       "      <td>200001.0</td>\n",
       "      <td>po2</td>\n",
       "      <td>14.929600</td>\n",
       "      <td>14.929600</td>\n",
       "      <td>14.929600</td>\n",
       "      <td>1</td>\n",
       "      <td>1</td>\n",
       "      <td>1</td>\n",
       "    </tr>\n",
       "    <tr>\n",
       "      <th>...</th>\n",
       "      <td>...</td>\n",
       "      <td>...</td>\n",
       "      <td>...</td>\n",
       "      <td>...</td>\n",
       "      <td>...</td>\n",
       "      <td>...</td>\n",
       "      <td>...</td>\n",
       "      <td>...</td>\n",
       "    </tr>\n",
       "    <tr>\n",
       "      <th>77912</th>\n",
       "      <td>299998.0</td>\n",
       "      <td>GLU</td>\n",
       "      <td>130.000000</td>\n",
       "      <td>206.000000</td>\n",
       "      <td>184.000000</td>\n",
       "      <td>3</td>\n",
       "      <td>0</td>\n",
       "      <td>0</td>\n",
       "    </tr>\n",
       "    <tr>\n",
       "      <th>77911</th>\n",
       "      <td>299998.0</td>\n",
       "      <td>CL</td>\n",
       "      <td>107.000000</td>\n",
       "      <td>109.000000</td>\n",
       "      <td>108.000000</td>\n",
       "      <td>3</td>\n",
       "      <td>0</td>\n",
       "      <td>0</td>\n",
       "    </tr>\n",
       "    <tr>\n",
       "      <th>77934</th>\n",
       "      <td>299998.0</td>\n",
       "      <td>spo2</td>\n",
       "      <td>94.000000</td>\n",
       "      <td>100.000000</td>\n",
       "      <td>100.000000</td>\n",
       "      <td>22</td>\n",
       "      <td>0</td>\n",
       "      <td>0</td>\n",
       "    </tr>\n",
       "    <tr>\n",
       "      <th>77922</th>\n",
       "      <td>299998.0</td>\n",
       "      <td>creatinine</td>\n",
       "      <td>88.420000</td>\n",
       "      <td>97.262000</td>\n",
       "      <td>97.262000</td>\n",
       "      <td>3</td>\n",
       "      <td>0</td>\n",
       "      <td>0</td>\n",
       "    </tr>\n",
       "    <tr>\n",
       "      <th>77935</th>\n",
       "      <td>299998.0</td>\n",
       "      <td>temp</td>\n",
       "      <td>36.666667</td>\n",
       "      <td>37.166667</td>\n",
       "      <td>36.944444</td>\n",
       "      <td>6</td>\n",
       "      <td>0</td>\n",
       "      <td>0</td>\n",
       "    </tr>\n",
       "  </tbody>\n",
       "</table>\n",
       "<p>77936 rows × 8 columns</p>\n",
       "</div>"
      ],
      "text/plain": [
       "       C.ICUSTAY_ID    VARIABLE         min         max      values  count  \\\n",
       "0          200001.0          CL   98.000000   98.000000   98.000000      1   \n",
       "17         200001.0        temp   35.277778   36.777778   35.277778      6   \n",
       "16         200001.0        spo2   87.000000  100.000000   97.000000     29   \n",
       "15         200001.0        resp   15.000000   29.000000   25.000000     29   \n",
       "14         200001.0         po2   14.929600   14.929600   14.929600      1   \n",
       "...             ...         ...         ...         ...         ...    ...   \n",
       "77912      299998.0         GLU  130.000000  206.000000  184.000000      3   \n",
       "77911      299998.0          CL  107.000000  109.000000  108.000000      3   \n",
       "77934      299998.0        spo2   94.000000  100.000000  100.000000     22   \n",
       "77922      299998.0  creatinine   88.420000   97.262000   97.262000      3   \n",
       "77935      299998.0        temp   36.666667   37.166667   36.944444      6   \n",
       "\n",
       "       cohort  outcome  \n",
       "0           1        1  \n",
       "17          1        1  \n",
       "16          1        1  \n",
       "15          1        1  \n",
       "14          1        1  \n",
       "...       ...      ...  \n",
       "77912       0        0  \n",
       "77911       0        0  \n",
       "77934       0        0  \n",
       "77922       0        0  \n",
       "77935       0        0  \n",
       "\n",
       "[77936 rows x 8 columns]"
      ]
     },
     "execution_count": 133,
     "metadata": {},
     "output_type": "execute_result"
    }
   ],
   "source": [
    "features"
   ]
  },
  {
   "cell_type": "code",
   "execution_count": 134,
   "metadata": {},
   "outputs": [
    {
     "data": {
      "text/html": [
       "<div>\n",
       "<style scoped>\n",
       "    .dataframe tbody tr th:only-of-type {\n",
       "        vertical-align: middle;\n",
       "    }\n",
       "\n",
       "    .dataframe tbody tr th {\n",
       "        vertical-align: top;\n",
       "    }\n",
       "\n",
       "    .dataframe thead th {\n",
       "        text-align: right;\n",
       "    }\n",
       "</style>\n",
       "<table border=\"1\" class=\"dataframe\">\n",
       "  <thead>\n",
       "    <tr style=\"text-align: right;\">\n",
       "      <th></th>\n",
       "      <th>C.ICUSTAY_ID</th>\n",
       "      <th>VARIABLE</th>\n",
       "      <th>min</th>\n",
       "      <th>max</th>\n",
       "      <th>values</th>\n",
       "      <th>count</th>\n",
       "      <th>cohort</th>\n",
       "      <th>outcome</th>\n",
       "    </tr>\n",
       "  </thead>\n",
       "  <tbody>\n",
       "    <tr>\n",
       "      <th>0</th>\n",
       "      <td>200001.0</td>\n",
       "      <td>CL</td>\n",
       "      <td>98.0000</td>\n",
       "      <td>98.0000</td>\n",
       "      <td>98.0000</td>\n",
       "      <td>1</td>\n",
       "      <td>1</td>\n",
       "      <td>1</td>\n",
       "    </tr>\n",
       "    <tr>\n",
       "      <th>14</th>\n",
       "      <td>200001.0</td>\n",
       "      <td>po2</td>\n",
       "      <td>14.9296</td>\n",
       "      <td>14.9296</td>\n",
       "      <td>14.9296</td>\n",
       "      <td>1</td>\n",
       "      <td>1</td>\n",
       "      <td>1</td>\n",
       "    </tr>\n",
       "    <tr>\n",
       "      <th>11</th>\n",
       "      <td>200001.0</td>\n",
       "      <td>na</td>\n",
       "      <td>135.0000</td>\n",
       "      <td>135.0000</td>\n",
       "      <td>135.0000</td>\n",
       "      <td>1</td>\n",
       "      <td>1</td>\n",
       "      <td>1</td>\n",
       "    </tr>\n",
       "    <tr>\n",
       "      <th>10</th>\n",
       "      <td>200001.0</td>\n",
       "      <td>k</td>\n",
       "      <td>4.2000</td>\n",
       "      <td>4.2000</td>\n",
       "      <td>4.2000</td>\n",
       "      <td>1</td>\n",
       "      <td>1</td>\n",
       "      <td>1</td>\n",
       "    </tr>\n",
       "    <tr>\n",
       "      <th>13</th>\n",
       "      <td>200001.0</td>\n",
       "      <td>pco2</td>\n",
       "      <td>5.1987</td>\n",
       "      <td>5.1987</td>\n",
       "      <td>5.1987</td>\n",
       "      <td>1</td>\n",
       "      <td>1</td>\n",
       "      <td>1</td>\n",
       "    </tr>\n",
       "    <tr>\n",
       "      <th>...</th>\n",
       "      <td>...</td>\n",
       "      <td>...</td>\n",
       "      <td>...</td>\n",
       "      <td>...</td>\n",
       "      <td>...</td>\n",
       "      <td>...</td>\n",
       "      <td>...</td>\n",
       "      <td>...</td>\n",
       "    </tr>\n",
       "    <tr>\n",
       "      <th>77878</th>\n",
       "      <td>299872.0</td>\n",
       "      <td>creatinine</td>\n",
       "      <td>229.8920</td>\n",
       "      <td>229.8920</td>\n",
       "      <td>229.8920</td>\n",
       "      <td>1</td>\n",
       "      <td>0</td>\n",
       "      <td>0</td>\n",
       "    </tr>\n",
       "    <tr>\n",
       "      <th>77917</th>\n",
       "      <td>299998.0</td>\n",
       "      <td>PTT</td>\n",
       "      <td>28.9000</td>\n",
       "      <td>28.9000</td>\n",
       "      <td>28.9000</td>\n",
       "      <td>1</td>\n",
       "      <td>0</td>\n",
       "      <td>0</td>\n",
       "    </tr>\n",
       "    <tr>\n",
       "      <th>77916</th>\n",
       "      <td>299998.0</td>\n",
       "      <td>PT</td>\n",
       "      <td>12.9000</td>\n",
       "      <td>12.9000</td>\n",
       "      <td>12.9000</td>\n",
       "      <td>1</td>\n",
       "      <td>0</td>\n",
       "      <td>0</td>\n",
       "    </tr>\n",
       "    <tr>\n",
       "      <th>77914</th>\n",
       "      <td>299998.0</td>\n",
       "      <td>NEUT</td>\n",
       "      <td>77.0000</td>\n",
       "      <td>77.0000</td>\n",
       "      <td>77.0000</td>\n",
       "      <td>1</td>\n",
       "      <td>0</td>\n",
       "      <td>0</td>\n",
       "    </tr>\n",
       "    <tr>\n",
       "      <th>77913</th>\n",
       "      <td>299998.0</td>\n",
       "      <td>INR</td>\n",
       "      <td>1.1000</td>\n",
       "      <td>1.1000</td>\n",
       "      <td>1.1000</td>\n",
       "      <td>1</td>\n",
       "      <td>0</td>\n",
       "      <td>0</td>\n",
       "    </tr>\n",
       "  </tbody>\n",
       "</table>\n",
       "<p>34334 rows × 8 columns</p>\n",
       "</div>"
      ],
      "text/plain": [
       "       C.ICUSTAY_ID    VARIABLE       min       max    values  count  cohort  \\\n",
       "0          200001.0          CL   98.0000   98.0000   98.0000      1       1   \n",
       "14         200001.0         po2   14.9296   14.9296   14.9296      1       1   \n",
       "11         200001.0          na  135.0000  135.0000  135.0000      1       1   \n",
       "10         200001.0           k    4.2000    4.2000    4.2000      1       1   \n",
       "13         200001.0        pco2    5.1987    5.1987    5.1987      1       1   \n",
       "...             ...         ...       ...       ...       ...    ...     ...   \n",
       "77878      299872.0  creatinine  229.8920  229.8920  229.8920      1       0   \n",
       "77917      299998.0         PTT   28.9000   28.9000   28.9000      1       0   \n",
       "77916      299998.0          PT   12.9000   12.9000   12.9000      1       0   \n",
       "77914      299998.0        NEUT   77.0000   77.0000   77.0000      1       0   \n",
       "77913      299998.0         INR    1.1000    1.1000    1.1000      1       0   \n",
       "\n",
       "       outcome  \n",
       "0            1  \n",
       "14           1  \n",
       "11           1  \n",
       "10           1  \n",
       "13           1  \n",
       "...        ...  \n",
       "77878        0  \n",
       "77917        0  \n",
       "77916        0  \n",
       "77914        0  \n",
       "77913        0  \n",
       "\n",
       "[34334 rows x 8 columns]"
      ]
     },
     "execution_count": 134,
     "metadata": {},
     "output_type": "execute_result"
    }
   ],
   "source": [
    "features_count1=features[features['count']==1]\n",
    "features_count1"
   ]
  },
  {
   "cell_type": "code",
   "execution_count": 135,
   "metadata": {},
   "outputs": [
    {
     "data": {
      "text/plain": [
       "3853"
      ]
     },
     "execution_count": 135,
     "metadata": {},
     "output_type": "execute_result"
    }
   ],
   "source": [
    "len(features_count1['C.ICUSTAY_ID'].unique())"
   ]
  },
  {
   "cell_type": "code",
   "execution_count": 136,
   "metadata": {
    "scrolled": true
   },
   "outputs": [
    {
     "data": {
      "text/plain": [
       "array([200001., 200010., 200038., ..., 299866., 299872., 299998.])"
      ]
     },
     "execution_count": 136,
     "metadata": {},
     "output_type": "execute_result"
    }
   ],
   "source": [
    "features_count1['C.ICUSTAY_ID'].unique()"
   ]
  },
  {
   "cell_type": "code",
   "execution_count": 137,
   "metadata": {},
   "outputs": [
    {
     "data": {
      "text/plain": [
       "3963"
      ]
     },
     "execution_count": 137,
     "metadata": {},
     "output_type": "execute_result"
    }
   ],
   "source": [
    "len(features[features['VARIABLE']=='CL'].reset_index(drop=True)['C.ICUSTAY_ID'].unique())"
   ]
  },
  {
   "cell_type": "code",
   "execution_count": 138,
   "metadata": {},
   "outputs": [
    {
     "data": {
      "text/html": [
       "<div>\n",
       "<style scoped>\n",
       "    .dataframe tbody tr th:only-of-type {\n",
       "        vertical-align: middle;\n",
       "    }\n",
       "\n",
       "    .dataframe tbody tr th {\n",
       "        vertical-align: top;\n",
       "    }\n",
       "\n",
       "    .dataframe thead th {\n",
       "        text-align: right;\n",
       "    }\n",
       "</style>\n",
       "<table border=\"1\" class=\"dataframe\">\n",
       "  <thead>\n",
       "    <tr style=\"text-align: right;\">\n",
       "      <th></th>\n",
       "      <th>C.ICUSTAY_ID</th>\n",
       "      <th>VARIABLE</th>\n",
       "      <th>min</th>\n",
       "      <th>max</th>\n",
       "      <th>values</th>\n",
       "      <th>count</th>\n",
       "      <th>cohort</th>\n",
       "      <th>outcome</th>\n",
       "    </tr>\n",
       "  </thead>\n",
       "  <tbody>\n",
       "    <tr>\n",
       "      <th>0</th>\n",
       "      <td>200001.0</td>\n",
       "      <td>CL</td>\n",
       "      <td>98.0</td>\n",
       "      <td>98.0</td>\n",
       "      <td>98.0</td>\n",
       "      <td>1</td>\n",
       "      <td>1</td>\n",
       "      <td>1</td>\n",
       "    </tr>\n",
       "    <tr>\n",
       "      <th>1</th>\n",
       "      <td>200010.0</td>\n",
       "      <td>CL</td>\n",
       "      <td>108.0</td>\n",
       "      <td>108.0</td>\n",
       "      <td>108.0</td>\n",
       "      <td>1</td>\n",
       "      <td>1</td>\n",
       "      <td>1</td>\n",
       "    </tr>\n",
       "    <tr>\n",
       "      <th>2</th>\n",
       "      <td>200038.0</td>\n",
       "      <td>CL</td>\n",
       "      <td>108.0</td>\n",
       "      <td>108.0</td>\n",
       "      <td>108.0</td>\n",
       "      <td>1</td>\n",
       "      <td>1</td>\n",
       "      <td>1</td>\n",
       "    </tr>\n",
       "    <tr>\n",
       "      <th>3</th>\n",
       "      <td>200049.0</td>\n",
       "      <td>CL</td>\n",
       "      <td>100.0</td>\n",
       "      <td>100.0</td>\n",
       "      <td>100.0</td>\n",
       "      <td>2</td>\n",
       "      <td>1</td>\n",
       "      <td>0</td>\n",
       "    </tr>\n",
       "    <tr>\n",
       "      <th>4</th>\n",
       "      <td>200094.0</td>\n",
       "      <td>CL</td>\n",
       "      <td>109.0</td>\n",
       "      <td>111.0</td>\n",
       "      <td>109.0</td>\n",
       "      <td>2</td>\n",
       "      <td>1</td>\n",
       "      <td>1</td>\n",
       "    </tr>\n",
       "    <tr>\n",
       "      <th>...</th>\n",
       "      <td>...</td>\n",
       "      <td>...</td>\n",
       "      <td>...</td>\n",
       "      <td>...</td>\n",
       "      <td>...</td>\n",
       "      <td>...</td>\n",
       "      <td>...</td>\n",
       "      <td>...</td>\n",
       "    </tr>\n",
       "    <tr>\n",
       "      <th>3958</th>\n",
       "      <td>299856.0</td>\n",
       "      <td>CL</td>\n",
       "      <td>101.0</td>\n",
       "      <td>103.0</td>\n",
       "      <td>101.0</td>\n",
       "      <td>2</td>\n",
       "      <td>1</td>\n",
       "      <td>1</td>\n",
       "    </tr>\n",
       "    <tr>\n",
       "      <th>3959</th>\n",
       "      <td>299866.0</td>\n",
       "      <td>CL</td>\n",
       "      <td>106.0</td>\n",
       "      <td>106.0</td>\n",
       "      <td>106.0</td>\n",
       "      <td>1</td>\n",
       "      <td>1</td>\n",
       "      <td>1</td>\n",
       "    </tr>\n",
       "    <tr>\n",
       "      <th>3960</th>\n",
       "      <td>299872.0</td>\n",
       "      <td>CL</td>\n",
       "      <td>88.0</td>\n",
       "      <td>88.0</td>\n",
       "      <td>88.0</td>\n",
       "      <td>1</td>\n",
       "      <td>0</td>\n",
       "      <td>0</td>\n",
       "    </tr>\n",
       "    <tr>\n",
       "      <th>3961</th>\n",
       "      <td>299901.0</td>\n",
       "      <td>CL</td>\n",
       "      <td>112.0</td>\n",
       "      <td>119.0</td>\n",
       "      <td>119.0</td>\n",
       "      <td>2</td>\n",
       "      <td>1</td>\n",
       "      <td>1</td>\n",
       "    </tr>\n",
       "    <tr>\n",
       "      <th>3962</th>\n",
       "      <td>299998.0</td>\n",
       "      <td>CL</td>\n",
       "      <td>107.0</td>\n",
       "      <td>109.0</td>\n",
       "      <td>108.0</td>\n",
       "      <td>3</td>\n",
       "      <td>0</td>\n",
       "      <td>0</td>\n",
       "    </tr>\n",
       "  </tbody>\n",
       "</table>\n",
       "<p>3963 rows × 8 columns</p>\n",
       "</div>"
      ],
      "text/plain": [
       "      C.ICUSTAY_ID VARIABLE    min    max  values  count  cohort  outcome\n",
       "0         200001.0       CL   98.0   98.0    98.0      1       1        1\n",
       "1         200010.0       CL  108.0  108.0   108.0      1       1        1\n",
       "2         200038.0       CL  108.0  108.0   108.0      1       1        1\n",
       "3         200049.0       CL  100.0  100.0   100.0      2       1        0\n",
       "4         200094.0       CL  109.0  111.0   109.0      2       1        1\n",
       "...            ...      ...    ...    ...     ...    ...     ...      ...\n",
       "3958      299856.0       CL  101.0  103.0   101.0      2       1        1\n",
       "3959      299866.0       CL  106.0  106.0   106.0      1       1        1\n",
       "3960      299872.0       CL   88.0   88.0    88.0      1       0        0\n",
       "3961      299901.0       CL  112.0  119.0   119.0      2       1        1\n",
       "3962      299998.0       CL  107.0  109.0   108.0      3       0        0\n",
       "\n",
       "[3963 rows x 8 columns]"
      ]
     },
     "execution_count": 138,
     "metadata": {},
     "output_type": "execute_result"
    }
   ],
   "source": [
    "features[features['VARIABLE']=='CL'].reset_index(drop=True)"
   ]
  },
  {
   "cell_type": "code",
   "execution_count": 139,
   "metadata": {},
   "outputs": [
    {
     "data": {
      "text/html": [
       "<div>\n",
       "<style scoped>\n",
       "    .dataframe tbody tr th:only-of-type {\n",
       "        vertical-align: middle;\n",
       "    }\n",
       "\n",
       "    .dataframe tbody tr th {\n",
       "        vertical-align: top;\n",
       "    }\n",
       "\n",
       "    .dataframe thead th {\n",
       "        text-align: right;\n",
       "    }\n",
       "</style>\n",
       "<table border=\"1\" class=\"dataframe\">\n",
       "  <thead>\n",
       "    <tr style=\"text-align: right;\">\n",
       "      <th></th>\n",
       "      <th>ICUSTAY_ID</th>\n",
       "    </tr>\n",
       "  </thead>\n",
       "  <tbody>\n",
       "    <tr>\n",
       "      <th>0</th>\n",
       "      <td>200001.0</td>\n",
       "    </tr>\n",
       "    <tr>\n",
       "      <th>1</th>\n",
       "      <td>200010.0</td>\n",
       "    </tr>\n",
       "    <tr>\n",
       "      <th>2</th>\n",
       "      <td>200038.0</td>\n",
       "    </tr>\n",
       "    <tr>\n",
       "      <th>3</th>\n",
       "      <td>200049.0</td>\n",
       "    </tr>\n",
       "    <tr>\n",
       "      <th>4</th>\n",
       "      <td>200094.0</td>\n",
       "    </tr>\n",
       "    <tr>\n",
       "      <th>...</th>\n",
       "      <td>...</td>\n",
       "    </tr>\n",
       "    <tr>\n",
       "      <th>4065</th>\n",
       "      <td>299856.0</td>\n",
       "    </tr>\n",
       "    <tr>\n",
       "      <th>4066</th>\n",
       "      <td>299866.0</td>\n",
       "    </tr>\n",
       "    <tr>\n",
       "      <th>4067</th>\n",
       "      <td>299872.0</td>\n",
       "    </tr>\n",
       "    <tr>\n",
       "      <th>4068</th>\n",
       "      <td>299901.0</td>\n",
       "    </tr>\n",
       "    <tr>\n",
       "      <th>4069</th>\n",
       "      <td>299998.0</td>\n",
       "    </tr>\n",
       "  </tbody>\n",
       "</table>\n",
       "<p>4070 rows × 1 columns</p>\n",
       "</div>"
      ],
      "text/plain": [
       "      ICUSTAY_ID\n",
       "0       200001.0\n",
       "1       200010.0\n",
       "2       200038.0\n",
       "3       200049.0\n",
       "4       200094.0\n",
       "...          ...\n",
       "4065    299856.0\n",
       "4066    299866.0\n",
       "4067    299872.0\n",
       "4068    299901.0\n",
       "4069    299998.0\n",
       "\n",
       "[4070 rows x 1 columns]"
      ]
     },
     "execution_count": 139,
     "metadata": {},
     "output_type": "execute_result"
    }
   ],
   "source": [
    "thisFM"
   ]
  },
  {
   "cell_type": "code",
   "execution_count": 148,
   "metadata": {
    "pycharm": {
     "name": "#%%\n"
    }
   },
   "outputs": [
    {
     "name": "stdout",
     "output_type": "stream",
     "text": [
      "CL\n",
      "temp\n",
      "spo2\n",
      "resp\n",
      "po2\n",
      "pain\n",
      "na\n",
      "k\n",
      "hr\n",
      "pco2\n",
      "haemoglobin\n",
      "creatinine\n",
      "bun\n",
      "bp\n",
      "WBC\n",
      "PLT\n",
      "GLU\n",
      "hco3\n",
      "ALT\n",
      "INR\n",
      "NEUT\n",
      "PT\n",
      "PTT\n",
      "TBIL\n",
      "ALB\n",
      "fio2\n",
      "peep\n",
      "airway\n"
     ]
    }
   ],
   "source": [
    "for var in all_variables:\n",
    "        print (var)\n",
    "\n",
    "        var_min = []\n",
    "        var_max = []\n",
    "        var_values = []\n",
    "        var_count = []\n",
    "\n",
    "        _subset = features[features['VARIABLE']==var].reset_index(drop=True)\n",
    "        N = len(_subset)-1\n",
    "\n",
    "        rid = 0\n",
    "        for sid in all_stay_ids:\n",
    "            # if rid<=N and _subset[rid]['C.ICUSTAY_ID']==sid:\n",
    "            if rid<=N and _subset.loc[rid]['C.ICUSTAY_ID']==sid:\n",
    "                ## add data and move on a row\n",
    "                row = _subset.loc[rid]\n",
    "                var_min.append(row['min'])\n",
    "                var_max.append(row['max'])\n",
    "                var_values.append(row['values'])\n",
    "                rid += 1\n",
    "            else:\n",
    "                ## add None values and stay in place\n",
    "                var_min.append(None)\n",
    "                var_max.append(None)\n",
    "                var_values.append(None)\n",
    "\n",
    "        if var not in  single_feature_variables:\n",
    "            thisFM[var + '_min'] = var_min\n",
    "            thisFM[var + '_max'] = var_max\n",
    "\n",
    "        else:\n",
    "            ## if it is a single variable feature - take final value only\n",
    "            #如果它是单个变量特性—只取最终值\n",
    "            thisFM[var] = var_values"
   ]
  },
  {
   "cell_type": "code",
   "execution_count": 149,
   "metadata": {
    "pycharm": {
     "name": "#%%\n"
    }
   },
   "outputs": [
    {
     "data": {
      "text/html": [
       "<div>\n",
       "<style scoped>\n",
       "    .dataframe tbody tr th:only-of-type {\n",
       "        vertical-align: middle;\n",
       "    }\n",
       "\n",
       "    .dataframe tbody tr th {\n",
       "        vertical-align: top;\n",
       "    }\n",
       "\n",
       "    .dataframe thead th {\n",
       "        text-align: right;\n",
       "    }\n",
       "</style>\n",
       "<table border=\"1\" class=\"dataframe\">\n",
       "  <thead>\n",
       "    <tr style=\"text-align: right;\">\n",
       "      <th></th>\n",
       "      <th>ICUSTAY_ID</th>\n",
       "      <th>CL</th>\n",
       "      <th>temp_min</th>\n",
       "      <th>temp_max</th>\n",
       "      <th>spo2_min</th>\n",
       "      <th>spo2_max</th>\n",
       "      <th>resp_min</th>\n",
       "      <th>resp_max</th>\n",
       "      <th>po2</th>\n",
       "      <th>pain</th>\n",
       "      <th>...</th>\n",
       "      <th>NEUT_min</th>\n",
       "      <th>NEUT_max</th>\n",
       "      <th>PT</th>\n",
       "      <th>PTT</th>\n",
       "      <th>TBIL</th>\n",
       "      <th>ALB</th>\n",
       "      <th>fio2</th>\n",
       "      <th>peep_min</th>\n",
       "      <th>peep_max</th>\n",
       "      <th>airway</th>\n",
       "    </tr>\n",
       "  </thead>\n",
       "  <tbody>\n",
       "    <tr>\n",
       "      <th>0</th>\n",
       "      <td>200001.0</td>\n",
       "      <td>98.0</td>\n",
       "      <td>35.277778</td>\n",
       "      <td>36.777778</td>\n",
       "      <td>87.0</td>\n",
       "      <td>100.0</td>\n",
       "      <td>15.0</td>\n",
       "      <td>29.0</td>\n",
       "      <td>14.9296</td>\n",
       "      <td>0.0</td>\n",
       "      <td>...</td>\n",
       "      <td>NaN</td>\n",
       "      <td>NaN</td>\n",
       "      <td>NaN</td>\n",
       "      <td>NaN</td>\n",
       "      <td>NaN</td>\n",
       "      <td>NaN</td>\n",
       "      <td>NaN</td>\n",
       "      <td>NaN</td>\n",
       "      <td>NaN</td>\n",
       "      <td>NaN</td>\n",
       "    </tr>\n",
       "    <tr>\n",
       "      <th>1</th>\n",
       "      <td>200010.0</td>\n",
       "      <td>108.0</td>\n",
       "      <td>36.055556</td>\n",
       "      <td>36.666667</td>\n",
       "      <td>98.0</td>\n",
       "      <td>100.0</td>\n",
       "      <td>6.0</td>\n",
       "      <td>22.0</td>\n",
       "      <td>NaN</td>\n",
       "      <td>3.0</td>\n",
       "      <td>...</td>\n",
       "      <td>66.6</td>\n",
       "      <td>66.6</td>\n",
       "      <td>12.9</td>\n",
       "      <td>25.2</td>\n",
       "      <td>0.4</td>\n",
       "      <td>NaN</td>\n",
       "      <td>NaN</td>\n",
       "      <td>NaN</td>\n",
       "      <td>NaN</td>\n",
       "      <td>NaN</td>\n",
       "    </tr>\n",
       "    <tr>\n",
       "      <th>2</th>\n",
       "      <td>200038.0</td>\n",
       "      <td>108.0</td>\n",
       "      <td>36.555556</td>\n",
       "      <td>36.888889</td>\n",
       "      <td>93.0</td>\n",
       "      <td>99.0</td>\n",
       "      <td>12.0</td>\n",
       "      <td>30.0</td>\n",
       "      <td>NaN</td>\n",
       "      <td>0.0</td>\n",
       "      <td>...</td>\n",
       "      <td>NaN</td>\n",
       "      <td>NaN</td>\n",
       "      <td>14.9</td>\n",
       "      <td>28.4</td>\n",
       "      <td>NaN</td>\n",
       "      <td>NaN</td>\n",
       "      <td>NaN</td>\n",
       "      <td>NaN</td>\n",
       "      <td>NaN</td>\n",
       "      <td>NaN</td>\n",
       "    </tr>\n",
       "    <tr>\n",
       "      <th>3</th>\n",
       "      <td>200049.0</td>\n",
       "      <td>100.0</td>\n",
       "      <td>36.444444</td>\n",
       "      <td>37.388889</td>\n",
       "      <td>88.0</td>\n",
       "      <td>100.0</td>\n",
       "      <td>11.0</td>\n",
       "      <td>27.0</td>\n",
       "      <td>NaN</td>\n",
       "      <td>5.0</td>\n",
       "      <td>...</td>\n",
       "      <td>NaN</td>\n",
       "      <td>NaN</td>\n",
       "      <td>20.8</td>\n",
       "      <td>NaN</td>\n",
       "      <td>4.1</td>\n",
       "      <td>NaN</td>\n",
       "      <td>NaN</td>\n",
       "      <td>NaN</td>\n",
       "      <td>NaN</td>\n",
       "      <td>NaN</td>\n",
       "    </tr>\n",
       "    <tr>\n",
       "      <th>4</th>\n",
       "      <td>200094.0</td>\n",
       "      <td>109.0</td>\n",
       "      <td>37.222222</td>\n",
       "      <td>37.611111</td>\n",
       "      <td>92.0</td>\n",
       "      <td>99.0</td>\n",
       "      <td>13.0</td>\n",
       "      <td>26.0</td>\n",
       "      <td>NaN</td>\n",
       "      <td>3.0</td>\n",
       "      <td>...</td>\n",
       "      <td>NaN</td>\n",
       "      <td>NaN</td>\n",
       "      <td>12.9</td>\n",
       "      <td>26.4</td>\n",
       "      <td>NaN</td>\n",
       "      <td>NaN</td>\n",
       "      <td>NaN</td>\n",
       "      <td>NaN</td>\n",
       "      <td>NaN</td>\n",
       "      <td>NaN</td>\n",
       "    </tr>\n",
       "    <tr>\n",
       "      <th>...</th>\n",
       "      <td>...</td>\n",
       "      <td>...</td>\n",
       "      <td>...</td>\n",
       "      <td>...</td>\n",
       "      <td>...</td>\n",
       "      <td>...</td>\n",
       "      <td>...</td>\n",
       "      <td>...</td>\n",
       "      <td>...</td>\n",
       "      <td>...</td>\n",
       "      <td>...</td>\n",
       "      <td>...</td>\n",
       "      <td>...</td>\n",
       "      <td>...</td>\n",
       "      <td>...</td>\n",
       "      <td>...</td>\n",
       "      <td>...</td>\n",
       "      <td>...</td>\n",
       "      <td>...</td>\n",
       "      <td>...</td>\n",
       "      <td>...</td>\n",
       "    </tr>\n",
       "    <tr>\n",
       "      <th>4065</th>\n",
       "      <td>299856.0</td>\n",
       "      <td>101.0</td>\n",
       "      <td>35.833333</td>\n",
       "      <td>39.444444</td>\n",
       "      <td>81.0</td>\n",
       "      <td>100.0</td>\n",
       "      <td>20.0</td>\n",
       "      <td>43.0</td>\n",
       "      <td>NaN</td>\n",
       "      <td>0.0</td>\n",
       "      <td>...</td>\n",
       "      <td>77.9</td>\n",
       "      <td>77.9</td>\n",
       "      <td>NaN</td>\n",
       "      <td>NaN</td>\n",
       "      <td>NaN</td>\n",
       "      <td>NaN</td>\n",
       "      <td>50.0</td>\n",
       "      <td>NaN</td>\n",
       "      <td>NaN</td>\n",
       "      <td>NaN</td>\n",
       "    </tr>\n",
       "    <tr>\n",
       "      <th>4066</th>\n",
       "      <td>299866.0</td>\n",
       "      <td>106.0</td>\n",
       "      <td>36.000000</td>\n",
       "      <td>37.888889</td>\n",
       "      <td>94.0</td>\n",
       "      <td>100.0</td>\n",
       "      <td>12.0</td>\n",
       "      <td>25.0</td>\n",
       "      <td>NaN</td>\n",
       "      <td>7.0</td>\n",
       "      <td>...</td>\n",
       "      <td>NaN</td>\n",
       "      <td>NaN</td>\n",
       "      <td>NaN</td>\n",
       "      <td>NaN</td>\n",
       "      <td>0.4</td>\n",
       "      <td>NaN</td>\n",
       "      <td>NaN</td>\n",
       "      <td>NaN</td>\n",
       "      <td>NaN</td>\n",
       "      <td>NaN</td>\n",
       "    </tr>\n",
       "    <tr>\n",
       "      <th>4067</th>\n",
       "      <td>299872.0</td>\n",
       "      <td>88.0</td>\n",
       "      <td>35.777778</td>\n",
       "      <td>37.277778</td>\n",
       "      <td>84.0</td>\n",
       "      <td>100.0</td>\n",
       "      <td>11.0</td>\n",
       "      <td>21.0</td>\n",
       "      <td>NaN</td>\n",
       "      <td>0.0</td>\n",
       "      <td>...</td>\n",
       "      <td>NaN</td>\n",
       "      <td>NaN</td>\n",
       "      <td>34.9</td>\n",
       "      <td>150.0</td>\n",
       "      <td>NaN</td>\n",
       "      <td>NaN</td>\n",
       "      <td>1.0</td>\n",
       "      <td>NaN</td>\n",
       "      <td>NaN</td>\n",
       "      <td>NaN</td>\n",
       "    </tr>\n",
       "    <tr>\n",
       "      <th>4068</th>\n",
       "      <td>299901.0</td>\n",
       "      <td>119.0</td>\n",
       "      <td>35.000000</td>\n",
       "      <td>36.000000</td>\n",
       "      <td>93.0</td>\n",
       "      <td>98.0</td>\n",
       "      <td>17.0</td>\n",
       "      <td>28.0</td>\n",
       "      <td>NaN</td>\n",
       "      <td>NaN</td>\n",
       "      <td>...</td>\n",
       "      <td>80.0</td>\n",
       "      <td>82.0</td>\n",
       "      <td>18.5</td>\n",
       "      <td>44.7</td>\n",
       "      <td>4.3</td>\n",
       "      <td>3.4</td>\n",
       "      <td>NaN</td>\n",
       "      <td>NaN</td>\n",
       "      <td>NaN</td>\n",
       "      <td>NaN</td>\n",
       "    </tr>\n",
       "    <tr>\n",
       "      <th>4069</th>\n",
       "      <td>299998.0</td>\n",
       "      <td>108.0</td>\n",
       "      <td>36.666667</td>\n",
       "      <td>37.166667</td>\n",
       "      <td>94.0</td>\n",
       "      <td>100.0</td>\n",
       "      <td>0.0</td>\n",
       "      <td>21.0</td>\n",
       "      <td>13.8632</td>\n",
       "      <td>8.0</td>\n",
       "      <td>...</td>\n",
       "      <td>77.0</td>\n",
       "      <td>77.0</td>\n",
       "      <td>12.9</td>\n",
       "      <td>28.9</td>\n",
       "      <td>NaN</td>\n",
       "      <td>NaN</td>\n",
       "      <td>40.0</td>\n",
       "      <td>5.0</td>\n",
       "      <td>5.0</td>\n",
       "      <td>1.0</td>\n",
       "    </tr>\n",
       "  </tbody>\n",
       "</table>\n",
       "<p>4070 rows × 38 columns</p>\n",
       "</div>"
      ],
      "text/plain": [
       "      ICUSTAY_ID     CL   temp_min   temp_max  spo2_min  spo2_max  resp_min  \\\n",
       "0       200001.0   98.0  35.277778  36.777778      87.0     100.0      15.0   \n",
       "1       200010.0  108.0  36.055556  36.666667      98.0     100.0       6.0   \n",
       "2       200038.0  108.0  36.555556  36.888889      93.0      99.0      12.0   \n",
       "3       200049.0  100.0  36.444444  37.388889      88.0     100.0      11.0   \n",
       "4       200094.0  109.0  37.222222  37.611111      92.0      99.0      13.0   \n",
       "...          ...    ...        ...        ...       ...       ...       ...   \n",
       "4065    299856.0  101.0  35.833333  39.444444      81.0     100.0      20.0   \n",
       "4066    299866.0  106.0  36.000000  37.888889      94.0     100.0      12.0   \n",
       "4067    299872.0   88.0  35.777778  37.277778      84.0     100.0      11.0   \n",
       "4068    299901.0  119.0  35.000000  36.000000      93.0      98.0      17.0   \n",
       "4069    299998.0  108.0  36.666667  37.166667      94.0     100.0       0.0   \n",
       "\n",
       "      resp_max      po2  pain  ...  NEUT_min  NEUT_max    PT    PTT  TBIL  \\\n",
       "0         29.0  14.9296   0.0  ...       NaN       NaN   NaN    NaN   NaN   \n",
       "1         22.0      NaN   3.0  ...      66.6      66.6  12.9   25.2   0.4   \n",
       "2         30.0      NaN   0.0  ...       NaN       NaN  14.9   28.4   NaN   \n",
       "3         27.0      NaN   5.0  ...       NaN       NaN  20.8    NaN   4.1   \n",
       "4         26.0      NaN   3.0  ...       NaN       NaN  12.9   26.4   NaN   \n",
       "...        ...      ...   ...  ...       ...       ...   ...    ...   ...   \n",
       "4065      43.0      NaN   0.0  ...      77.9      77.9   NaN    NaN   NaN   \n",
       "4066      25.0      NaN   7.0  ...       NaN       NaN   NaN    NaN   0.4   \n",
       "4067      21.0      NaN   0.0  ...       NaN       NaN  34.9  150.0   NaN   \n",
       "4068      28.0      NaN   NaN  ...      80.0      82.0  18.5   44.7   4.3   \n",
       "4069      21.0  13.8632   8.0  ...      77.0      77.0  12.9   28.9   NaN   \n",
       "\n",
       "      ALB  fio2  peep_min  peep_max  airway  \n",
       "0     NaN   NaN       NaN       NaN     NaN  \n",
       "1     NaN   NaN       NaN       NaN     NaN  \n",
       "2     NaN   NaN       NaN       NaN     NaN  \n",
       "3     NaN   NaN       NaN       NaN     NaN  \n",
       "4     NaN   NaN       NaN       NaN     NaN  \n",
       "...   ...   ...       ...       ...     ...  \n",
       "4065  NaN  50.0       NaN       NaN     NaN  \n",
       "4066  NaN   NaN       NaN       NaN     NaN  \n",
       "4067  NaN   1.0       NaN       NaN     NaN  \n",
       "4068  3.4   NaN       NaN       NaN     NaN  \n",
       "4069  NaN  40.0       5.0       5.0     1.0  \n",
       "\n",
       "[4070 rows x 38 columns]"
      ]
     },
     "execution_count": 149,
     "metadata": {},
     "output_type": "execute_result"
    }
   ],
   "source": [
    "thisFM"
   ]
  },
  {
   "cell_type": "code",
   "execution_count": 150,
   "metadata": {
    "pycharm": {
     "name": "#%%\n"
    }
   },
   "outputs": [
    {
     "data": {
      "text/plain": [
       "ICUSTAY_ID        0\n",
       "CL              107\n",
       "temp_min         19\n",
       "temp_max         19\n",
       "spo2_min         16\n",
       "spo2_max         16\n",
       "resp_min         17\n",
       "resp_max         17\n",
       "po2            3452\n",
       "pain            812\n",
       "na               96\n",
       "k                95\n",
       "hr_min           12\n",
       "hr_max           12\n",
       "pco2           3358\n",
       "haemoglobin     151\n",
       "creatinine      110\n",
       "bun             109\n",
       "bp_min           15\n",
       "bp_max           15\n",
       "WBC             151\n",
       "PLT             151\n",
       "GLU_min         102\n",
       "GLU_max         102\n",
       "hco3            110\n",
       "ALT            2651\n",
       "INR_min        1499\n",
       "INR_max        1499\n",
       "NEUT_min       3156\n",
       "NEUT_max       3156\n",
       "PT             1499\n",
       "PTT            1559\n",
       "TBIL           2632\n",
       "ALB            3262\n",
       "fio2           3109\n",
       "peep_min       3717\n",
       "peep_max       3717\n",
       "airway         4057\n",
       "dtype: int64"
      ]
     },
     "execution_count": 150,
     "metadata": {},
     "output_type": "execute_result"
    }
   ],
   "source": [
    "# 查看缺失值\n",
    "thisFM.isnull().sum()"
   ]
  },
  {
   "cell_type": "code",
   "execution_count": 153,
   "metadata": {},
   "outputs": [
    {
     "data": {
      "text/html": [
       "<div>\n",
       "<style scoped>\n",
       "    .dataframe tbody tr th:only-of-type {\n",
       "        vertical-align: middle;\n",
       "    }\n",
       "\n",
       "    .dataframe tbody tr th {\n",
       "        vertical-align: top;\n",
       "    }\n",
       "\n",
       "    .dataframe thead th {\n",
       "        text-align: right;\n",
       "    }\n",
       "</style>\n",
       "<table border=\"1\" class=\"dataframe\">\n",
       "  <thead>\n",
       "    <tr style=\"text-align: right;\">\n",
       "      <th></th>\n",
       "      <th>ICUSTAY_ID</th>\n",
       "      <th>CL</th>\n",
       "      <th>temp_min</th>\n",
       "      <th>temp_max</th>\n",
       "      <th>spo2_min</th>\n",
       "      <th>spo2_max</th>\n",
       "      <th>resp_min</th>\n",
       "      <th>resp_max</th>\n",
       "      <th>pain</th>\n",
       "      <th>na</th>\n",
       "      <th>...</th>\n",
       "      <th>haemoglobin</th>\n",
       "      <th>creatinine</th>\n",
       "      <th>bun</th>\n",
       "      <th>bp_min</th>\n",
       "      <th>bp_max</th>\n",
       "      <th>WBC</th>\n",
       "      <th>PLT</th>\n",
       "      <th>GLU_min</th>\n",
       "      <th>GLU_max</th>\n",
       "      <th>hco3</th>\n",
       "    </tr>\n",
       "  </thead>\n",
       "  <tbody>\n",
       "    <tr>\n",
       "      <th>0</th>\n",
       "      <td>200001.0</td>\n",
       "      <td>98.0</td>\n",
       "      <td>35.277778</td>\n",
       "      <td>36.777778</td>\n",
       "      <td>87.0</td>\n",
       "      <td>100.0</td>\n",
       "      <td>15.0</td>\n",
       "      <td>29.0</td>\n",
       "      <td>0.0</td>\n",
       "      <td>135.0</td>\n",
       "      <td>...</td>\n",
       "      <td>8.4</td>\n",
       "      <td>256.418</td>\n",
       "      <td>20.7118</td>\n",
       "      <td>84.0</td>\n",
       "      <td>135.0</td>\n",
       "      <td>3.4</td>\n",
       "      <td>168.0</td>\n",
       "      <td>99.0</td>\n",
       "      <td>99.0</td>\n",
       "      <td>28.0</td>\n",
       "    </tr>\n",
       "    <tr>\n",
       "      <th>1</th>\n",
       "      <td>200010.0</td>\n",
       "      <td>108.0</td>\n",
       "      <td>36.055556</td>\n",
       "      <td>36.666667</td>\n",
       "      <td>98.0</td>\n",
       "      <td>100.0</td>\n",
       "      <td>6.0</td>\n",
       "      <td>22.0</td>\n",
       "      <td>3.0</td>\n",
       "      <td>143.0</td>\n",
       "      <td>...</td>\n",
       "      <td>8.6</td>\n",
       "      <td>79.578</td>\n",
       "      <td>3.9281</td>\n",
       "      <td>115.0</td>\n",
       "      <td>157.0</td>\n",
       "      <td>10.0</td>\n",
       "      <td>227.0</td>\n",
       "      <td>127.0</td>\n",
       "      <td>127.0</td>\n",
       "      <td>26.0</td>\n",
       "    </tr>\n",
       "    <tr>\n",
       "      <th>2</th>\n",
       "      <td>200038.0</td>\n",
       "      <td>108.0</td>\n",
       "      <td>36.555556</td>\n",
       "      <td>36.888889</td>\n",
       "      <td>93.0</td>\n",
       "      <td>99.0</td>\n",
       "      <td>12.0</td>\n",
       "      <td>30.0</td>\n",
       "      <td>0.0</td>\n",
       "      <td>138.0</td>\n",
       "      <td>...</td>\n",
       "      <td>9.9</td>\n",
       "      <td>88.420</td>\n",
       "      <td>6.7849</td>\n",
       "      <td>111.0</td>\n",
       "      <td>206.0</td>\n",
       "      <td>10.6</td>\n",
       "      <td>208.0</td>\n",
       "      <td>120.0</td>\n",
       "      <td>120.0</td>\n",
       "      <td>23.0</td>\n",
       "    </tr>\n",
       "    <tr>\n",
       "      <th>3</th>\n",
       "      <td>200049.0</td>\n",
       "      <td>100.0</td>\n",
       "      <td>36.444444</td>\n",
       "      <td>37.388889</td>\n",
       "      <td>88.0</td>\n",
       "      <td>100.0</td>\n",
       "      <td>11.0</td>\n",
       "      <td>27.0</td>\n",
       "      <td>5.0</td>\n",
       "      <td>137.0</td>\n",
       "      <td>...</td>\n",
       "      <td>8.9</td>\n",
       "      <td>433.258</td>\n",
       "      <td>16.4266</td>\n",
       "      <td>95.0</td>\n",
       "      <td>143.0</td>\n",
       "      <td>17.1</td>\n",
       "      <td>105.0</td>\n",
       "      <td>187.0</td>\n",
       "      <td>209.0</td>\n",
       "      <td>26.0</td>\n",
       "    </tr>\n",
       "    <tr>\n",
       "      <th>4</th>\n",
       "      <td>200094.0</td>\n",
       "      <td>109.0</td>\n",
       "      <td>37.222222</td>\n",
       "      <td>37.611111</td>\n",
       "      <td>92.0</td>\n",
       "      <td>99.0</td>\n",
       "      <td>13.0</td>\n",
       "      <td>26.0</td>\n",
       "      <td>3.0</td>\n",
       "      <td>139.0</td>\n",
       "      <td>...</td>\n",
       "      <td>6.9</td>\n",
       "      <td>503.994</td>\n",
       "      <td>24.2828</td>\n",
       "      <td>137.0</td>\n",
       "      <td>166.0</td>\n",
       "      <td>1.3</td>\n",
       "      <td>70.0</td>\n",
       "      <td>105.0</td>\n",
       "      <td>136.0</td>\n",
       "      <td>18.0</td>\n",
       "    </tr>\n",
       "    <tr>\n",
       "      <th>...</th>\n",
       "      <td>...</td>\n",
       "      <td>...</td>\n",
       "      <td>...</td>\n",
       "      <td>...</td>\n",
       "      <td>...</td>\n",
       "      <td>...</td>\n",
       "      <td>...</td>\n",
       "      <td>...</td>\n",
       "      <td>...</td>\n",
       "      <td>...</td>\n",
       "      <td>...</td>\n",
       "      <td>...</td>\n",
       "      <td>...</td>\n",
       "      <td>...</td>\n",
       "      <td>...</td>\n",
       "      <td>...</td>\n",
       "      <td>...</td>\n",
       "      <td>...</td>\n",
       "      <td>...</td>\n",
       "      <td>...</td>\n",
       "      <td>...</td>\n",
       "    </tr>\n",
       "    <tr>\n",
       "      <th>4065</th>\n",
       "      <td>299856.0</td>\n",
       "      <td>101.0</td>\n",
       "      <td>35.833333</td>\n",
       "      <td>39.444444</td>\n",
       "      <td>81.0</td>\n",
       "      <td>100.0</td>\n",
       "      <td>20.0</td>\n",
       "      <td>43.0</td>\n",
       "      <td>0.0</td>\n",
       "      <td>134.0</td>\n",
       "      <td>...</td>\n",
       "      <td>11.0</td>\n",
       "      <td>79.578</td>\n",
       "      <td>4.6423</td>\n",
       "      <td>94.0</td>\n",
       "      <td>139.0</td>\n",
       "      <td>6.0</td>\n",
       "      <td>120.0</td>\n",
       "      <td>105.0</td>\n",
       "      <td>135.0</td>\n",
       "      <td>27.0</td>\n",
       "    </tr>\n",
       "    <tr>\n",
       "      <th>4066</th>\n",
       "      <td>299866.0</td>\n",
       "      <td>106.0</td>\n",
       "      <td>36.000000</td>\n",
       "      <td>37.888889</td>\n",
       "      <td>94.0</td>\n",
       "      <td>100.0</td>\n",
       "      <td>12.0</td>\n",
       "      <td>25.0</td>\n",
       "      <td>7.0</td>\n",
       "      <td>138.0</td>\n",
       "      <td>...</td>\n",
       "      <td>9.7</td>\n",
       "      <td>79.578</td>\n",
       "      <td>7.4991</td>\n",
       "      <td>122.0</td>\n",
       "      <td>180.0</td>\n",
       "      <td>12.9</td>\n",
       "      <td>170.0</td>\n",
       "      <td>111.0</td>\n",
       "      <td>111.0</td>\n",
       "      <td>27.0</td>\n",
       "    </tr>\n",
       "    <tr>\n",
       "      <th>4067</th>\n",
       "      <td>299872.0</td>\n",
       "      <td>88.0</td>\n",
       "      <td>35.777778</td>\n",
       "      <td>37.277778</td>\n",
       "      <td>84.0</td>\n",
       "      <td>100.0</td>\n",
       "      <td>11.0</td>\n",
       "      <td>21.0</td>\n",
       "      <td>0.0</td>\n",
       "      <td>132.0</td>\n",
       "      <td>...</td>\n",
       "      <td>9.1</td>\n",
       "      <td>229.892</td>\n",
       "      <td>20.3547</td>\n",
       "      <td>93.0</td>\n",
       "      <td>148.0</td>\n",
       "      <td>14.2</td>\n",
       "      <td>288.0</td>\n",
       "      <td>52.0</td>\n",
       "      <td>52.0</td>\n",
       "      <td>33.0</td>\n",
       "    </tr>\n",
       "    <tr>\n",
       "      <th>4068</th>\n",
       "      <td>299901.0</td>\n",
       "      <td>119.0</td>\n",
       "      <td>35.000000</td>\n",
       "      <td>36.000000</td>\n",
       "      <td>93.0</td>\n",
       "      <td>98.0</td>\n",
       "      <td>17.0</td>\n",
       "      <td>28.0</td>\n",
       "      <td>NaN</td>\n",
       "      <td>149.0</td>\n",
       "      <td>...</td>\n",
       "      <td>12.7</td>\n",
       "      <td>123.788</td>\n",
       "      <td>13.2127</td>\n",
       "      <td>108.0</td>\n",
       "      <td>147.0</td>\n",
       "      <td>21.9</td>\n",
       "      <td>122.0</td>\n",
       "      <td>93.0</td>\n",
       "      <td>144.0</td>\n",
       "      <td>19.0</td>\n",
       "    </tr>\n",
       "    <tr>\n",
       "      <th>4069</th>\n",
       "      <td>299998.0</td>\n",
       "      <td>108.0</td>\n",
       "      <td>36.666667</td>\n",
       "      <td>37.166667</td>\n",
       "      <td>94.0</td>\n",
       "      <td>100.0</td>\n",
       "      <td>0.0</td>\n",
       "      <td>21.0</td>\n",
       "      <td>8.0</td>\n",
       "      <td>140.0</td>\n",
       "      <td>...</td>\n",
       "      <td>9.5</td>\n",
       "      <td>97.262</td>\n",
       "      <td>7.4991</td>\n",
       "      <td>77.0</td>\n",
       "      <td>196.0</td>\n",
       "      <td>7.9</td>\n",
       "      <td>196.0</td>\n",
       "      <td>130.0</td>\n",
       "      <td>206.0</td>\n",
       "      <td>24.0</td>\n",
       "    </tr>\n",
       "  </tbody>\n",
       "</table>\n",
       "<p>4070 rows × 23 columns</p>\n",
       "</div>"
      ],
      "text/plain": [
       "      ICUSTAY_ID     CL   temp_min   temp_max  spo2_min  spo2_max  resp_min  \\\n",
       "0       200001.0   98.0  35.277778  36.777778      87.0     100.0      15.0   \n",
       "1       200010.0  108.0  36.055556  36.666667      98.0     100.0       6.0   \n",
       "2       200038.0  108.0  36.555556  36.888889      93.0      99.0      12.0   \n",
       "3       200049.0  100.0  36.444444  37.388889      88.0     100.0      11.0   \n",
       "4       200094.0  109.0  37.222222  37.611111      92.0      99.0      13.0   \n",
       "...          ...    ...        ...        ...       ...       ...       ...   \n",
       "4065    299856.0  101.0  35.833333  39.444444      81.0     100.0      20.0   \n",
       "4066    299866.0  106.0  36.000000  37.888889      94.0     100.0      12.0   \n",
       "4067    299872.0   88.0  35.777778  37.277778      84.0     100.0      11.0   \n",
       "4068    299901.0  119.0  35.000000  36.000000      93.0      98.0      17.0   \n",
       "4069    299998.0  108.0  36.666667  37.166667      94.0     100.0       0.0   \n",
       "\n",
       "      resp_max  pain     na  ...  haemoglobin  creatinine      bun  bp_min  \\\n",
       "0         29.0   0.0  135.0  ...          8.4     256.418  20.7118    84.0   \n",
       "1         22.0   3.0  143.0  ...          8.6      79.578   3.9281   115.0   \n",
       "2         30.0   0.0  138.0  ...          9.9      88.420   6.7849   111.0   \n",
       "3         27.0   5.0  137.0  ...          8.9     433.258  16.4266    95.0   \n",
       "4         26.0   3.0  139.0  ...          6.9     503.994  24.2828   137.0   \n",
       "...        ...   ...    ...  ...          ...         ...      ...     ...   \n",
       "4065      43.0   0.0  134.0  ...         11.0      79.578   4.6423    94.0   \n",
       "4066      25.0   7.0  138.0  ...          9.7      79.578   7.4991   122.0   \n",
       "4067      21.0   0.0  132.0  ...          9.1     229.892  20.3547    93.0   \n",
       "4068      28.0   NaN  149.0  ...         12.7     123.788  13.2127   108.0   \n",
       "4069      21.0   8.0  140.0  ...          9.5      97.262   7.4991    77.0   \n",
       "\n",
       "      bp_max   WBC    PLT  GLU_min  GLU_max  hco3  \n",
       "0      135.0   3.4  168.0     99.0     99.0  28.0  \n",
       "1      157.0  10.0  227.0    127.0    127.0  26.0  \n",
       "2      206.0  10.6  208.0    120.0    120.0  23.0  \n",
       "3      143.0  17.1  105.0    187.0    209.0  26.0  \n",
       "4      166.0   1.3   70.0    105.0    136.0  18.0  \n",
       "...      ...   ...    ...      ...      ...   ...  \n",
       "4065   139.0   6.0  120.0    105.0    135.0  27.0  \n",
       "4066   180.0  12.9  170.0    111.0    111.0  27.0  \n",
       "4067   148.0  14.2  288.0     52.0     52.0  33.0  \n",
       "4068   147.0  21.9  122.0     93.0    144.0  19.0  \n",
       "4069   196.0   7.9  196.0    130.0    206.0  24.0  \n",
       "\n",
       "[4070 rows x 23 columns]"
      ]
     },
     "execution_count": 153,
     "metadata": {},
     "output_type": "execute_result"
    }
   ],
   "source": [
    "# 删除缺失值过多的列\n",
    "columns_drop = ['po2','pco2','ALT','INR_min','INR_max','NEUT_min','NEUT_max','PT','PTT','TBIL','ALB','fio2','peep_min','peep_max','airway']\n",
    "thisFM=thisFM.drop(columns=columns_drop,axis=1)\n",
    "thisFM"
   ]
  },
  {
   "cell_type": "code",
   "execution_count": 193,
   "metadata": {},
   "outputs": [],
   "source": [
    "# 重新赋值（丢弃了部分列）\n",
    "single_feature_variables = ['k', 'na', 'bun', 'creatinine', 'hco3', 'haemoglobin', 'fio2', 'airway',  'pain',\n",
    "                           'WBC','PLT','CL','LA'\n",
    "                           ]"
   ]
  },
  {
   "cell_type": "code",
   "execution_count": 155,
   "metadata": {
    "pycharm": {
     "name": "#%%\n"
    }
   },
   "outputs": [],
   "source": [
    "thisFM=FM"
   ]
  },
  {
   "cell_type": "code",
   "execution_count": 154,
   "metadata": {
    "pycharm": {
     "name": "#%%\n"
    }
   },
   "outputs": [],
   "source": [
    "FM = thisFM"
   ]
  },
  {
   "cell_type": "code",
   "execution_count": null,
   "metadata": {
    "pycharm": {
     "name": "#%%\n"
    }
   },
   "outputs": [],
   "source": []
  },
  {
   "cell_type": "markdown",
   "metadata": {},
   "source": [
    "How many missing values are there in this feature matrix?\n",
    "在这个特征矩阵中有多少缺失值?"
   ]
  },
  {
   "cell_type": "code",
   "execution_count": 156,
   "metadata": {
    "pycharm": {
     "name": "#%%\n"
    }
   },
   "outputs": [],
   "source": [
    "nrows = float(len(FM))\n",
    "\n",
    "# missing_data = graphlab.SFrame()\n",
    "missing_data = pd.DataFrame()\n",
    "vname = []\n",
    "miss_freq = []"
   ]
  },
  {
   "cell_type": "code",
   "execution_count": 157,
   "metadata": {
    "pycharm": {
     "name": "#%%\n"
    }
   },
   "outputs": [
    {
     "name": "stdout",
     "output_type": "stream",
     "text": [
      "       variable  fraction missing\n",
      "0    ICUSTAY_ID          0.023342\n",
      "20      GLU_min          0.023342\n",
      "19          PLT          0.023342\n",
      "18          WBC          0.023342\n",
      "17       bp_max          0.023342\n",
      "16       bp_min          0.023342\n",
      "15          bun          0.023342\n",
      "14   creatinine          0.023342\n",
      "13  haemoglobin          0.023342\n",
      "12       hr_max          0.023342\n",
      "21      GLU_max          0.023342\n",
      "11       hr_min          0.023342\n",
      "9            na          0.023342\n",
      "8          pain          0.023342\n",
      "7      resp_max          0.023342\n",
      "6      resp_min          0.023342\n",
      "5      spo2_max          0.023342\n",
      "4      spo2_min          0.023342\n",
      "3      temp_max          0.023342\n",
      "2      temp_min          0.023342\n",
      "1            CL          0.023342\n",
      "10            k          0.023342\n",
      "22         hco3          0.023342\n"
     ]
    }
   ],
   "source": [
    "# for col in FM.column_names():\n",
    "for col in FM.columns:\n",
    "    vname.append(col)\n",
    "    # miss_freq.append(sum(FM[col]==None)/nrows)\n",
    "    miss_freq.append((FM['k'].isnull().sum())/nrows)\n",
    "\n",
    "missing_data['variable'] = vname\n",
    "missing_data['fraction missing'] = miss_freq\n",
    "\n",
    "missing_data = missing_data.sort_values(by='fraction missing', ascending=True)\n",
    "# missing_data.print_rows(num_rows=25)\n",
    "rows = missing_data.iloc[0:25]\n",
    "print(rows)"
   ]
  },
  {
   "cell_type": "code",
   "execution_count": 158,
   "metadata": {
    "pycharm": {
     "name": "#%%\n"
    }
   },
   "outputs": [
    {
     "data": {
      "text/html": [
       "<div>\n",
       "<style scoped>\n",
       "    .dataframe tbody tr th:only-of-type {\n",
       "        vertical-align: middle;\n",
       "    }\n",
       "\n",
       "    .dataframe tbody tr th {\n",
       "        vertical-align: top;\n",
       "    }\n",
       "\n",
       "    .dataframe thead th {\n",
       "        text-align: right;\n",
       "    }\n",
       "</style>\n",
       "<table border=\"1\" class=\"dataframe\">\n",
       "  <thead>\n",
       "    <tr style=\"text-align: right;\">\n",
       "      <th></th>\n",
       "      <th>variable</th>\n",
       "      <th>fraction missing</th>\n",
       "    </tr>\n",
       "  </thead>\n",
       "  <tbody>\n",
       "    <tr>\n",
       "      <th>0</th>\n",
       "      <td>ICUSTAY_ID</td>\n",
       "      <td>0.023342</td>\n",
       "    </tr>\n",
       "    <tr>\n",
       "      <th>20</th>\n",
       "      <td>GLU_min</td>\n",
       "      <td>0.023342</td>\n",
       "    </tr>\n",
       "    <tr>\n",
       "      <th>19</th>\n",
       "      <td>PLT</td>\n",
       "      <td>0.023342</td>\n",
       "    </tr>\n",
       "    <tr>\n",
       "      <th>18</th>\n",
       "      <td>WBC</td>\n",
       "      <td>0.023342</td>\n",
       "    </tr>\n",
       "    <tr>\n",
       "      <th>17</th>\n",
       "      <td>bp_max</td>\n",
       "      <td>0.023342</td>\n",
       "    </tr>\n",
       "    <tr>\n",
       "      <th>16</th>\n",
       "      <td>bp_min</td>\n",
       "      <td>0.023342</td>\n",
       "    </tr>\n",
       "    <tr>\n",
       "      <th>15</th>\n",
       "      <td>bun</td>\n",
       "      <td>0.023342</td>\n",
       "    </tr>\n",
       "    <tr>\n",
       "      <th>14</th>\n",
       "      <td>creatinine</td>\n",
       "      <td>0.023342</td>\n",
       "    </tr>\n",
       "    <tr>\n",
       "      <th>13</th>\n",
       "      <td>haemoglobin</td>\n",
       "      <td>0.023342</td>\n",
       "    </tr>\n",
       "    <tr>\n",
       "      <th>12</th>\n",
       "      <td>hr_max</td>\n",
       "      <td>0.023342</td>\n",
       "    </tr>\n",
       "    <tr>\n",
       "      <th>21</th>\n",
       "      <td>GLU_max</td>\n",
       "      <td>0.023342</td>\n",
       "    </tr>\n",
       "    <tr>\n",
       "      <th>11</th>\n",
       "      <td>hr_min</td>\n",
       "      <td>0.023342</td>\n",
       "    </tr>\n",
       "    <tr>\n",
       "      <th>9</th>\n",
       "      <td>na</td>\n",
       "      <td>0.023342</td>\n",
       "    </tr>\n",
       "    <tr>\n",
       "      <th>8</th>\n",
       "      <td>pain</td>\n",
       "      <td>0.023342</td>\n",
       "    </tr>\n",
       "    <tr>\n",
       "      <th>7</th>\n",
       "      <td>resp_max</td>\n",
       "      <td>0.023342</td>\n",
       "    </tr>\n",
       "    <tr>\n",
       "      <th>6</th>\n",
       "      <td>resp_min</td>\n",
       "      <td>0.023342</td>\n",
       "    </tr>\n",
       "    <tr>\n",
       "      <th>5</th>\n",
       "      <td>spo2_max</td>\n",
       "      <td>0.023342</td>\n",
       "    </tr>\n",
       "    <tr>\n",
       "      <th>4</th>\n",
       "      <td>spo2_min</td>\n",
       "      <td>0.023342</td>\n",
       "    </tr>\n",
       "    <tr>\n",
       "      <th>3</th>\n",
       "      <td>temp_max</td>\n",
       "      <td>0.023342</td>\n",
       "    </tr>\n",
       "    <tr>\n",
       "      <th>2</th>\n",
       "      <td>temp_min</td>\n",
       "      <td>0.023342</td>\n",
       "    </tr>\n",
       "    <tr>\n",
       "      <th>1</th>\n",
       "      <td>CL</td>\n",
       "      <td>0.023342</td>\n",
       "    </tr>\n",
       "    <tr>\n",
       "      <th>10</th>\n",
       "      <td>k</td>\n",
       "      <td>0.023342</td>\n",
       "    </tr>\n",
       "    <tr>\n",
       "      <th>22</th>\n",
       "      <td>hco3</td>\n",
       "      <td>0.023342</td>\n",
       "    </tr>\n",
       "  </tbody>\n",
       "</table>\n",
       "</div>"
      ],
      "text/plain": [
       "       variable  fraction missing\n",
       "0    ICUSTAY_ID          0.023342\n",
       "20      GLU_min          0.023342\n",
       "19          PLT          0.023342\n",
       "18          WBC          0.023342\n",
       "17       bp_max          0.023342\n",
       "16       bp_min          0.023342\n",
       "15          bun          0.023342\n",
       "14   creatinine          0.023342\n",
       "13  haemoglobin          0.023342\n",
       "12       hr_max          0.023342\n",
       "21      GLU_max          0.023342\n",
       "11       hr_min          0.023342\n",
       "9            na          0.023342\n",
       "8          pain          0.023342\n",
       "7      resp_max          0.023342\n",
       "6      resp_min          0.023342\n",
       "5      spo2_max          0.023342\n",
       "4      spo2_min          0.023342\n",
       "3      temp_max          0.023342\n",
       "2      temp_min          0.023342\n",
       "1            CL          0.023342\n",
       "10            k          0.023342\n",
       "22         hco3          0.023342"
      ]
     },
     "execution_count": 158,
     "metadata": {},
     "output_type": "execute_result"
    }
   ],
   "source": [
    "missing_data1=missing_data\n",
    "missing_data1"
   ]
  },
  {
   "cell_type": "code",
   "execution_count": 159,
   "metadata": {
    "pycharm": {
     "name": "#%%\n"
    }
   },
   "outputs": [
    {
     "data": {
      "text/html": [
       "<div>\n",
       "<style scoped>\n",
       "    .dataframe tbody tr th:only-of-type {\n",
       "        vertical-align: middle;\n",
       "    }\n",
       "\n",
       "    .dataframe tbody tr th {\n",
       "        vertical-align: top;\n",
       "    }\n",
       "\n",
       "    .dataframe thead th {\n",
       "        text-align: right;\n",
       "    }\n",
       "</style>\n",
       "<table border=\"1\" class=\"dataframe\">\n",
       "  <thead>\n",
       "    <tr style=\"text-align: right;\">\n",
       "      <th></th>\n",
       "      <th>variable</th>\n",
       "      <th>fraction missing</th>\n",
       "    </tr>\n",
       "  </thead>\n",
       "  <tbody>\n",
       "    <tr>\n",
       "      <th>0</th>\n",
       "      <td>ICUSTAY_ID</td>\n",
       "      <td>0.023342</td>\n",
       "    </tr>\n",
       "    <tr>\n",
       "      <th>1</th>\n",
       "      <td>GLU_min</td>\n",
       "      <td>0.023342</td>\n",
       "    </tr>\n",
       "    <tr>\n",
       "      <th>2</th>\n",
       "      <td>PLT</td>\n",
       "      <td>0.023342</td>\n",
       "    </tr>\n",
       "    <tr>\n",
       "      <th>3</th>\n",
       "      <td>WBC</td>\n",
       "      <td>0.023342</td>\n",
       "    </tr>\n",
       "    <tr>\n",
       "      <th>4</th>\n",
       "      <td>bp_max</td>\n",
       "      <td>0.023342</td>\n",
       "    </tr>\n",
       "    <tr>\n",
       "      <th>5</th>\n",
       "      <td>bp_min</td>\n",
       "      <td>0.023342</td>\n",
       "    </tr>\n",
       "    <tr>\n",
       "      <th>6</th>\n",
       "      <td>bun</td>\n",
       "      <td>0.023342</td>\n",
       "    </tr>\n",
       "    <tr>\n",
       "      <th>7</th>\n",
       "      <td>creatinine</td>\n",
       "      <td>0.023342</td>\n",
       "    </tr>\n",
       "    <tr>\n",
       "      <th>8</th>\n",
       "      <td>haemoglobin</td>\n",
       "      <td>0.023342</td>\n",
       "    </tr>\n",
       "    <tr>\n",
       "      <th>9</th>\n",
       "      <td>hr_max</td>\n",
       "      <td>0.023342</td>\n",
       "    </tr>\n",
       "    <tr>\n",
       "      <th>10</th>\n",
       "      <td>GLU_max</td>\n",
       "      <td>0.023342</td>\n",
       "    </tr>\n",
       "    <tr>\n",
       "      <th>11</th>\n",
       "      <td>hr_min</td>\n",
       "      <td>0.023342</td>\n",
       "    </tr>\n",
       "    <tr>\n",
       "      <th>12</th>\n",
       "      <td>na</td>\n",
       "      <td>0.023342</td>\n",
       "    </tr>\n",
       "    <tr>\n",
       "      <th>13</th>\n",
       "      <td>pain</td>\n",
       "      <td>0.023342</td>\n",
       "    </tr>\n",
       "    <tr>\n",
       "      <th>14</th>\n",
       "      <td>resp_max</td>\n",
       "      <td>0.023342</td>\n",
       "    </tr>\n",
       "    <tr>\n",
       "      <th>15</th>\n",
       "      <td>resp_min</td>\n",
       "      <td>0.023342</td>\n",
       "    </tr>\n",
       "    <tr>\n",
       "      <th>16</th>\n",
       "      <td>spo2_max</td>\n",
       "      <td>0.023342</td>\n",
       "    </tr>\n",
       "    <tr>\n",
       "      <th>17</th>\n",
       "      <td>spo2_min</td>\n",
       "      <td>0.023342</td>\n",
       "    </tr>\n",
       "    <tr>\n",
       "      <th>18</th>\n",
       "      <td>temp_max</td>\n",
       "      <td>0.023342</td>\n",
       "    </tr>\n",
       "    <tr>\n",
       "      <th>19</th>\n",
       "      <td>temp_min</td>\n",
       "      <td>0.023342</td>\n",
       "    </tr>\n",
       "    <tr>\n",
       "      <th>20</th>\n",
       "      <td>CL</td>\n",
       "      <td>0.023342</td>\n",
       "    </tr>\n",
       "    <tr>\n",
       "      <th>21</th>\n",
       "      <td>k</td>\n",
       "      <td>0.023342</td>\n",
       "    </tr>\n",
       "    <tr>\n",
       "      <th>22</th>\n",
       "      <td>hco3</td>\n",
       "      <td>0.023342</td>\n",
       "    </tr>\n",
       "  </tbody>\n",
       "</table>\n",
       "</div>"
      ],
      "text/plain": [
       "       variable  fraction missing\n",
       "0    ICUSTAY_ID          0.023342\n",
       "1       GLU_min          0.023342\n",
       "2           PLT          0.023342\n",
       "3           WBC          0.023342\n",
       "4        bp_max          0.023342\n",
       "5        bp_min          0.023342\n",
       "6           bun          0.023342\n",
       "7    creatinine          0.023342\n",
       "8   haemoglobin          0.023342\n",
       "9        hr_max          0.023342\n",
       "10      GLU_max          0.023342\n",
       "11       hr_min          0.023342\n",
       "12           na          0.023342\n",
       "13         pain          0.023342\n",
       "14     resp_max          0.023342\n",
       "15     resp_min          0.023342\n",
       "16     spo2_max          0.023342\n",
       "17     spo2_min          0.023342\n",
       "18     temp_max          0.023342\n",
       "19     temp_min          0.023342\n",
       "20           CL          0.023342\n",
       "21            k          0.023342\n",
       "22         hco3          0.023342"
      ]
     },
     "execution_count": 159,
     "metadata": {},
     "output_type": "execute_result"
    }
   ],
   "source": [
    "missing_data2=missing_data1.reset_index(drop=True)\n",
    "missing_data2"
   ]
  },
  {
   "cell_type": "markdown",
   "metadata": {
    "pycharm": {
     "name": "#%% md\n"
    }
   },
   "source": [
    "Some variables have a very high frequency of missing values.\n",
    "We decided to improve this by relaxing the 4 hour measurement window of the NLD criteria - SEE BLEOW.\n",
    "In some cases (e.g. laboratory results) this is clearly too short a window and is producing lots of missingness.\n",
    "有些变量丢失值的频率很高。我们决定通过放宽全国民主联盟标准的4小时测量窗口来改进这一点-见BLEOW。\n",
    "在某些情况下(如实验室结果)，这显然是一个太短的窗口，并产生许多缺失。"
   ]
  },
  {
   "cell_type": "code",
   "execution_count": 160,
   "metadata": {
    "pycharm": {
     "name": "#%%\n"
    }
   },
   "outputs": [],
   "source": [
    "missing_data_summary['variable'] = missing_data['variable']\n",
    "# missing_data_summary = missing_data_summary.join(how='inner',on='variable',right=missing_data)\n",
    "missing_data_summary = pd.merge(missing_data_summary,missing_data, how='inner', on='variable')\n",
    "missing_data_summary = missing_data_summary.rename({'fraction missing':'mimic_4hr'})\n",
    "\n",
    "# all_data = all_data.join(_stays_join, how='inner', on='C.ICUSTAY_ID')\n",
    "# all_data = pd.merge(all_data,_stays_join, how='inner', on='C.ICUSTAY_ID')"
   ]
  },
  {
   "cell_type": "markdown",
   "metadata": {
    "pycharm": {
     "name": "#%% md\n"
    }
   },
   "source": [
    "Here we fill airway since absence -> no ETT at this time and therefore patent airway:\n",
    "在这里，我们填补了缺失的气道->此时没有ETT，因此气道通畅:\n",
    "多了一个airway"
   ]
  },
  {
   "cell_type": "code",
   "execution_count": 161,
   "metadata": {
    "pycharm": {
     "name": "#%%\n"
    }
   },
   "outputs": [],
   "source": [
    "FM_filled = FM.copy()\n",
    "# FM_filled = FM_filled.fillna(column='airway', value=0.0)"
   ]
  },
  {
   "cell_type": "code",
   "execution_count": 162,
   "metadata": {
    "pycharm": {
     "name": "#%%\n"
    }
   },
   "outputs": [
    {
     "data": {
      "text/html": [
       "<div>\n",
       "<style scoped>\n",
       "    .dataframe tbody tr th:only-of-type {\n",
       "        vertical-align: middle;\n",
       "    }\n",
       "\n",
       "    .dataframe tbody tr th {\n",
       "        vertical-align: top;\n",
       "    }\n",
       "\n",
       "    .dataframe thead th {\n",
       "        text-align: right;\n",
       "    }\n",
       "</style>\n",
       "<table border=\"1\" class=\"dataframe\">\n",
       "  <thead>\n",
       "    <tr style=\"text-align: right;\">\n",
       "      <th></th>\n",
       "      <th>ICUSTAY_ID</th>\n",
       "      <th>CL</th>\n",
       "      <th>temp_min</th>\n",
       "      <th>temp_max</th>\n",
       "      <th>spo2_min</th>\n",
       "      <th>spo2_max</th>\n",
       "      <th>resp_min</th>\n",
       "      <th>resp_max</th>\n",
       "      <th>pain</th>\n",
       "      <th>na</th>\n",
       "      <th>...</th>\n",
       "      <th>creatinine</th>\n",
       "      <th>bun</th>\n",
       "      <th>bp_min</th>\n",
       "      <th>bp_max</th>\n",
       "      <th>WBC</th>\n",
       "      <th>PLT</th>\n",
       "      <th>GLU_min</th>\n",
       "      <th>GLU_max</th>\n",
       "      <th>hco3</th>\n",
       "      <th>airway</th>\n",
       "    </tr>\n",
       "  </thead>\n",
       "  <tbody>\n",
       "    <tr>\n",
       "      <th>0</th>\n",
       "      <td>200001.0</td>\n",
       "      <td>98.0</td>\n",
       "      <td>35.277778</td>\n",
       "      <td>36.777778</td>\n",
       "      <td>87.0</td>\n",
       "      <td>100.0</td>\n",
       "      <td>15.0</td>\n",
       "      <td>29.0</td>\n",
       "      <td>0.0</td>\n",
       "      <td>135.0</td>\n",
       "      <td>...</td>\n",
       "      <td>256.418</td>\n",
       "      <td>20.7118</td>\n",
       "      <td>84.0</td>\n",
       "      <td>135.0</td>\n",
       "      <td>3.4</td>\n",
       "      <td>168.0</td>\n",
       "      <td>99.0</td>\n",
       "      <td>99.0</td>\n",
       "      <td>28.0</td>\n",
       "      <td>0.0</td>\n",
       "    </tr>\n",
       "    <tr>\n",
       "      <th>1</th>\n",
       "      <td>200010.0</td>\n",
       "      <td>108.0</td>\n",
       "      <td>36.055556</td>\n",
       "      <td>36.666667</td>\n",
       "      <td>98.0</td>\n",
       "      <td>100.0</td>\n",
       "      <td>6.0</td>\n",
       "      <td>22.0</td>\n",
       "      <td>3.0</td>\n",
       "      <td>143.0</td>\n",
       "      <td>...</td>\n",
       "      <td>79.578</td>\n",
       "      <td>3.9281</td>\n",
       "      <td>115.0</td>\n",
       "      <td>157.0</td>\n",
       "      <td>10.0</td>\n",
       "      <td>227.0</td>\n",
       "      <td>127.0</td>\n",
       "      <td>127.0</td>\n",
       "      <td>26.0</td>\n",
       "      <td>0.0</td>\n",
       "    </tr>\n",
       "    <tr>\n",
       "      <th>2</th>\n",
       "      <td>200038.0</td>\n",
       "      <td>108.0</td>\n",
       "      <td>36.555556</td>\n",
       "      <td>36.888889</td>\n",
       "      <td>93.0</td>\n",
       "      <td>99.0</td>\n",
       "      <td>12.0</td>\n",
       "      <td>30.0</td>\n",
       "      <td>0.0</td>\n",
       "      <td>138.0</td>\n",
       "      <td>...</td>\n",
       "      <td>88.420</td>\n",
       "      <td>6.7849</td>\n",
       "      <td>111.0</td>\n",
       "      <td>206.0</td>\n",
       "      <td>10.6</td>\n",
       "      <td>208.0</td>\n",
       "      <td>120.0</td>\n",
       "      <td>120.0</td>\n",
       "      <td>23.0</td>\n",
       "      <td>0.0</td>\n",
       "    </tr>\n",
       "    <tr>\n",
       "      <th>3</th>\n",
       "      <td>200049.0</td>\n",
       "      <td>100.0</td>\n",
       "      <td>36.444444</td>\n",
       "      <td>37.388889</td>\n",
       "      <td>88.0</td>\n",
       "      <td>100.0</td>\n",
       "      <td>11.0</td>\n",
       "      <td>27.0</td>\n",
       "      <td>5.0</td>\n",
       "      <td>137.0</td>\n",
       "      <td>...</td>\n",
       "      <td>433.258</td>\n",
       "      <td>16.4266</td>\n",
       "      <td>95.0</td>\n",
       "      <td>143.0</td>\n",
       "      <td>17.1</td>\n",
       "      <td>105.0</td>\n",
       "      <td>187.0</td>\n",
       "      <td>209.0</td>\n",
       "      <td>26.0</td>\n",
       "      <td>0.0</td>\n",
       "    </tr>\n",
       "    <tr>\n",
       "      <th>4</th>\n",
       "      <td>200094.0</td>\n",
       "      <td>109.0</td>\n",
       "      <td>37.222222</td>\n",
       "      <td>37.611111</td>\n",
       "      <td>92.0</td>\n",
       "      <td>99.0</td>\n",
       "      <td>13.0</td>\n",
       "      <td>26.0</td>\n",
       "      <td>3.0</td>\n",
       "      <td>139.0</td>\n",
       "      <td>...</td>\n",
       "      <td>503.994</td>\n",
       "      <td>24.2828</td>\n",
       "      <td>137.0</td>\n",
       "      <td>166.0</td>\n",
       "      <td>1.3</td>\n",
       "      <td>70.0</td>\n",
       "      <td>105.0</td>\n",
       "      <td>136.0</td>\n",
       "      <td>18.0</td>\n",
       "      <td>0.0</td>\n",
       "    </tr>\n",
       "    <tr>\n",
       "      <th>...</th>\n",
       "      <td>...</td>\n",
       "      <td>...</td>\n",
       "      <td>...</td>\n",
       "      <td>...</td>\n",
       "      <td>...</td>\n",
       "      <td>...</td>\n",
       "      <td>...</td>\n",
       "      <td>...</td>\n",
       "      <td>...</td>\n",
       "      <td>...</td>\n",
       "      <td>...</td>\n",
       "      <td>...</td>\n",
       "      <td>...</td>\n",
       "      <td>...</td>\n",
       "      <td>...</td>\n",
       "      <td>...</td>\n",
       "      <td>...</td>\n",
       "      <td>...</td>\n",
       "      <td>...</td>\n",
       "      <td>...</td>\n",
       "      <td>...</td>\n",
       "    </tr>\n",
       "    <tr>\n",
       "      <th>4065</th>\n",
       "      <td>299856.0</td>\n",
       "      <td>101.0</td>\n",
       "      <td>35.833333</td>\n",
       "      <td>39.444444</td>\n",
       "      <td>81.0</td>\n",
       "      <td>100.0</td>\n",
       "      <td>20.0</td>\n",
       "      <td>43.0</td>\n",
       "      <td>0.0</td>\n",
       "      <td>134.0</td>\n",
       "      <td>...</td>\n",
       "      <td>79.578</td>\n",
       "      <td>4.6423</td>\n",
       "      <td>94.0</td>\n",
       "      <td>139.0</td>\n",
       "      <td>6.0</td>\n",
       "      <td>120.0</td>\n",
       "      <td>105.0</td>\n",
       "      <td>135.0</td>\n",
       "      <td>27.0</td>\n",
       "      <td>0.0</td>\n",
       "    </tr>\n",
       "    <tr>\n",
       "      <th>4066</th>\n",
       "      <td>299866.0</td>\n",
       "      <td>106.0</td>\n",
       "      <td>36.000000</td>\n",
       "      <td>37.888889</td>\n",
       "      <td>94.0</td>\n",
       "      <td>100.0</td>\n",
       "      <td>12.0</td>\n",
       "      <td>25.0</td>\n",
       "      <td>7.0</td>\n",
       "      <td>138.0</td>\n",
       "      <td>...</td>\n",
       "      <td>79.578</td>\n",
       "      <td>7.4991</td>\n",
       "      <td>122.0</td>\n",
       "      <td>180.0</td>\n",
       "      <td>12.9</td>\n",
       "      <td>170.0</td>\n",
       "      <td>111.0</td>\n",
       "      <td>111.0</td>\n",
       "      <td>27.0</td>\n",
       "      <td>0.0</td>\n",
       "    </tr>\n",
       "    <tr>\n",
       "      <th>4067</th>\n",
       "      <td>299872.0</td>\n",
       "      <td>88.0</td>\n",
       "      <td>35.777778</td>\n",
       "      <td>37.277778</td>\n",
       "      <td>84.0</td>\n",
       "      <td>100.0</td>\n",
       "      <td>11.0</td>\n",
       "      <td>21.0</td>\n",
       "      <td>0.0</td>\n",
       "      <td>132.0</td>\n",
       "      <td>...</td>\n",
       "      <td>229.892</td>\n",
       "      <td>20.3547</td>\n",
       "      <td>93.0</td>\n",
       "      <td>148.0</td>\n",
       "      <td>14.2</td>\n",
       "      <td>288.0</td>\n",
       "      <td>52.0</td>\n",
       "      <td>52.0</td>\n",
       "      <td>33.0</td>\n",
       "      <td>0.0</td>\n",
       "    </tr>\n",
       "    <tr>\n",
       "      <th>4068</th>\n",
       "      <td>299901.0</td>\n",
       "      <td>119.0</td>\n",
       "      <td>35.000000</td>\n",
       "      <td>36.000000</td>\n",
       "      <td>93.0</td>\n",
       "      <td>98.0</td>\n",
       "      <td>17.0</td>\n",
       "      <td>28.0</td>\n",
       "      <td>NaN</td>\n",
       "      <td>149.0</td>\n",
       "      <td>...</td>\n",
       "      <td>123.788</td>\n",
       "      <td>13.2127</td>\n",
       "      <td>108.0</td>\n",
       "      <td>147.0</td>\n",
       "      <td>21.9</td>\n",
       "      <td>122.0</td>\n",
       "      <td>93.0</td>\n",
       "      <td>144.0</td>\n",
       "      <td>19.0</td>\n",
       "      <td>0.0</td>\n",
       "    </tr>\n",
       "    <tr>\n",
       "      <th>4069</th>\n",
       "      <td>299998.0</td>\n",
       "      <td>108.0</td>\n",
       "      <td>36.666667</td>\n",
       "      <td>37.166667</td>\n",
       "      <td>94.0</td>\n",
       "      <td>100.0</td>\n",
       "      <td>0.0</td>\n",
       "      <td>21.0</td>\n",
       "      <td>8.0</td>\n",
       "      <td>140.0</td>\n",
       "      <td>...</td>\n",
       "      <td>97.262</td>\n",
       "      <td>7.4991</td>\n",
       "      <td>77.0</td>\n",
       "      <td>196.0</td>\n",
       "      <td>7.9</td>\n",
       "      <td>196.0</td>\n",
       "      <td>130.0</td>\n",
       "      <td>206.0</td>\n",
       "      <td>24.0</td>\n",
       "      <td>0.0</td>\n",
       "    </tr>\n",
       "  </tbody>\n",
       "</table>\n",
       "<p>4070 rows × 24 columns</p>\n",
       "</div>"
      ],
      "text/plain": [
       "      ICUSTAY_ID     CL   temp_min   temp_max  spo2_min  spo2_max  resp_min  \\\n",
       "0       200001.0   98.0  35.277778  36.777778      87.0     100.0      15.0   \n",
       "1       200010.0  108.0  36.055556  36.666667      98.0     100.0       6.0   \n",
       "2       200038.0  108.0  36.555556  36.888889      93.0      99.0      12.0   \n",
       "3       200049.0  100.0  36.444444  37.388889      88.0     100.0      11.0   \n",
       "4       200094.0  109.0  37.222222  37.611111      92.0      99.0      13.0   \n",
       "...          ...    ...        ...        ...       ...       ...       ...   \n",
       "4065    299856.0  101.0  35.833333  39.444444      81.0     100.0      20.0   \n",
       "4066    299866.0  106.0  36.000000  37.888889      94.0     100.0      12.0   \n",
       "4067    299872.0   88.0  35.777778  37.277778      84.0     100.0      11.0   \n",
       "4068    299901.0  119.0  35.000000  36.000000      93.0      98.0      17.0   \n",
       "4069    299998.0  108.0  36.666667  37.166667      94.0     100.0       0.0   \n",
       "\n",
       "      resp_max  pain     na  ...  creatinine      bun  bp_min  bp_max   WBC  \\\n",
       "0         29.0   0.0  135.0  ...     256.418  20.7118    84.0   135.0   3.4   \n",
       "1         22.0   3.0  143.0  ...      79.578   3.9281   115.0   157.0  10.0   \n",
       "2         30.0   0.0  138.0  ...      88.420   6.7849   111.0   206.0  10.6   \n",
       "3         27.0   5.0  137.0  ...     433.258  16.4266    95.0   143.0  17.1   \n",
       "4         26.0   3.0  139.0  ...     503.994  24.2828   137.0   166.0   1.3   \n",
       "...        ...   ...    ...  ...         ...      ...     ...     ...   ...   \n",
       "4065      43.0   0.0  134.0  ...      79.578   4.6423    94.0   139.0   6.0   \n",
       "4066      25.0   7.0  138.0  ...      79.578   7.4991   122.0   180.0  12.9   \n",
       "4067      21.0   0.0  132.0  ...     229.892  20.3547    93.0   148.0  14.2   \n",
       "4068      28.0   NaN  149.0  ...     123.788  13.2127   108.0   147.0  21.9   \n",
       "4069      21.0   8.0  140.0  ...      97.262   7.4991    77.0   196.0   7.9   \n",
       "\n",
       "        PLT  GLU_min  GLU_max  hco3  airway  \n",
       "0     168.0     99.0     99.0  28.0     0.0  \n",
       "1     227.0    127.0    127.0  26.0     0.0  \n",
       "2     208.0    120.0    120.0  23.0     0.0  \n",
       "3     105.0    187.0    209.0  26.0     0.0  \n",
       "4      70.0    105.0    136.0  18.0     0.0  \n",
       "...     ...      ...      ...   ...     ...  \n",
       "4065  120.0    105.0    135.0  27.0     0.0  \n",
       "4066  170.0    111.0    111.0  27.0     0.0  \n",
       "4067  288.0     52.0     52.0  33.0     0.0  \n",
       "4068  122.0     93.0    144.0  19.0     0.0  \n",
       "4069  196.0    130.0    206.0  24.0     0.0  \n",
       "\n",
       "[4070 rows x 24 columns]"
      ]
     },
     "execution_count": 162,
     "metadata": {},
     "output_type": "execute_result"
    }
   ],
   "source": [
    "#dataframe.fillna({'code':'code', 'date':'date'})，\n",
    "# 第一个code和date分别表示列，后面的表示在该列填充的内容\n",
    "FM_filled['airway'] =0.0\n",
    "FM_filled\n",
    "# FM_filled = FM_filled.fillna({'airway':0.0})"
   ]
  },
  {
   "cell_type": "code",
   "execution_count": 163,
   "metadata": {
    "pycharm": {
     "name": "#%%\n"
    }
   },
   "outputs": [
    {
     "data": {
      "text/plain": [
       "Index(['ICUSTAY_ID', 'CL', 'temp_min', 'temp_max', 'spo2_min', 'spo2_max',\n",
       "       'resp_min', 'resp_max', 'pain', 'na', 'k', 'hr_min', 'hr_max',\n",
       "       'haemoglobin', 'creatinine', 'bun', 'bp_min', 'bp_max', 'WBC', 'PLT',\n",
       "       'GLU_min', 'GLU_max', 'hco3', 'airway'],\n",
       "      dtype='object')"
      ]
     },
     "execution_count": 163,
     "metadata": {},
     "output_type": "execute_result"
    }
   ],
   "source": [
    "FM_filled.columns"
   ]
  },
  {
   "cell_type": "markdown",
   "metadata": {
    "pycharm": {
     "name": "#%% md\n"
    }
   },
   "source": [
    "We construct a table with the final value before CALLOUT for each variable for each stay:\n",
    "我们为每个stay变量在CALLOUT之前构造了一个表:"
   ]
  },
  {
   "cell_type": "code",
   "execution_count": 164,
   "metadata": {
    "pycharm": {
     "name": "#%%\n"
    }
   },
   "outputs": [],
   "source": [
    "all_data = pd.read_pickle(DATA_PATH)\n",
    "all_data = all_data[all_data['hrs_bRFD']>=0]\n",
    "# all_data = all_data.filter_by(column_name='C.ICUSTAY_ID', values=FM_filled['ICUSTAY_ID'])\n",
    "all_data = all_data[all_data['C.ICUSTAY_ID'].isin(FM_filled['ICUSTAY_ID'])]"
   ]
  },
  {
   "cell_type": "code",
   "execution_count": 165,
   "metadata": {
    "pycharm": {
     "name": "#%%\n"
    }
   },
   "outputs": [
    {
     "data": {
      "text/plain": [
       "array(['temp', 'hr', 'resp', 'spo2', 'bp', 'haemoglobin', 'WBC', 'CL',\n",
       "       'creatinine', 'GLU', 'na', 'bun', 'k', 'hco3', 'PLT', 'PT', 'PTT',\n",
       "       'INR', 'po2', 'pco2', 'ALT', 'TBIL', 'NEUT', 'pain', 'ALB', 'fio2',\n",
       "       'peep', 'airway'], dtype=object)"
      ]
     },
     "execution_count": 165,
     "metadata": {},
     "output_type": "execute_result"
    }
   ],
   "source": [
    "all_data['VARIABLE'].unique()"
   ]
  },
  {
   "cell_type": "code",
   "execution_count": 166,
   "metadata": {
    "pycharm": {
     "name": "#%%\n"
    }
   },
   "outputs": [],
   "source": [
    "# final_values = all_data.groupby(key_columns=['C.ICUSTAY_ID', 'VARIABLE'],\n",
    "#                                 operations={\n",
    "#                                             'hrs_bRFD':agg.ARGMAX('C.CHARTTIME', 'hrs_bRFD'),\n",
    "#                                             'C.VALUENUM':agg.ARGMAX('C.CHARTTIME', 'C.VALUENUM')\n",
    "#                                             })\n",
    "final_values9 =  all_data.groupby(by=['C.ICUSTAY_ID', 'VARIABLE'],as_index=False)\n",
    "# final_values9 =  all_data.groupby(by=['C.ICUSTAY_ID', 'VARIABLE'])"
   ]
  },
  {
   "cell_type": "code",
   "execution_count": 167,
   "metadata": {
    "pycharm": {
     "name": "#%%\n"
    }
   },
   "outputs": [
    {
     "data": {
      "text/plain": [
       "pandas.core.groupby.generic.DataFrameGroupBy"
      ]
     },
     "execution_count": 167,
     "metadata": {},
     "output_type": "execute_result"
    }
   ],
   "source": [
    "type(final_values9)"
   ]
  },
  {
   "cell_type": "code",
   "execution_count": 194,
   "metadata": {
    "pycharm": {
     "name": "#%%\n"
    }
   },
   "outputs": [
    {
     "data": {
      "text/plain": [
       "<pandas.core.groupby.generic.DataFrameGroupBy object at 0x000002662E3A73C8>"
      ]
     },
     "execution_count": 194,
     "metadata": {},
     "output_type": "execute_result"
    }
   ],
   "source": [
    "final_values9"
   ]
  },
  {
   "cell_type": "code",
   "execution_count": 169,
   "metadata": {
    "pycharm": {
     "name": "#%%\n"
    }
   },
   "outputs": [
    {
     "data": {
      "text/plain": [
       "array(['temp', 'hr', 'resp', 'spo2', 'bp', 'haemoglobin', 'WBC', 'CL',\n",
       "       'creatinine', 'GLU', 'na', 'bun', 'k', 'hco3', 'PLT', 'PT', 'PTT',\n",
       "       'INR', 'po2', 'pco2', 'ALT', 'TBIL', 'NEUT', 'pain', 'ALB', 'fio2',\n",
       "       'peep', 'airway'], dtype=object)"
      ]
     },
     "execution_count": 169,
     "metadata": {},
     "output_type": "execute_result"
    }
   ],
   "source": [
    "all_data['VARIABLE'].unique()"
   ]
  },
  {
   "cell_type": "code",
   "execution_count": 170,
   "metadata": {
    "pycharm": {
     "name": "#%%\n"
    }
   },
   "outputs": [
    {
     "data": {
      "text/plain": [
       "array(['ALT', 'CL', 'GLU', 'INR', 'PLT', 'PT', 'PTT', 'TBIL', 'WBC', 'bp',\n",
       "       'bun', 'creatinine', 'fio2', 'haemoglobin', 'hco3', 'hr', 'k',\n",
       "       'na', 'pain', 'pco2', 'po2', 'resp', 'spo2', 'temp', 'NEUT', 'ALB',\n",
       "       'airway', 'peep'], dtype=object)"
      ]
     },
     "execution_count": 170,
     "metadata": {},
     "output_type": "execute_result"
    }
   ],
   "source": [
    "# final_values.loc[0:30]\n",
    "final_values['VARIABLE'].unique()"
   ]
  },
  {
   "cell_type": "markdown",
   "metadata": {
    "pycharm": {
     "name": "#%% md\n"
    }
   },
   "source": [
    "出问题啦\n",
    "\n",
    "出问题啦\n",
    "\n",
    "出问题啦\n",
    "\n",
    "出问题啦\n",
    "\n",
    "出问题啦\n",
    "\n",
    "出问题啦\n",
    "\n",
    "出问题啦\n",
    "\n",
    "出问题啦\n",
    "\n",
    "出问题啦\n",
    "\n",
    "出问题啦\n",
    "\n",
    "出问题啦\n"
   ]
  },
  {
   "cell_type": "code",
   "execution_count": 171,
   "metadata": {
    "pycharm": {
     "name": "#%%\n"
    }
   },
   "outputs": [],
   "source": [
    "def argMax1(con):\n",
    "    ma=0\n",
    "    id=0\n",
    "    for i,v in enumerate(con):\n",
    "        val=final_values.loc[i]['C.CHARTTIME']\n",
    "        if val>ma:\n",
    "            ma=val\n",
    "            id = i\n",
    "    ma = final_values.loc[id]['hrs_bRFD']\n",
    "    return ma\n",
    "    # id=con.idxmax()\n",
    "    # val=final_values.loc[id]['C.CHARTTIME']\n",
    "    # # val=final_values.loc[final_values['hrs_bRFD']==final_values['hrs_bRFD'].max()]['C.CHARTTIME'].values[0]\n",
    "    # return con"
   ]
  },
  {
   "cell_type": "code",
   "execution_count": 172,
   "metadata": {
    "pycharm": {
     "name": "#%%\n"
    }
   },
   "outputs": [],
   "source": [
    "def argMax2(con):\n",
    "    ma=0\n",
    "    id=0\n",
    "    for i,v in enumerate(con):\n",
    "        val=final_values.loc[i]['C.CHARTTIME']\n",
    "        if val>ma:\n",
    "            ma=val\n",
    "            id = i\n",
    "    ma = final_values.loc[id]['C.VALUENUM']\n",
    "    return ma\n",
    "    # id=con.idxmax()\n",
    "    # val=final_values.loc[id]['C.CHARTTIME']\n",
    "    # # val=final_values.loc[final_values['C.VALUENUM']==final_values[id]['C.VALUENUM'].max()]['C.CHARTTIME'].values[0]\n",
    "    # return val\n",
    "#['actionTime'].apply(lambda x:x.max())"
   ]
  },
  {
   "cell_type": "code",
   "execution_count": 173,
   "metadata": {
    "pycharm": {
     "name": "#%%\n"
    }
   },
   "outputs": [
    {
     "ename": "NameError",
     "evalue": "name 'mean1' is not defined",
     "output_type": "error",
     "traceback": [
      "\u001b[1;31m---------------------------------------------------------------------------\u001b[0m",
      "\u001b[1;31mNameError\u001b[0m                                 Traceback (most recent call last)",
      "\u001b[1;32m~\\AppData\\Local\\Temp\\ipykernel_17748\\2446604042.py\u001b[0m in \u001b[0;36m<module>\u001b[1;34m\u001b[0m\n\u001b[0;32m      1\u001b[0m \u001b[1;31m# mean1=final_values9['hrs_bRFD'].apply(lambda i:i.max())\u001b[0m\u001b[1;33m\u001b[0m\u001b[1;33m\u001b[0m\u001b[0m\n\u001b[1;32m----> 2\u001b[1;33m \u001b[0mmean1\u001b[0m\u001b[1;33m\u001b[0m\u001b[0m\n\u001b[0m",
      "\u001b[1;31mNameError\u001b[0m: name 'mean1' is not defined"
     ]
    }
   ],
   "source": [
    "# mean1=final_values9['hrs_bRFD'].apply(lambda i:i.max())\n",
    "mean1"
   ]
  },
  {
   "cell_type": "code",
   "execution_count": 174,
   "metadata": {
    "pycharm": {
     "name": "#%%\n"
    }
   },
   "outputs": [
    {
     "data": {
      "text/html": [
       "<div>\n",
       "<style scoped>\n",
       "    .dataframe tbody tr th:only-of-type {\n",
       "        vertical-align: middle;\n",
       "    }\n",
       "\n",
       "    .dataframe tbody tr th {\n",
       "        vertical-align: top;\n",
       "    }\n",
       "\n",
       "    .dataframe thead th {\n",
       "        text-align: right;\n",
       "    }\n",
       "</style>\n",
       "<table border=\"1\" class=\"dataframe\">\n",
       "  <thead>\n",
       "    <tr style=\"text-align: right;\">\n",
       "      <th></th>\n",
       "      <th>C.ICUSTAY_ID</th>\n",
       "      <th>VARIABLE</th>\n",
       "      <th>C.VALUENUM</th>\n",
       "    </tr>\n",
       "  </thead>\n",
       "  <tbody>\n",
       "    <tr>\n",
       "      <th>0</th>\n",
       "      <td>200001.0</td>\n",
       "      <td>ALT</td>\n",
       "      <td>6.000000</td>\n",
       "    </tr>\n",
       "    <tr>\n",
       "      <th>1</th>\n",
       "      <td>200001.0</td>\n",
       "      <td>CL</td>\n",
       "      <td>101.000000</td>\n",
       "    </tr>\n",
       "    <tr>\n",
       "      <th>2</th>\n",
       "      <td>200001.0</td>\n",
       "      <td>GLU</td>\n",
       "      <td>108.000000</td>\n",
       "    </tr>\n",
       "    <tr>\n",
       "      <th>3</th>\n",
       "      <td>200001.0</td>\n",
       "      <td>INR</td>\n",
       "      <td>3.800000</td>\n",
       "    </tr>\n",
       "    <tr>\n",
       "      <th>4</th>\n",
       "      <td>200001.0</td>\n",
       "      <td>PLT</td>\n",
       "      <td>168.000000</td>\n",
       "    </tr>\n",
       "    <tr>\n",
       "      <th>...</th>\n",
       "      <td>...</td>\n",
       "      <td>...</td>\n",
       "      <td>...</td>\n",
       "    </tr>\n",
       "    <tr>\n",
       "      <th>89603</th>\n",
       "      <td>299998.0</td>\n",
       "      <td>peep</td>\n",
       "      <td>5.000000</td>\n",
       "    </tr>\n",
       "    <tr>\n",
       "      <th>89604</th>\n",
       "      <td>299998.0</td>\n",
       "      <td>po2</td>\n",
       "      <td>22.394400</td>\n",
       "    </tr>\n",
       "    <tr>\n",
       "      <th>89605</th>\n",
       "      <td>299998.0</td>\n",
       "      <td>resp</td>\n",
       "      <td>21.000000</td>\n",
       "    </tr>\n",
       "    <tr>\n",
       "      <th>89606</th>\n",
       "      <td>299998.0</td>\n",
       "      <td>spo2</td>\n",
       "      <td>100.000000</td>\n",
       "    </tr>\n",
       "    <tr>\n",
       "      <th>89607</th>\n",
       "      <td>299998.0</td>\n",
       "      <td>temp</td>\n",
       "      <td>37.166667</td>\n",
       "    </tr>\n",
       "  </tbody>\n",
       "</table>\n",
       "<p>89608 rows × 3 columns</p>\n",
       "</div>"
      ],
      "text/plain": [
       "       C.ICUSTAY_ID VARIABLE  C.VALUENUM\n",
       "0          200001.0      ALT    6.000000\n",
       "1          200001.0       CL  101.000000\n",
       "2          200001.0      GLU  108.000000\n",
       "3          200001.0      INR    3.800000\n",
       "4          200001.0      PLT  168.000000\n",
       "...             ...      ...         ...\n",
       "89603      299998.0     peep    5.000000\n",
       "89604      299998.0      po2   22.394400\n",
       "89605      299998.0     resp   21.000000\n",
       "89606      299998.0     spo2  100.000000\n",
       "89607      299998.0     temp   37.166667\n",
       "\n",
       "[89608 rows x 3 columns]"
      ]
     },
     "execution_count": 174,
     "metadata": {},
     "output_type": "execute_result"
    }
   ],
   "source": [
    "mean2=final_values9['C.VALUENUM'].apply(lambda i:i.max())\n",
    "mean2"
   ]
  },
  {
   "cell_type": "code",
   "execution_count": 175,
   "metadata": {
    "pycharm": {
     "name": "#%%\n"
    }
   },
   "outputs": [
    {
     "data": {
      "text/plain": [
       "pandas.core.frame.DataFrame"
      ]
     },
     "execution_count": 175,
     "metadata": {},
     "output_type": "execute_result"
    }
   ],
   "source": [
    "vall=final_values9['C.CHARTTIME'].apply(lambda i:i.max())\n",
    "type(vall)"
   ]
  },
  {
   "cell_type": "code",
   "execution_count": 176,
   "metadata": {
    "pycharm": {
     "is_executing": true,
     "name": "#%%\n"
    }
   },
   "outputs": [],
   "source": [
    "def mean1(con):\n",
    "    return final_values9['hrs_bRFD'].apply(lambda i:i.max())\n",
    "def mean2(con):\n",
    "    return final_values9['C.VALUENUM'].apply(lambda i:i.max())"
   ]
  },
  {
   "cell_type": "code",
   "execution_count": 177,
   "metadata": {
    "pycharm": {
     "name": "#%%\n"
    }
   },
   "outputs": [],
   "source": [
    "#thisFM.bp_min.max()\n",
    "# turicreate.aggregate.ARGMAX(out_column agg_column)\n",
    "# 返回 agg_column 最大值 对应的 out_column 值\n",
    "#GPA   ID\n",
    "# 2.3  Tina1\n",
    "# 3.4  Bob1\n",
    "# 3.6  Lia1\n",
    "# 2.9  Tina2\n",
    "# 4.0  Blake1\n",
    "# 4.5  Conor2\n",
    "# df.loc[df.GPA == df.GPA.max(), 'ID'].values[0]\n",
    "#    operations={\n",
    "#     'hrs_bRFD':agg.ARGMAX('C.CHARTTIME', 'hrs_bRFD'),\n",
    "#     'C.VALUENUM':agg.ARGMAX('C.CHARTTIME', 'C.VALUENUM')\n",
    "# )\n",
    "\n",
    "\n",
    "##########  all_data['C.VALUENUM']=all_data['C.VALUENUM'].astype(float)  相关可用，取均值应该好一些\n",
    "\n",
    "final_values1 =  final_values9.agg(\n",
    "    hrs_bRFD=('hrs_bRFD','max'),\n",
    "    VALUENUM=('C.VALUENUM',np.random.choice)\n",
    "                                   ).rename({\n",
    "    'VALUENUM':'C.VALUENUM'\n",
    "                                   })"
   ]
  },
  {
   "cell_type": "code",
   "execution_count": 178,
   "metadata": {
    "pycharm": {
     "name": "#%%\n"
    }
   },
   "outputs": [
    {
     "data": {
      "text/html": [
       "<div>\n",
       "<style scoped>\n",
       "    .dataframe tbody tr th:only-of-type {\n",
       "        vertical-align: middle;\n",
       "    }\n",
       "\n",
       "    .dataframe tbody tr th {\n",
       "        vertical-align: top;\n",
       "    }\n",
       "\n",
       "    .dataframe thead th {\n",
       "        text-align: right;\n",
       "    }\n",
       "</style>\n",
       "<table border=\"1\" class=\"dataframe\">\n",
       "  <thead>\n",
       "    <tr style=\"text-align: right;\">\n",
       "      <th></th>\n",
       "      <th>C.ICUSTAY_ID</th>\n",
       "      <th>VARIABLE</th>\n",
       "      <th>hrs_bRFD</th>\n",
       "      <th>VALUENUM</th>\n",
       "    </tr>\n",
       "  </thead>\n",
       "  <tbody>\n",
       "    <tr>\n",
       "      <th>0</th>\n",
       "      <td>200001.0</td>\n",
       "      <td>ALT</td>\n",
       "      <td>53.676667</td>\n",
       "      <td>6.000000</td>\n",
       "    </tr>\n",
       "    <tr>\n",
       "      <th>1</th>\n",
       "      <td>200001.0</td>\n",
       "      <td>CL</td>\n",
       "      <td>53.676667</td>\n",
       "      <td>98.000000</td>\n",
       "    </tr>\n",
       "    <tr>\n",
       "      <th>2</th>\n",
       "      <td>200001.0</td>\n",
       "      <td>GLU</td>\n",
       "      <td>53.676667</td>\n",
       "      <td>108.000000</td>\n",
       "    </tr>\n",
       "    <tr>\n",
       "      <th>3</th>\n",
       "      <td>200001.0</td>\n",
       "      <td>INR</td>\n",
       "      <td>53.676667</td>\n",
       "      <td>3.800000</td>\n",
       "    </tr>\n",
       "    <tr>\n",
       "      <th>4</th>\n",
       "      <td>200001.0</td>\n",
       "      <td>PLT</td>\n",
       "      <td>53.676667</td>\n",
       "      <td>155.000000</td>\n",
       "    </tr>\n",
       "    <tr>\n",
       "      <th>...</th>\n",
       "      <td>...</td>\n",
       "      <td>...</td>\n",
       "      <td>...</td>\n",
       "      <td>...</td>\n",
       "    </tr>\n",
       "    <tr>\n",
       "      <th>89603</th>\n",
       "      <td>299998.0</td>\n",
       "      <td>peep</td>\n",
       "      <td>24.237500</td>\n",
       "      <td>5.000000</td>\n",
       "    </tr>\n",
       "    <tr>\n",
       "      <th>89604</th>\n",
       "      <td>299998.0</td>\n",
       "      <td>po2</td>\n",
       "      <td>22.270833</td>\n",
       "      <td>22.394400</td>\n",
       "    </tr>\n",
       "    <tr>\n",
       "      <th>89605</th>\n",
       "      <td>299998.0</td>\n",
       "      <td>resp</td>\n",
       "      <td>24.454167</td>\n",
       "      <td>15.000000</td>\n",
       "    </tr>\n",
       "    <tr>\n",
       "      <th>89606</th>\n",
       "      <td>299998.0</td>\n",
       "      <td>spo2</td>\n",
       "      <td>24.454167</td>\n",
       "      <td>96.000000</td>\n",
       "    </tr>\n",
       "    <tr>\n",
       "      <th>89607</th>\n",
       "      <td>299998.0</td>\n",
       "      <td>temp</td>\n",
       "      <td>24.354167</td>\n",
       "      <td>36.944444</td>\n",
       "    </tr>\n",
       "  </tbody>\n",
       "</table>\n",
       "<p>89608 rows × 4 columns</p>\n",
       "</div>"
      ],
      "text/plain": [
       "       C.ICUSTAY_ID VARIABLE   hrs_bRFD    VALUENUM\n",
       "0          200001.0      ALT  53.676667    6.000000\n",
       "1          200001.0       CL  53.676667   98.000000\n",
       "2          200001.0      GLU  53.676667  108.000000\n",
       "3          200001.0      INR  53.676667    3.800000\n",
       "4          200001.0      PLT  53.676667  155.000000\n",
       "...             ...      ...        ...         ...\n",
       "89603      299998.0     peep  24.237500    5.000000\n",
       "89604      299998.0      po2  22.270833   22.394400\n",
       "89605      299998.0     resp  24.454167   15.000000\n",
       "89606      299998.0     spo2  24.454167   96.000000\n",
       "89607      299998.0     temp  24.354167   36.944444\n",
       "\n",
       "[89608 rows x 4 columns]"
      ]
     },
     "execution_count": 178,
     "metadata": {},
     "output_type": "execute_result"
    }
   ],
   "source": [
    "final_values1"
   ]
  },
  {
   "cell_type": "code",
   "execution_count": 179,
   "metadata": {
    "pycharm": {
     "name": "#%%\n"
    }
   },
   "outputs": [
    {
     "data": {
      "text/html": [
       "<div>\n",
       "<style scoped>\n",
       "    .dataframe tbody tr th:only-of-type {\n",
       "        vertical-align: middle;\n",
       "    }\n",
       "\n",
       "    .dataframe tbody tr th {\n",
       "        vertical-align: top;\n",
       "    }\n",
       "\n",
       "    .dataframe thead th {\n",
       "        text-align: right;\n",
       "    }\n",
       "</style>\n",
       "<table border=\"1\" class=\"dataframe\">\n",
       "  <thead>\n",
       "    <tr style=\"text-align: right;\">\n",
       "      <th></th>\n",
       "      <th>C.ICUSTAY_ID</th>\n",
       "      <th>VARIABLE</th>\n",
       "      <th>hrs_bRFD</th>\n",
       "      <th>VALUENUM</th>\n",
       "    </tr>\n",
       "  </thead>\n",
       "  <tbody>\n",
       "    <tr>\n",
       "      <th>0</th>\n",
       "      <td>200001.0</td>\n",
       "      <td>ALT</td>\n",
       "      <td>53.676667</td>\n",
       "      <td>6.000000</td>\n",
       "    </tr>\n",
       "    <tr>\n",
       "      <th>1</th>\n",
       "      <td>200001.0</td>\n",
       "      <td>CL</td>\n",
       "      <td>53.676667</td>\n",
       "      <td>98.000000</td>\n",
       "    </tr>\n",
       "    <tr>\n",
       "      <th>2</th>\n",
       "      <td>200001.0</td>\n",
       "      <td>GLU</td>\n",
       "      <td>53.676667</td>\n",
       "      <td>108.000000</td>\n",
       "    </tr>\n",
       "    <tr>\n",
       "      <th>3</th>\n",
       "      <td>200001.0</td>\n",
       "      <td>INR</td>\n",
       "      <td>53.676667</td>\n",
       "      <td>3.800000</td>\n",
       "    </tr>\n",
       "    <tr>\n",
       "      <th>4</th>\n",
       "      <td>200001.0</td>\n",
       "      <td>PLT</td>\n",
       "      <td>53.676667</td>\n",
       "      <td>155.000000</td>\n",
       "    </tr>\n",
       "    <tr>\n",
       "      <th>...</th>\n",
       "      <td>...</td>\n",
       "      <td>...</td>\n",
       "      <td>...</td>\n",
       "      <td>...</td>\n",
       "    </tr>\n",
       "    <tr>\n",
       "      <th>89603</th>\n",
       "      <td>299998.0</td>\n",
       "      <td>peep</td>\n",
       "      <td>24.237500</td>\n",
       "      <td>5.000000</td>\n",
       "    </tr>\n",
       "    <tr>\n",
       "      <th>89604</th>\n",
       "      <td>299998.0</td>\n",
       "      <td>po2</td>\n",
       "      <td>22.270833</td>\n",
       "      <td>22.394400</td>\n",
       "    </tr>\n",
       "    <tr>\n",
       "      <th>89605</th>\n",
       "      <td>299998.0</td>\n",
       "      <td>resp</td>\n",
       "      <td>24.454167</td>\n",
       "      <td>15.000000</td>\n",
       "    </tr>\n",
       "    <tr>\n",
       "      <th>89606</th>\n",
       "      <td>299998.0</td>\n",
       "      <td>spo2</td>\n",
       "      <td>24.454167</td>\n",
       "      <td>96.000000</td>\n",
       "    </tr>\n",
       "    <tr>\n",
       "      <th>89607</th>\n",
       "      <td>299998.0</td>\n",
       "      <td>temp</td>\n",
       "      <td>24.354167</td>\n",
       "      <td>36.944444</td>\n",
       "    </tr>\n",
       "  </tbody>\n",
       "</table>\n",
       "<p>89608 rows × 4 columns</p>\n",
       "</div>"
      ],
      "text/plain": [
       "       C.ICUSTAY_ID VARIABLE   hrs_bRFD    VALUENUM\n",
       "0          200001.0      ALT  53.676667    6.000000\n",
       "1          200001.0       CL  53.676667   98.000000\n",
       "2          200001.0      GLU  53.676667  108.000000\n",
       "3          200001.0      INR  53.676667    3.800000\n",
       "4          200001.0      PLT  53.676667  155.000000\n",
       "...             ...      ...        ...         ...\n",
       "89603      299998.0     peep  24.237500    5.000000\n",
       "89604      299998.0      po2  22.270833   22.394400\n",
       "89605      299998.0     resp  24.454167   15.000000\n",
       "89606      299998.0     spo2  24.454167   96.000000\n",
       "89607      299998.0     temp  24.354167   36.944444\n",
       "\n",
       "[89608 rows x 4 columns]"
      ]
     },
     "execution_count": 179,
     "metadata": {},
     "output_type": "execute_result"
    }
   ],
   "source": [
    "final_values1"
   ]
  },
  {
   "cell_type": "code",
   "execution_count": 180,
   "metadata": {
    "pycharm": {
     "name": "#%%\n"
    }
   },
   "outputs": [
    {
     "data": {
      "text/html": [
       "<div>\n",
       "<style scoped>\n",
       "    .dataframe tbody tr th:only-of-type {\n",
       "        vertical-align: middle;\n",
       "    }\n",
       "\n",
       "    .dataframe tbody tr th {\n",
       "        vertical-align: top;\n",
       "    }\n",
       "\n",
       "    .dataframe thead th {\n",
       "        text-align: right;\n",
       "    }\n",
       "</style>\n",
       "<table border=\"1\" class=\"dataframe\">\n",
       "  <thead>\n",
       "    <tr style=\"text-align: right;\">\n",
       "      <th></th>\n",
       "      <th>C.ICUSTAY_ID</th>\n",
       "      <th>VARIABLE</th>\n",
       "      <th>C.CHARTTIME</th>\n",
       "    </tr>\n",
       "  </thead>\n",
       "  <tbody>\n",
       "    <tr>\n",
       "      <th>0</th>\n",
       "      <td>200001.0</td>\n",
       "      <td>ALT</td>\n",
       "      <td>1</td>\n",
       "    </tr>\n",
       "    <tr>\n",
       "      <th>1</th>\n",
       "      <td>200001.0</td>\n",
       "      <td>CL</td>\n",
       "      <td>3</td>\n",
       "    </tr>\n",
       "    <tr>\n",
       "      <th>2</th>\n",
       "      <td>200001.0</td>\n",
       "      <td>GLU</td>\n",
       "      <td>3</td>\n",
       "    </tr>\n",
       "    <tr>\n",
       "      <th>3</th>\n",
       "      <td>200001.0</td>\n",
       "      <td>INR</td>\n",
       "      <td>2</td>\n",
       "    </tr>\n",
       "    <tr>\n",
       "      <th>4</th>\n",
       "      <td>200001.0</td>\n",
       "      <td>PLT</td>\n",
       "      <td>3</td>\n",
       "    </tr>\n",
       "    <tr>\n",
       "      <th>...</th>\n",
       "      <td>...</td>\n",
       "      <td>...</td>\n",
       "      <td>...</td>\n",
       "    </tr>\n",
       "    <tr>\n",
       "      <th>89603</th>\n",
       "      <td>299998.0</td>\n",
       "      <td>peep</td>\n",
       "      <td>7</td>\n",
       "    </tr>\n",
       "    <tr>\n",
       "      <th>89604</th>\n",
       "      <td>299998.0</td>\n",
       "      <td>po2</td>\n",
       "      <td>2</td>\n",
       "    </tr>\n",
       "    <tr>\n",
       "      <th>89605</th>\n",
       "      <td>299998.0</td>\n",
       "      <td>resp</td>\n",
       "      <td>40</td>\n",
       "    </tr>\n",
       "    <tr>\n",
       "      <th>89606</th>\n",
       "      <td>299998.0</td>\n",
       "      <td>spo2</td>\n",
       "      <td>25</td>\n",
       "    </tr>\n",
       "    <tr>\n",
       "      <th>89607</th>\n",
       "      <td>299998.0</td>\n",
       "      <td>temp</td>\n",
       "      <td>7</td>\n",
       "    </tr>\n",
       "  </tbody>\n",
       "</table>\n",
       "<p>89608 rows × 3 columns</p>\n",
       "</div>"
      ],
      "text/plain": [
       "       C.ICUSTAY_ID VARIABLE  C.CHARTTIME\n",
       "0          200001.0      ALT            1\n",
       "1          200001.0       CL            3\n",
       "2          200001.0      GLU            3\n",
       "3          200001.0      INR            2\n",
       "4          200001.0      PLT            3\n",
       "...             ...      ...          ...\n",
       "89603      299998.0     peep            7\n",
       "89604      299998.0      po2            2\n",
       "89605      299998.0     resp           40\n",
       "89606      299998.0     spo2           25\n",
       "89607      299998.0     temp            7\n",
       "\n",
       "[89608 rows x 3 columns]"
      ]
     },
     "execution_count": 180,
     "metadata": {},
     "output_type": "execute_result"
    }
   ],
   "source": [
    "final_values9['C.CHARTTIME'].count()"
   ]
  },
  {
   "cell_type": "code",
   "execution_count": 181,
   "metadata": {
    "pycharm": {
     "name": "#%%\n"
    }
   },
   "outputs": [],
   "source": [
    "final_values = final_values1"
   ]
  },
  {
   "cell_type": "code",
   "execution_count": 182,
   "metadata": {
    "pycharm": {
     "name": "#%%\n"
    }
   },
   "outputs": [],
   "source": [
    "final_values = final_values[final_values['hrs_bRFD']<=MAXIMUM_LOOKBACK]\n",
    "final_values = final_values[final_values['hrs_bRFD']>HOURS_BEFORE_RFD]\n",
    "final_values = final_values.sort_values(ascending=True, by=['VARIABLE', 'C.ICUSTAY_ID'])\n",
    "# sort_values(by='fraction missing', ascending=True)"
   ]
  },
  {
   "cell_type": "code",
   "execution_count": 183,
   "metadata": {
    "pycharm": {
     "name": "#%%\n"
    }
   },
   "outputs": [
    {
     "data": {
      "text/plain": [
       "array(['ALB', 'ALT', 'CL', 'GLU', 'INR', 'NEUT', 'PLT', 'PT', 'PTT',\n",
       "       'TBIL', 'WBC', 'airway', 'bp', 'bun', 'creatinine', 'fio2',\n",
       "       'haemoglobin', 'hco3', 'hr', 'k', 'na', 'pain', 'pco2', 'peep',\n",
       "       'po2', 'resp', 'spo2', 'temp'], dtype=object)"
      ]
     },
     "execution_count": 183,
     "metadata": {},
     "output_type": "execute_result"
    }
   ],
   "source": [
    "final_values['VARIABLE'].unique()"
   ]
  },
  {
   "cell_type": "code",
   "execution_count": 184,
   "metadata": {
    "pycharm": {
     "name": "#%%\n"
    }
   },
   "outputs": [],
   "source": [
    "vars_to_use_fv = [var for var in final_values['VARIABLE'].unique()]"
   ]
  },
  {
   "cell_type": "code",
   "execution_count": 185,
   "metadata": {
    "pycharm": {
     "name": "#%%\n"
    }
   },
   "outputs": [
    {
     "data": {
      "text/plain": [
       "['ALB',\n",
       " 'ALT',\n",
       " 'CL',\n",
       " 'GLU',\n",
       " 'INR',\n",
       " 'NEUT',\n",
       " 'PLT',\n",
       " 'PT',\n",
       " 'PTT',\n",
       " 'TBIL',\n",
       " 'WBC',\n",
       " 'airway',\n",
       " 'bp',\n",
       " 'bun',\n",
       " 'creatinine',\n",
       " 'fio2',\n",
       " 'haemoglobin',\n",
       " 'hco3',\n",
       " 'hr',\n",
       " 'k',\n",
       " 'na',\n",
       " 'pain',\n",
       " 'pco2',\n",
       " 'peep',\n",
       " 'po2',\n",
       " 'resp',\n",
       " 'spo2',\n",
       " 'temp']"
      ]
     },
     "execution_count": 185,
     "metadata": {},
     "output_type": "execute_result"
    }
   ],
   "source": [
    "vars_to_use_fv"
   ]
  },
  {
   "cell_type": "code",
   "execution_count": 186,
   "metadata": {
    "pycharm": {
     "name": "#%%\n"
    }
   },
   "outputs": [
    {
     "data": {
      "text/plain": [
       "Index(['ICUSTAY_ID', 'CL', 'temp_min', 'temp_max', 'spo2_min', 'spo2_max',\n",
       "       'resp_min', 'resp_max', 'pain', 'na', 'k', 'hr_min', 'hr_max',\n",
       "       'haemoglobin', 'creatinine', 'bun', 'bp_min', 'bp_max', 'WBC', 'PLT',\n",
       "       'GLU_min', 'GLU_max', 'hco3', 'airway'],\n",
       "      dtype='object')"
      ]
     },
     "execution_count": 186,
     "metadata": {},
     "output_type": "execute_result"
    }
   ],
   "source": [
    "FM_filled.columns"
   ]
  },
  {
   "cell_type": "code",
   "execution_count": 187,
   "metadata": {
    "pycharm": {
     "name": "#%%\n"
    }
   },
   "outputs": [
    {
     "data": {
      "text/plain": [
       "Index(['ICUSTAY_ID', 'CL', 'temp_min', 'temp_max', 'spo2_min', 'spo2_max',\n",
       "       'resp_min', 'resp_max', 'pain', 'na', 'k', 'hr_min', 'hr_max',\n",
       "       'haemoglobin', 'creatinine', 'bun', 'bp_min', 'bp_max', 'WBC', 'PLT',\n",
       "       'GLU_min', 'GLU_max', 'hco3'],\n",
       "      dtype='object')"
      ]
     },
     "execution_count": 187,
     "metadata": {},
     "output_type": "execute_result"
    }
   ],
   "source": [
    "FM.columns"
   ]
  },
  {
   "cell_type": "code",
   "execution_count": 188,
   "metadata": {
    "pycharm": {
     "name": "#%%\n"
    }
   },
   "outputs": [],
   "source": [
    "FM_filled = FM_filled.sort_values(ascending=True, by='ICUSTAY_ID')\n"
   ]
  },
  {
   "cell_type": "markdown",
   "metadata": {
    "pycharm": {
     "name": "#%% md\n"
    }
   },
   "source": [
    "We now replace missing values (from four hour window) with final values from the extended window (where available):\n",
    "我们现在替换缺失的值(从四个小时窗口)与最终值从扩展窗口(在可用的地方):\n"
   ]
  },
  {
   "cell_type": "code",
   "execution_count": 189,
   "metadata": {
    "pycharm": {
     "name": "#%%\n"
    }
   },
   "outputs": [],
   "source": [
    "def replace_missing_value(subset, variable, FM_filled, N, vtype='min'):\n",
    "    if vtype=='min':\n",
    "        suffix = '_min'\n",
    "    elif vtype=='max':\n",
    "        suffix = '_max'\n",
    "    elif vtype=='single':\n",
    "        suffix = ''\n",
    "    new_col = []\n",
    "    _subset_row_counter = 0\n",
    "\n",
    "    for iid,val in zip(FM_filled['ICUSTAY_ID'], FM_filled[variable+suffix]):\n",
    "#if rid<=N and _subset.loc[rid]['C.ICUSTAY_ID']==sid:\n",
    "        if val is None:\n",
    "            if _subset_row_counter<=N and subset.loc[_subset_row_counter]['C.ICUSTAY_ID']==iid:\n",
    "                new_col.append(subset.loc[_subset_row_counter]['VALUENUM'])\n",
    "                _subset_row_counter += 1\n",
    "            else:\n",
    "                new_col.append(None)\n",
    "        else:\n",
    "            new_col.append(val)\n",
    "\n",
    "    FM_filled[variable+suffix] = new_col\n",
    "    return FM_filled"
   ]
  },
  {
   "cell_type": "code",
   "execution_count": 190,
   "metadata": {
    "pycharm": {
     "name": "#%%\n"
    }
   },
   "outputs": [
    {
     "name": "stdout",
     "output_type": "stream",
     "text": [
      "ALB\n"
     ]
    },
    {
     "ename": "KeyError",
     "evalue": "'ALB'",
     "output_type": "error",
     "traceback": [
      "\u001b[1;31m---------------------------------------------------------------------------\u001b[0m",
      "\u001b[1;31mKeyError\u001b[0m                                  Traceback (most recent call last)",
      "\u001b[1;32mE:\\Anaconda\\lib\\site-packages\\pandas\\core\\indexes\\base.py\u001b[0m in \u001b[0;36mget_loc\u001b[1;34m(self, key, method, tolerance)\u001b[0m\n\u001b[0;32m   3360\u001b[0m             \u001b[1;32mtry\u001b[0m\u001b[1;33m:\u001b[0m\u001b[1;33m\u001b[0m\u001b[0m\n\u001b[1;32m-> 3361\u001b[1;33m                 \u001b[1;32mreturn\u001b[0m \u001b[0mself\u001b[0m\u001b[1;33m.\u001b[0m\u001b[0m_engine\u001b[0m\u001b[1;33m.\u001b[0m\u001b[0mget_loc\u001b[0m\u001b[1;33m(\u001b[0m\u001b[0mcasted_key\u001b[0m\u001b[1;33m)\u001b[0m\u001b[1;33m\u001b[0m\u001b[0m\n\u001b[0m\u001b[0;32m   3362\u001b[0m             \u001b[1;32mexcept\u001b[0m \u001b[0mKeyError\u001b[0m \u001b[1;32mas\u001b[0m \u001b[0merr\u001b[0m\u001b[1;33m:\u001b[0m\u001b[1;33m\u001b[0m\u001b[0m\n",
      "\u001b[1;32mE:\\Anaconda\\lib\\site-packages\\pandas\\_libs\\index.pyx\u001b[0m in \u001b[0;36mpandas._libs.index.IndexEngine.get_loc\u001b[1;34m()\u001b[0m\n",
      "\u001b[1;32mE:\\Anaconda\\lib\\site-packages\\pandas\\_libs\\index.pyx\u001b[0m in \u001b[0;36mpandas._libs.index.IndexEngine.get_loc\u001b[1;34m()\u001b[0m\n",
      "\u001b[1;32mpandas\\_libs\\hashtable_class_helper.pxi\u001b[0m in \u001b[0;36mpandas._libs.hashtable.PyObjectHashTable.get_item\u001b[1;34m()\u001b[0m\n",
      "\u001b[1;32mpandas\\_libs\\hashtable_class_helper.pxi\u001b[0m in \u001b[0;36mpandas._libs.hashtable.PyObjectHashTable.get_item\u001b[1;34m()\u001b[0m\n",
      "\u001b[1;31mKeyError\u001b[0m: 'ALB'",
      "\nThe above exception was the direct cause of the following exception:\n",
      "\u001b[1;31mKeyError\u001b[0m                                  Traceback (most recent call last)",
      "\u001b[1;32m~\\AppData\\Local\\Temp\\ipykernel_17748\\4065840633.py\u001b[0m in \u001b[0;36m<module>\u001b[1;34m\u001b[0m\n\u001b[0;32m     10\u001b[0m         \u001b[0mFM_filled\u001b[0m \u001b[1;33m=\u001b[0m \u001b[0mreplace_missing_value\u001b[0m\u001b[1;33m(\u001b[0m\u001b[0m_subset\u001b[0m\u001b[1;33m,\u001b[0m \u001b[0mvariable\u001b[0m\u001b[1;33m,\u001b[0m \u001b[0mFM_filled\u001b[0m\u001b[1;33m,\u001b[0m \u001b[0mN\u001b[0m\u001b[1;33m,\u001b[0m \u001b[0mvtype\u001b[0m\u001b[1;33m=\u001b[0m\u001b[1;34m'max'\u001b[0m\u001b[1;33m)\u001b[0m\u001b[1;33m\u001b[0m\u001b[0m\n\u001b[0;32m     11\u001b[0m     \u001b[1;32melse\u001b[0m\u001b[1;33m:\u001b[0m\u001b[1;33m\u001b[0m\u001b[0m\n\u001b[1;32m---> 12\u001b[1;33m         \u001b[0mFM_filled\u001b[0m \u001b[1;33m=\u001b[0m \u001b[0mreplace_missing_value\u001b[0m\u001b[1;33m(\u001b[0m\u001b[0m_subset\u001b[0m\u001b[1;33m,\u001b[0m \u001b[0mvariable\u001b[0m\u001b[1;33m,\u001b[0m \u001b[0mFM_filled\u001b[0m\u001b[1;33m,\u001b[0m \u001b[0mN\u001b[0m\u001b[1;33m,\u001b[0m \u001b[0mvtype\u001b[0m\u001b[1;33m=\u001b[0m\u001b[1;34m'single'\u001b[0m\u001b[1;33m)\u001b[0m\u001b[1;33m\u001b[0m\u001b[0m\n\u001b[0m",
      "\u001b[1;32m~\\AppData\\Local\\Temp\\ipykernel_17748\\2751988089.py\u001b[0m in \u001b[0;36mreplace_missing_value\u001b[1;34m(subset, variable, FM_filled, N, vtype)\u001b[0m\n\u001b[0;32m      9\u001b[0m     \u001b[0m_subset_row_counter\u001b[0m \u001b[1;33m=\u001b[0m \u001b[1;36m0\u001b[0m\u001b[1;33m\u001b[0m\u001b[0m\n\u001b[0;32m     10\u001b[0m \u001b[1;33m\u001b[0m\u001b[0m\n\u001b[1;32m---> 11\u001b[1;33m     \u001b[1;32mfor\u001b[0m \u001b[0miid\u001b[0m\u001b[1;33m,\u001b[0m\u001b[0mval\u001b[0m \u001b[1;32min\u001b[0m \u001b[0mzip\u001b[0m\u001b[1;33m(\u001b[0m\u001b[0mFM_filled\u001b[0m\u001b[1;33m[\u001b[0m\u001b[1;34m'ICUSTAY_ID'\u001b[0m\u001b[1;33m]\u001b[0m\u001b[1;33m,\u001b[0m \u001b[0mFM_filled\u001b[0m\u001b[1;33m[\u001b[0m\u001b[0mvariable\u001b[0m\u001b[1;33m+\u001b[0m\u001b[0msuffix\u001b[0m\u001b[1;33m]\u001b[0m\u001b[1;33m)\u001b[0m\u001b[1;33m:\u001b[0m\u001b[1;33m\u001b[0m\u001b[0m\n\u001b[0m\u001b[0;32m     12\u001b[0m \u001b[1;31m#if rid<=N and _subset.loc[rid]['C.ICUSTAY_ID']==sid:\u001b[0m\u001b[1;33m\u001b[0m\u001b[1;33m\u001b[0m\u001b[0m\n\u001b[0;32m     13\u001b[0m         \u001b[1;32mif\u001b[0m \u001b[0mval\u001b[0m \u001b[1;32mis\u001b[0m \u001b[1;32mNone\u001b[0m\u001b[1;33m:\u001b[0m\u001b[1;33m\u001b[0m\u001b[0m\n",
      "\u001b[1;32mE:\\Anaconda\\lib\\site-packages\\pandas\\core\\frame.py\u001b[0m in \u001b[0;36m__getitem__\u001b[1;34m(self, key)\u001b[0m\n\u001b[0;32m   3456\u001b[0m             \u001b[1;32mif\u001b[0m \u001b[0mself\u001b[0m\u001b[1;33m.\u001b[0m\u001b[0mcolumns\u001b[0m\u001b[1;33m.\u001b[0m\u001b[0mnlevels\u001b[0m \u001b[1;33m>\u001b[0m \u001b[1;36m1\u001b[0m\u001b[1;33m:\u001b[0m\u001b[1;33m\u001b[0m\u001b[0m\n\u001b[0;32m   3457\u001b[0m                 \u001b[1;32mreturn\u001b[0m \u001b[0mself\u001b[0m\u001b[1;33m.\u001b[0m\u001b[0m_getitem_multilevel\u001b[0m\u001b[1;33m(\u001b[0m\u001b[0mkey\u001b[0m\u001b[1;33m)\u001b[0m\u001b[1;33m\u001b[0m\u001b[0m\n\u001b[1;32m-> 3458\u001b[1;33m             \u001b[0mindexer\u001b[0m \u001b[1;33m=\u001b[0m \u001b[0mself\u001b[0m\u001b[1;33m.\u001b[0m\u001b[0mcolumns\u001b[0m\u001b[1;33m.\u001b[0m\u001b[0mget_loc\u001b[0m\u001b[1;33m(\u001b[0m\u001b[0mkey\u001b[0m\u001b[1;33m)\u001b[0m\u001b[1;33m\u001b[0m\u001b[0m\n\u001b[0m\u001b[0;32m   3459\u001b[0m             \u001b[1;32mif\u001b[0m \u001b[0mis_integer\u001b[0m\u001b[1;33m(\u001b[0m\u001b[0mindexer\u001b[0m\u001b[1;33m)\u001b[0m\u001b[1;33m:\u001b[0m\u001b[1;33m\u001b[0m\u001b[0m\n\u001b[0;32m   3460\u001b[0m                 \u001b[0mindexer\u001b[0m \u001b[1;33m=\u001b[0m \u001b[1;33m[\u001b[0m\u001b[0mindexer\u001b[0m\u001b[1;33m]\u001b[0m\u001b[1;33m\u001b[0m\u001b[0m\n",
      "\u001b[1;32mE:\\Anaconda\\lib\\site-packages\\pandas\\core\\indexes\\base.py\u001b[0m in \u001b[0;36mget_loc\u001b[1;34m(self, key, method, tolerance)\u001b[0m\n\u001b[0;32m   3361\u001b[0m                 \u001b[1;32mreturn\u001b[0m \u001b[0mself\u001b[0m\u001b[1;33m.\u001b[0m\u001b[0m_engine\u001b[0m\u001b[1;33m.\u001b[0m\u001b[0mget_loc\u001b[0m\u001b[1;33m(\u001b[0m\u001b[0mcasted_key\u001b[0m\u001b[1;33m)\u001b[0m\u001b[1;33m\u001b[0m\u001b[0m\n\u001b[0;32m   3362\u001b[0m             \u001b[1;32mexcept\u001b[0m \u001b[0mKeyError\u001b[0m \u001b[1;32mas\u001b[0m \u001b[0merr\u001b[0m\u001b[1;33m:\u001b[0m\u001b[1;33m\u001b[0m\u001b[0m\n\u001b[1;32m-> 3363\u001b[1;33m                 \u001b[1;32mraise\u001b[0m \u001b[0mKeyError\u001b[0m\u001b[1;33m(\u001b[0m\u001b[0mkey\u001b[0m\u001b[1;33m)\u001b[0m \u001b[1;32mfrom\u001b[0m \u001b[0merr\u001b[0m\u001b[1;33m\u001b[0m\u001b[0m\n\u001b[0m\u001b[0;32m   3364\u001b[0m \u001b[1;33m\u001b[0m\u001b[0m\n\u001b[0;32m   3365\u001b[0m         \u001b[1;32mif\u001b[0m \u001b[0mis_scalar\u001b[0m\u001b[1;33m(\u001b[0m\u001b[0mkey\u001b[0m\u001b[1;33m)\u001b[0m \u001b[1;32mand\u001b[0m \u001b[0misna\u001b[0m\u001b[1;33m(\u001b[0m\u001b[0mkey\u001b[0m\u001b[1;33m)\u001b[0m \u001b[1;32mand\u001b[0m \u001b[1;32mnot\u001b[0m \u001b[0mself\u001b[0m\u001b[1;33m.\u001b[0m\u001b[0mhasnans\u001b[0m\u001b[1;33m:\u001b[0m\u001b[1;33m\u001b[0m\u001b[0m\n",
      "\u001b[1;31mKeyError\u001b[0m: 'ALB'"
     ]
    }
   ],
   "source": [
    "for variable in vars_to_use_fv:\n",
    "    print (variable)\n",
    "    _subset2 = final_values[final_values['VARIABLE']==variable].reset_index(drop=True)\n",
    "    _subset3 = _subset2.sort_values(by='C.ICUSTAY_ID')\n",
    "    _subset = _subset2\n",
    "#_subset = features[features['VARIABLE']==var].reset_index(drop=True)\n",
    "    N = len(_subset)-1\n",
    "    if variable not in single_feature_variables:\n",
    "        FM_filled = replace_missing_value(_subset, variable, FM_filled, N, vtype='min')\n",
    "        FM_filled = replace_missing_value(_subset, variable, FM_filled, N, vtype='max')\n",
    "    else:\n",
    "        FM_filled = replace_missing_value(_subset, variable, FM_filled, N, vtype='single')"
   ]
  },
  {
   "cell_type": "code",
   "execution_count": 191,
   "metadata": {
    "pycharm": {
     "name": "#%%\n"
    }
   },
   "outputs": [
    {
     "data": {
      "text/html": [
       "<div>\n",
       "<style scoped>\n",
       "    .dataframe tbody tr th:only-of-type {\n",
       "        vertical-align: middle;\n",
       "    }\n",
       "\n",
       "    .dataframe tbody tr th {\n",
       "        vertical-align: top;\n",
       "    }\n",
       "\n",
       "    .dataframe thead th {\n",
       "        text-align: right;\n",
       "    }\n",
       "</style>\n",
       "<table border=\"1\" class=\"dataframe\">\n",
       "  <thead>\n",
       "    <tr style=\"text-align: right;\">\n",
       "      <th></th>\n",
       "      <th>C.ICUSTAY_ID</th>\n",
       "      <th>VARIABLE</th>\n",
       "      <th>hrs_bRFD</th>\n",
       "      <th>VALUENUM</th>\n",
       "    </tr>\n",
       "  </thead>\n",
       "  <tbody>\n",
       "    <tr>\n",
       "      <th>0</th>\n",
       "      <td>200227.0</td>\n",
       "      <td>ALB</td>\n",
       "      <td>35.268611</td>\n",
       "      <td>2.6</td>\n",
       "    </tr>\n",
       "    <tr>\n",
       "      <th>1</th>\n",
       "      <td>200349.0</td>\n",
       "      <td>ALB</td>\n",
       "      <td>28.687500</td>\n",
       "      <td>2.9</td>\n",
       "    </tr>\n",
       "    <tr>\n",
       "      <th>2</th>\n",
       "      <td>200708.0</td>\n",
       "      <td>ALB</td>\n",
       "      <td>31.309167</td>\n",
       "      <td>2.7</td>\n",
       "    </tr>\n",
       "    <tr>\n",
       "      <th>3</th>\n",
       "      <td>200749.0</td>\n",
       "      <td>ALB</td>\n",
       "      <td>31.736667</td>\n",
       "      <td>3.3</td>\n",
       "    </tr>\n",
       "    <tr>\n",
       "      <th>4</th>\n",
       "      <td>200806.0</td>\n",
       "      <td>ALB</td>\n",
       "      <td>26.615278</td>\n",
       "      <td>2.0</td>\n",
       "    </tr>\n",
       "    <tr>\n",
       "      <th>...</th>\n",
       "      <td>...</td>\n",
       "      <td>...</td>\n",
       "      <td>...</td>\n",
       "      <td>...</td>\n",
       "    </tr>\n",
       "    <tr>\n",
       "      <th>309</th>\n",
       "      <td>298599.0</td>\n",
       "      <td>ALB</td>\n",
       "      <td>32.312778</td>\n",
       "      <td>2.8</td>\n",
       "    </tr>\n",
       "    <tr>\n",
       "      <th>310</th>\n",
       "      <td>298618.0</td>\n",
       "      <td>ALB</td>\n",
       "      <td>27.541389</td>\n",
       "      <td>2.8</td>\n",
       "    </tr>\n",
       "    <tr>\n",
       "      <th>311</th>\n",
       "      <td>298866.0</td>\n",
       "      <td>ALB</td>\n",
       "      <td>34.163056</td>\n",
       "      <td>3.3</td>\n",
       "    </tr>\n",
       "    <tr>\n",
       "      <th>312</th>\n",
       "      <td>298894.0</td>\n",
       "      <td>ALB</td>\n",
       "      <td>27.092778</td>\n",
       "      <td>4.4</td>\n",
       "    </tr>\n",
       "    <tr>\n",
       "      <th>313</th>\n",
       "      <td>298968.0</td>\n",
       "      <td>ALB</td>\n",
       "      <td>31.385000</td>\n",
       "      <td>4.5</td>\n",
       "    </tr>\n",
       "  </tbody>\n",
       "</table>\n",
       "<p>314 rows × 4 columns</p>\n",
       "</div>"
      ],
      "text/plain": [
       "     C.ICUSTAY_ID VARIABLE   hrs_bRFD  VALUENUM\n",
       "0        200227.0      ALB  35.268611       2.6\n",
       "1        200349.0      ALB  28.687500       2.9\n",
       "2        200708.0      ALB  31.309167       2.7\n",
       "3        200749.0      ALB  31.736667       3.3\n",
       "4        200806.0      ALB  26.615278       2.0\n",
       "..            ...      ...        ...       ...\n",
       "309      298599.0      ALB  32.312778       2.8\n",
       "310      298618.0      ALB  27.541389       2.8\n",
       "311      298866.0      ALB  34.163056       3.3\n",
       "312      298894.0      ALB  27.092778       4.4\n",
       "313      298968.0      ALB  31.385000       4.5\n",
       "\n",
       "[314 rows x 4 columns]"
      ]
     },
     "execution_count": 191,
     "metadata": {},
     "output_type": "execute_result"
    }
   ],
   "source": [
    "_subset"
   ]
  },
  {
   "cell_type": "markdown",
   "metadata": {
    "pycharm": {
     "name": "#%% md\n"
    }
   },
   "source": [
    "We see that this has improved the missingness for most variables:\n",
    "我们看到，这改善了大多数变量的缺失:"
   ]
  },
  {
   "cell_type": "code",
   "execution_count": 192,
   "metadata": {
    "pycharm": {
     "name": "#%%\n"
    }
   },
   "outputs": [
    {
     "name": "stdout",
     "output_type": "stream",
     "text": [
      "ICUSTAY_ID : 0.000\n",
      "CL : 0.026\n",
      "temp_min : 0.005\n",
      "temp_max : 0.005\n",
      "spo2_min : 0.004\n",
      "spo2_max : 0.004\n",
      "resp_min : 0.004\n",
      "resp_max : 0.004\n",
      "pain : 0.200\n",
      "na : 0.024\n",
      "k : 0.023\n",
      "hr_min : 0.003\n",
      "hr_max : 0.003\n",
      "haemoglobin : 0.037\n",
      "creatinine : 0.027\n",
      "bun : 0.027\n",
      "bp_min : 0.004\n",
      "bp_max : 0.004\n",
      "WBC : 0.037\n",
      "PLT : 0.037\n",
      "GLU_min : 0.025\n",
      "GLU_max : 0.025\n",
      "hco3 : 0.027\n",
      "airway : 0.000\n"
     ]
    }
   ],
   "source": [
    "nrows = float(len(FM_filled))\n",
    "for col in FM_filled.columns:\n",
    "    print( '%s : %.3f' %(col, (FM_filled[col].isnull().sum())/nrows))\n",
    "\n",
    "# miss_freq.append((FM['k'].isnull().sum())/nrows)\n",
    "# (FM['k'].isnull().sum())"
   ]
  },
  {
   "cell_type": "markdown",
   "metadata": {
    "pycharm": {
     "name": "#%% md\n"
    }
   },
   "source": [
    "错了  下面有类四的方法，，，在最后的部分，，， 解决方法放在了下面"
   ]
  },
  {
   "cell_type": "code",
   "execution_count": null,
   "metadata": {
    "pycharm": {
     "name": "#%%\n"
    }
   },
   "outputs": [],
   "source": [
    "#                         原来程序错误，使用替代方法\n",
    "# missing_data_summary['mimic_36hr'] = missing_data_summary.apply\\\n",
    "#     (lambda row: sum(FM_filled[row['variable']].isnull())/nrows\n",
    "#     if row['variable']!='ICUSTAY' else 0.0)\n",
    "nrows = float(len(FM_filled))\n",
    "for i in FM_filled.columns:\n",
    "    missing_data_summary['mimic_36hr']=\\\n",
    "        missing_data_summary['variable'].apply(lambda i : (FM_filled[i].isnull().sum())/nrows\n",
    "                                               if i!='ICUSTAY' else 0.0)"
   ]
  },
  {
   "cell_type": "code",
   "execution_count": null,
   "metadata": {
    "pycharm": {
     "name": "#%%\n"
    }
   },
   "outputs": [],
   "source": [
    "# missing_data_summary"
   ]
  },
  {
   "cell_type": "code",
   "execution_count": null,
   "metadata": {
    "pycharm": {
     "name": "#%%\n"
    }
   },
   "outputs": [],
   "source": [
    "missing_data_summary['mimic_36hr']"
   ]
  },
  {
   "cell_type": "code",
   "execution_count": null,
   "metadata": {
    "pycharm": {
     "name": "#%%\n"
    }
   },
   "outputs": [],
   "source": [
    "summary1=summary.reset_index()\n",
    "# summary1\n",
    "_sum_sub = summary1[['C.ICUSTAY_ID', 'cohort', 'outcome']]\n",
    "_sum_sub = _sum_sub.rename(columns={'C.ICUSTAY_ID':'ICUSTAY_ID'})"
   ]
  },
  {
   "cell_type": "code",
   "execution_count": null,
   "metadata": {
    "pycharm": {
     "name": "#%%\n"
    }
   },
   "outputs": [],
   "source": [
    "# FM_filled = FM_filled.join(how='inner', on='ICUSTAY_ID', right=_sum_sub)\n",
    "FM_filled = pd.merge(FM_filled,_sum_sub ,how='inner', on='ICUSTAY_ID')"
   ]
  },
  {
   "cell_type": "markdown",
   "metadata": {
    "pycharm": {
     "name": "#%% md\n"
    }
   },
   "source": [
    "We now have a feature matrix. However, the class sizes are highly imbalanced.\n",
    "We decided to balance the class sizes by creating more instances of the negative class. We do this by sampling the patients at integer multiples of 24 hours prior to their CALLOUT.\n",
    "现在我们有了一个特征矩阵。然而，班级规模是高度不平衡的。我们决定通过创建更多的负类实例来平衡类的大小。\n",
    "我们通过在患者CALLOUT前24小时的整数倍采样来做到这一点。"
   ]
  },
  {
   "cell_type": "code",
   "execution_count": null,
   "metadata": {
    "pycharm": {
     "name": "#%%\n"
    }
   },
   "outputs": [],
   "source": [
    "all_data =pd.read_pickle(DATA_PATH)"
   ]
  },
  {
   "cell_type": "markdown",
   "metadata": {
    "pycharm": {
     "name": "#%% md\n"
    }
   },
   "source": [
    "We look at how many stays are available at Xi days prior to callout,\n",
    "and how many extra samples would be required to balance the class sizes:\n",
    "我们查看了在预约前的几天，Xi有多少个住宿名额，以及需要多少额外的样本来平衡班级规模:"
   ]
  },
  {
   "cell_type": "code",
   "execution_count": null,
   "metadata": {
    "pycharm": {
     "name": "#%%\n"
    }
   },
   "outputs": [],
   "source": [
    "# _stay_summary = \\\n",
    "#     all_data.groupby(key_columns='C.ICUSTAY_ID',\n",
    "#                      operations={'outcome':agg.SELECT_ONE('outcome'),\n",
    "#                                  'RFD':agg.SELECT_ONE('RFD'),\n",
    "#                                  'intime':agg.SELECT_ONE('II.INTIME')\n",
    "#                                  })\n",
    "_stay_summary = all_data.groupby(by='C.ICUSTAY_ID').agg(\n",
    "    outcome=('outcome',np.random.choice),\n",
    "    RFD=('RFD',np.random.choice),\n",
    "    intime=('II.INTIME',np.random.choice)\n",
    ")"
   ]
  },
  {
   "cell_type": "code",
   "execution_count": null,
   "metadata": {
    "pycharm": {
     "name": "#%%\n"
    }
   },
   "outputs": [],
   "source": [
    "_stay_summary['len'] = (_stay_summary['RFD'] - _stay_summary['intime'])/pd.Timedelta('1h')"
   ]
  },
  {
   "cell_type": "code",
   "execution_count": null,
   "metadata": {
    "pycharm": {
     "name": "#%%\n"
    }
   },
   "outputs": [],
   "source": [
    "# _stay_summary"
   ]
  },
  {
   "cell_type": "code",
   "execution_count": null,
   "metadata": {
    "pycharm": {
     "name": "#%%\n"
    }
   },
   "outputs": [],
   "source": [
    "# _stay_summary.info()"
   ]
  },
  {
   "cell_type": "code",
   "execution_count": null,
   "metadata": {
    "pycharm": {
     "name": "#%%\n"
    }
   },
   "outputs": [],
   "source": [
    "fx = lambda x:24*x + 4\n"
   ]
  },
  {
   "cell_type": "code",
   "execution_count": null,
   "metadata": {
    "pycharm": {
     "name": "#%%\n"
    }
   },
   "outputs": [],
   "source": [
    "_stays = []\n",
    "for i in range(10):\n",
    "    _stays.append(sum(_stay_summary['len'] >= fx(i)))"
   ]
  },
  {
   "cell_type": "code",
   "execution_count": null,
   "metadata": {
    "pycharm": {
     "name": "#%%\n"
    }
   },
   "outputs": [],
   "source": [
    "_stays"
   ]
  },
  {
   "cell_type": "code",
   "execution_count": null,
   "metadata": {
    "pycharm": {
     "name": "#%%\n"
    }
   },
   "outputs": [],
   "source": [
    "num_rfd0 = sum(FM_filled['outcome'])\n",
    "num_nrfd0 = len(FM_filled['outcome']) - num_rfd0\n",
    "\n",
    "print (num_rfd0)\n",
    "print (num_nrfd0)\n",
    "print (\"We would need at least %d extra samples to balance the classes.\" %(num_rfd0 - num_nrfd0))\n",
    "\n"
   ]
  },
  {
   "cell_type": "code",
   "execution_count": null,
   "metadata": {
    "pycharm": {
     "name": "#%%\n"
    }
   },
   "outputs": [],
   "source": [
    "fsa = 15\n",
    "\n",
    "plt.bar(range(10), _stays, color='r', label='NRFD')\n",
    "ax = plt.gca()\n",
    "ax.bar(0,num_rfd0, color='g', label='RFD')\n",
    "plt.legend(fontsize=fsa)\n",
    "plt.xlabel('Xi days', fontsize=fsa)\n",
    "plt.ylabel('number of patients', fontsize=fsa)\n",
    "plt.xticks(fontsize=fsa-2)\n",
    "plt.yticks(fontsize=fsa-2)\n",
    "plt.tight_layout()\n",
    "plt.savefig('mimic_negex_bars.png')\n",
    "\n"
   ]
  },
  {
   "cell_type": "markdown",
   "metadata": {
    "pycharm": {
     "name": "#%% md\n"
    }
   },
   "source": [
    "We determine that sampling at Xi in (3-8) will provide more than enough extra NRFD instances.\n",
    "我们确定在Xi(3-8)取样将提供足够多的额外NRFD实例。"
   ]
  },
  {
   "cell_type": "code",
   "execution_count": null,
   "metadata": {
    "pycharm": {
     "name": "#%%\n"
    }
   },
   "outputs": [],
   "source": [
    "def sample_at_xi(_all_data, _summary, xi=3, h=4):\n",
    "    ## selects stays to include in negative extras\n",
    "    ## xi is integer number of days before RFD flag\n",
    "    ## h is sample window length (4 hours is NLD standard)\n",
    "    ##      new: only stays that are at least (xi+1)*24 hours long are included\n",
    "    ##           so that sample point does not fall within 24 hours of ICU admission (thanks to reviewer 2)\n",
    "\n",
    "    sids = _summary[_summary['len']>= fx(xi + 1)]['C.ICUSTAY_ID']  ## added +1 to filter out sample points that would be witin 24 hours of admission to ICU\n",
    "    # sub_data = _all_data.filter_by(column_name='C.ICUSTAY_ID',values=sids, exclude=False)\n",
    "    sub_data = _all_data[_all_data['C.ICUSTAY_ID'].isin(sids)]\n",
    "\n",
    "    sub_data = sub_data[sub_data['hrs_bRFD']>= 24*xi]\n",
    "    sub_data = sub_data[sub_data['hrs_bRFD']<= 24*xi + h]\n",
    "    return sub_data"
   ]
  },
  {
   "cell_type": "code",
   "execution_count": null,
   "metadata": {
    "pycharm": {
     "name": "#%%\n"
    }
   },
   "outputs": [],
   "source": [
    "Xi_range = [3,4,5,6,7,8]\n",
    "H = 4\n",
    "fx = lambda x:24*x + H\n",
    "_stay_summary=_stay_summary.reset_index()\n",
    "\n",
    "for Xi in Xi_range:\n",
    "\n",
    "    sub_data = sample_at_xi(all_data, _stay_summary, Xi, H)\n",
    "    print (\"Xi = %d, ns = %d\" %(Xi, len(sub_data['C.ICUSTAY_ID'].unique())))"
   ]
  },
  {
   "cell_type": "code",
   "execution_count": null,
   "metadata": {
    "pycharm": {
     "name": "#%%\n"
    }
   },
   "outputs": [],
   "source": [
    "sub_data"
   ]
  },
  {
   "cell_type": "code",
   "execution_count": null,
   "metadata": {
    "pycharm": {
     "name": "#%%\n"
    }
   },
   "outputs": [],
   "source": [
    "print (\"The lowest ICUSTAY_ID in the dataset is: %s.\" %min(all_data['C.ICUSTAY_ID']))"
   ]
  },
  {
   "cell_type": "markdown",
   "metadata": {
    "pycharm": {
     "name": "#%% md\n"
    }
   },
   "source": [
    "We create a one-to-one ID mapping\n",
    "so we can unqileuy identify which patient each new sample comes from:\n",
    "我们创建了一个一对一的ID映射，这样我们就可以确定每个新样本来自哪个病人:\n",
    "\n"
   ]
  },
  {
   "cell_type": "code",
   "execution_count": null,
   "metadata": {
    "pycharm": {
     "name": "#%%\n"
    }
   },
   "outputs": [],
   "source": [
    "id_mapping = pd.DataFrame()\n",
    "largest_id = max(all_data['C.ICUSTAY_ID'])"
   ]
  },
  {
   "cell_type": "code",
   "execution_count": null,
   "metadata": {
    "pycharm": {
     "name": "#%%\n"
    }
   },
   "outputs": [],
   "source": [
    "for Xi in Xi_range:\n",
    "    sub_data = sample_at_xi(all_data, _stay_summary, Xi, H)\n",
    "\n",
    "    L = len(sub_data['C.ICUSTAY_ID'].unique())\n",
    "    _temp_id_mapping = pd.DataFrame()\n",
    "    _temp_id_mapping['Xi'] = Xi * np.ones(L)\n",
    "    _temp_id_mapping['ICUSTAY_ID'] = sub_data['C.ICUSTAY_ID'].unique()\n",
    "    id_mapping = id_mapping.append(_temp_id_mapping)"
   ]
  },
  {
   "cell_type": "code",
   "execution_count": null,
   "metadata": {
    "pycharm": {
     "name": "#%%\n"
    }
   },
   "outputs": [],
   "source": [
    "id_mapping['new_ID'] = np.arange(len(id_mapping))"
   ]
  },
  {
   "cell_type": "code",
   "execution_count": null,
   "metadata": {
    "pycharm": {
     "name": "#%%\n"
    }
   },
   "outputs": [],
   "source": [
    "id_mapping"
   ]
  },
  {
   "cell_type": "code",
   "execution_count": null,
   "metadata": {
    "pycharm": {
     "name": "#%%\n"
    }
   },
   "outputs": [],
   "source": [
    "if SAVE_FLAG:\n",
    "    id_mapping.to_pickle('mimic_negative_extras_id_mapping1')"
   ]
  },
  {
   "cell_type": "markdown",
   "metadata": {
    "pycharm": {
     "name": "#%% md\n"
    }
   },
   "source": [
    "Get features for the new samples at Xi = [3,4,5,6,7,8]:\n",
    "\n",
    "获取Xi =[3,4,5,6,7,8]的新样本特征:"
   ]
  },
  {
   "cell_type": "code",
   "execution_count": null,
   "metadata": {
    "pycharm": {
     "name": "#%%\n"
    }
   },
   "outputs": [],
   "source": [
    "sub_data1 = sample_at_xi(all_data, _stay_summary, Xi_range[0], 4)\n",
    "sub_data1['C.VALUENUM']"
   ]
  },
  {
   "cell_type": "code",
   "execution_count": null,
   "metadata": {
    "pycharm": {
     "name": "#%%\n"
    }
   },
   "outputs": [],
   "source": [
    "def get_Xi_features(Xi, all_data, _stay_summary, id_mapping, H=4):\n",
    "    sub_data3 = sample_at_xi(all_data, _stay_summary, Xi, H)\n",
    "    ## now get features from subset of data:现在从数据子集中获取特征:\n",
    "    sub_data3['C.VALUENUM']=sub_data3['C.VALUENUM'].astype(float)\n",
    "    # sub_data['C.VALUENUM']=sub_data['C.VALUENUM'].astype(float)\n",
    "    features3 = sub_data3.groupby(by=['C.ICUSTAY_ID', 'VARIABLE'])\n",
    "    features = features3.agg(\n",
    "        min=('C.VALUENUM','min'),\n",
    "        max=('C.VALUENUM','max'),\n",
    "        mean=('C.VALUENUM','mean'),\n",
    "        var=('C.VALUENUM','var'),\n",
    "        times=('C.CHARTTIME',np.random.choice),\n",
    "        values=('C.VALUENUM',np.random.choice),\n",
    "        count=('C.VALUENUM','count'),\n",
    "        cohort=('cohort',np.random.choice),\n",
    "        outcome=('outcome',np.random.choice)\n",
    "        )\n",
    "    ids = id_mapping[id_mapping['Xi']==float(Xi)]\n",
    "    features = features.reset_index()\n",
    "    features = features.rename(columns={'C.ICUSTAY_ID': 'ICUSTAY_ID'})\n",
    "    # features = features.join(right=ids, on='ICUSTAY_ID', how='inner')\n",
    "    features = pd.merge(features,ids, on='ICUSTAY_ID', how='inner')\n",
    "\n",
    "    # features = features.remove_column('ICUSTAY_ID')\n",
    "    features = features.drop(columns='ICUSTAY_ID',axis= 1)\n",
    "    features = features.rename(columns={'new_ID': 'C.ICUSTAY_ID'})\n",
    "\n",
    "    features = features.sort_values(ascending=True, by='C.ICUSTAY_ID')\n",
    "\n",
    "    _temp_FM = _split_features_to_columns(features)\n",
    "    return _temp_FM"
   ]
  },
  {
   "cell_type": "code",
   "execution_count": null,
   "metadata": {
    "pycharm": {
     "name": "#%%\n"
    }
   },
   "outputs": [],
   "source": [
    "_FM_negative = get_Xi_features(Xi_range[0], all_data, _stay_summary, id_mapping)"
   ]
  },
  {
   "cell_type": "code",
   "execution_count": null,
   "metadata": {
    "pycharm": {
     "name": "#%%\n"
    }
   },
   "outputs": [],
   "source": [
    "_FM_negative"
   ]
  },
  {
   "cell_type": "markdown",
   "metadata": {
    "pycharm": {
     "name": "#%% md\n"
    }
   },
   "source": [
    "从此处开始，是实验过程，很重要，对应上面的定义的函数"
   ]
  },
  {
   "cell_type": "code",
   "execution_count": null,
   "metadata": {
    "pycharm": {
     "name": "#%%\n"
    }
   },
   "outputs": [],
   "source": [
    "# sub_data2 = sample_at_xi(all_data, _stay_summary, Xi_range[0], 4)"
   ]
  },
  {
   "cell_type": "code",
   "execution_count": null,
   "metadata": {
    "pycharm": {
     "name": "#%%\n"
    }
   },
   "outputs": [],
   "source": [
    "# # sub_data['C.VALUENUM']=sub_data['C.VALUENUM'].astype(float)\n",
    "# sub_data2['C.VALUENUM']=sub_data2['C.VALUENUM'].astype(float)\n",
    "# features1 = sub_data2.groupby(by=['C.ICUSTAY_ID', 'VARIABLE'])"
   ]
  },
  {
   "cell_type": "code",
   "execution_count": null,
   "metadata": {
    "pycharm": {
     "name": "#%%\n"
    }
   },
   "outputs": [],
   "source": [
    "# features21 = features1.agg(\n",
    "#     min=('C.VALUENUM','min'),\n",
    "#     max=('C.VALUENUM','max'),\n",
    "#     mean=('C.VALUENUM','mean'),\n",
    "#     var=('C.VALUENUM','var'),\n",
    "#     times=('C.CHARTTIME',np.random.choice),\n",
    "#     values=('C.VALUENUM',np.random.choice),\n",
    "#     count=('C.VALUENUM','count'),\n",
    "#     cohort=('cohort',np.random.choice),\n",
    "#     outcome=('outcome',np.random.choice)\n",
    "# )\n",
    "#"
   ]
  },
  {
   "cell_type": "code",
   "execution_count": null,
   "metadata": {
    "pycharm": {
     "name": "#%%\n"
    }
   },
   "outputs": [],
   "source": [
    "# # sub_data['C.VALUENUM'].astype(float)"
   ]
  },
  {
   "cell_type": "code",
   "execution_count": null,
   "metadata": {
    "pycharm": {
     "name": "#%%\n"
    }
   },
   "outputs": [],
   "source": [
    "# Xi=Xi_range[0]\n",
    "# H=4\n",
    "# # ids = id_mapping.filter_by(column_name='Xi', values=float(Xi))\n",
    "# ids1 = id_mapping[id_mapping['Xi']==float(Xi)]"
   ]
  },
  {
   "cell_type": "code",
   "execution_count": null,
   "metadata": {
    "pycharm": {
     "name": "#%%\n"
    }
   },
   "outputs": [],
   "source": [
    "# features21 = features21.reset_index()"
   ]
  },
  {
   "cell_type": "code",
   "execution_count": null,
   "metadata": {
    "pycharm": {
     "name": "#%%\n"
    }
   },
   "outputs": [],
   "source": [
    "# features21 = features21.rename(columns={'C.ICUSTAY_ID': 'ICUSTAY_ID'})\n",
    "# # features = features.join(right=ids, on='ICUSTAY_ID', how='inner')\n",
    "# features21 = pd.merge(features21,ids1, on='ICUSTAY_ID', how='inner')"
   ]
  },
  {
   "cell_type": "code",
   "execution_count": null,
   "metadata": {
    "pycharm": {
     "name": "#%%\n"
    }
   },
   "outputs": [],
   "source": [
    "# features21"
   ]
  },
  {
   "cell_type": "code",
   "execution_count": null,
   "metadata": {
    "pycharm": {
     "name": "#%%\n"
    }
   },
   "outputs": [],
   "source": []
  },
  {
   "cell_type": "code",
   "execution_count": null,
   "metadata": {
    "pycharm": {
     "name": "#%%\n"
    }
   },
   "outputs": [],
   "source": [
    "# # features = features.remove_column('ICUSTAY_ID')\n",
    "# features21 = features21.drop(columns='ICUSTAY_ID',axis= 1)\n",
    "# features21 = features21.rename(columns={'new_ID': 'C.ICUSTAY_ID'})\n",
    "#\n",
    "# features21 = features21.sort_values(ascending=True, by='C.ICUSTAY_ID')"
   ]
  },
  {
   "cell_type": "code",
   "execution_count": null,
   "metadata": {
    "pycharm": {
     "name": "#%%\n"
    }
   },
   "outputs": [],
   "source": [
    "def _split_features_to_columns(features, single_feature_vars=single_feature_variables):\n",
    "    ''' Note: sort features by ICUSTAY_ID before using this function.'''\n",
    "\n",
    "    all_variables = features['VARIABLE'].unique()\n",
    "    # all_stay_ids = features['C.ICUSTAY_ID'].unique().sort()\n",
    "    all_stay_ids11=features['C.ICUSTAY_ID'].unique()\n",
    "    all_stay_ids11.sort()\n",
    "    all_stay_ids=all_stay_ids11\n",
    "\n",
    "    thisFM = pd.DataFrame()\n",
    "    thisFM['ICUSTAY_ID'] = all_stay_ids\n",
    "\n",
    "    for var in all_variables:\n",
    "        print(var)\n",
    "\n",
    "        var_min = []\n",
    "        var_max = []\n",
    "        var_values = []\n",
    "        var_count = []\n",
    "\n",
    "        _subset = features[features['VARIABLE']==var].reset_index(drop=True)\n",
    "        N = len(_subset)-1\n",
    "\n",
    "        rid = 0\n",
    "        for sid in all_stay_ids:\n",
    "            if rid<=N and _subset.loc[rid]['C.ICUSTAY_ID']==sid:\n",
    "                ## add data and move on a row\n",
    "                row = _subset.loc[rid]\n",
    "                var_min.append(row['min'])\n",
    "                var_max.append(row['max'])\n",
    "                var_values.append(row['values'])\n",
    "                rid += 1\n",
    "            else:\n",
    "                ## add None values and stay in place\n",
    "                var_min.append(None)\n",
    "                var_max.append(None)\n",
    "                var_values.append([])\n",
    "\n",
    "        if var not in single_feature_vars:\n",
    "            thisFM[var + '_min'] = var_min\n",
    "            thisFM[var + '_max'] = var_max\n",
    "\n",
    "        else:\n",
    "            ## if it is a single variable feature - take final value only .loc\n",
    "            for val in var_values:\n",
    "                # if val == 'bun' :\n",
    "                #     thisFM[var] = val[-1]\n",
    "                # else:\n",
    "                #     if len(val)>0:\n",
    "                #         thisFM[var] = val[-1]\n",
    "                #     else:\n",
    "                #         thisFM[var] = None\n",
    "                try:\n",
    "                    if len(val)>0:\n",
    "                        thisFM[var] = val[-1]\n",
    "                    else:\n",
    "                        thisFM[var] = None\n",
    "                except:\n",
    "                    val=str(val)\n",
    "                    thisFM[var] = val[-1]\n",
    "                # if val == 'bun' or len(val)>0:\n",
    "                #     thisFM[var] = val[-1]\n",
    "                # else:\n",
    "                #     thisFM[var] = None\n",
    "            # thisFM[var] = [val[-1]  if len(val)>0 else None for val in var_values]\n",
    "\n",
    "    return thisFM"
   ]
  },
  {
   "cell_type": "code",
   "execution_count": null,
   "metadata": {
    "pycharm": {
     "name": "#%%\n"
    }
   },
   "outputs": [],
   "source": [
    "# # _temp_FM = _split_features_to_columns(features)\n",
    "# _temp_FM1 = _split_features_to_columns(features21)\n",
    "#"
   ]
  },
  {
   "cell_type": "code",
   "execution_count": null,
   "metadata": {
    "pycharm": {
     "name": "#%%\n"
    }
   },
   "outputs": [],
   "source": [
    "# _FM_negative=_temp_FM"
   ]
  },
  {
   "cell_type": "code",
   "execution_count": null,
   "metadata": {
    "pycharm": {
     "name": "#%%\n"
    }
   },
   "outputs": [],
   "source": [
    "# _temp_FM1=_temp_FM"
   ]
  },
  {
   "cell_type": "markdown",
   "metadata": {
    "pycharm": {
     "name": "#%% md\n"
    }
   },
   "source": [
    "实验过程结束，中间 的定义的函数，是其中使用到的"
   ]
  },
  {
   "cell_type": "code",
   "execution_count": null,
   "metadata": {
    "pycharm": {
     "name": "#%%\n"
    }
   },
   "outputs": [],
   "source": [
    "for Xi in Xi_range[1:]:\n",
    "    print (Xi)\n",
    "    #下面不用管，实验过程\n",
    "\n",
    "    # H=4\n",
    "    # sub_data = sample_at_xi(all_data, _stay_summary, Xi, H)\n",
    "    # sub_data['C.VALUENUM']=sub_data['C.VALUENUM'].astype(float)\n",
    "    # features3 = sub_data.groupby(by=['C.ICUSTAY_ID', 'VARIABLE'])\n",
    "    # features4 = features3.agg(\n",
    "    #     min=('C.VALUENUM','min'),\n",
    "    #     max=('C.VALUENUM','max'),\n",
    "    #     mean=('C.VALUENUM','mean'),\n",
    "    #     var=('C.VALUENUM','var'),\n",
    "    #     times=('C.CHARTTIME',np.random.choice),\n",
    "    #     values=('C.VALUENUM',np.random.choice),\n",
    "    #     count=('C.VALUENUM','count'),\n",
    "    #     cohort=('cohort',np.random.choice),\n",
    "    #     outcome=('outcome',np.random.choice)\n",
    "    # )\n",
    "    # ids = id_mapping[id_mapping['Xi']==float(Xi)]\n",
    "    # features4 = features4.rename(columns={'C.ICUSTAY_ID': 'ICUSTAY_ID'})\n",
    "    # features4 = pd.merge(features4,ids, on='ICUSTAY_ID', how='inner')\n",
    "    # features4 = features4.drop(columns='ICUSTAY_ID',axis= 1)\n",
    "    # features4 = features4.rename(columns={'new_ID': 'C.ICUSTAY_ID'})\n",
    "    # features4 = features4.sort_values(ascending=True, by='C.ICUSTAY_ID')\n",
    "    # _temp_FM = _split_features_to_columns(features4)\n",
    "    # _temp_FM=_temp_FM\n",
    "\n",
    "\n",
    "    _temp_FM = get_Xi_features(Xi, all_data, _stay_summary, id_mapping)\n",
    "    _FM_negative = _FM_negative.append(_temp_FM)"
   ]
  },
  {
   "cell_type": "code",
   "execution_count": null,
   "metadata": {
    "pycharm": {
     "name": "#%%\n"
    }
   },
   "outputs": [],
   "source": [
    "_FM_negative"
   ]
  },
  {
   "cell_type": "markdown",
   "metadata": {
    "pycharm": {
     "name": "#%% md\n"
    }
   },
   "source": [
    "How much missing data?\n",
    "多少缺失的数据?"
   ]
  },
  {
   "cell_type": "code",
   "execution_count": null,
   "metadata": {
    "pycharm": {
     "name": "#%%\n"
    }
   },
   "outputs": [],
   "source": [
    "nrows = float(len(_FM_negative))\n",
    "\n",
    "missing_data = pd.DataFrame()\n",
    "vname = []\n",
    "miss_freq = []"
   ]
  },
  {
   "cell_type": "code",
   "execution_count": null,
   "metadata": {
    "pycharm": {
     "name": "#%%\n"
    }
   },
   "outputs": [],
   "source": [
    "for col in _FM_negative.columns:\n",
    "        vname.append(col)\n",
    "        # miss_freq.append(sum(_FM_negative[col]==None)/nrows)\n",
    "        # ##(FM_filled[col].isnull().sum())\n",
    "        miss_freq.append((_FM_negative[col].isnull().sum())/nrows)"
   ]
  },
  {
   "cell_type": "code",
   "execution_count": null,
   "metadata": {
    "pycharm": {
     "name": "#%%\n"
    }
   },
   "outputs": [],
   "source": [
    "missing_data['variable'] = vname\n",
    "missing_data['fraction missing'] = miss_freq"
   ]
  },
  {
   "cell_type": "code",
   "execution_count": null,
   "metadata": {
    "pycharm": {
     "name": "#%%\n"
    }
   },
   "outputs": [],
   "source": [
    "missing_data = missing_data.sort_values(by='fraction missing', ascending=True)\n",
    "# missing_data.print_rows(num_rows=25)\n",
    "missing_data.loc[0:]"
   ]
  },
  {
   "cell_type": "code",
   "execution_count": null,
   "metadata": {
    "pycharm": {
     "name": "#%%\n"
    }
   },
   "outputs": [],
   "source": [
    "# missing_data_summary = missing_data_summary.join(how='inner', on='variable', right=missing_data)\n",
    "missing_data_summary = pd.merge(missing_data_summary,missing_data,how='inner', on='variable')\n",
    "missing_data_summary = missing_data_summary.rename(columns={'fraction missing':'mimic_negex_4hour'})\n",
    "\n"
   ]
  },
  {
   "cell_type": "markdown",
   "metadata": {
    "pycharm": {
     "name": "#%% md\n"
    }
   },
   "source": [
    "Fill the missing data:\n",
    "\n"
   ]
  },
  {
   "cell_type": "code",
   "execution_count": null,
   "metadata": {
    "pycharm": {
     "name": "#%%\n"
    }
   },
   "outputs": [],
   "source": [
    "_FM_negative_filled = _FM_negative.copy()\n",
    "# _FM_negative_filled = _FM_negative_filled.fillna(column='airway', value=0.0)\n",
    "_FM_negative_filled = _FM_negative_filled.fillna({'airway':0.0})\n",
    "# # ## FM_filled = FM_filled.fillna({'airway':0.0})"
   ]
  },
  {
   "cell_type": "code",
   "execution_count": null,
   "metadata": {
    "pycharm": {
     "name": "#%%\n"
    }
   },
   "outputs": [],
   "source": [
    "def fill_with_final_values(FM_filled, Xi, new_icustays):\n",
    "\n",
    "    # all_data = graphlab.SFrame(DATA_PATH)\n",
    "    all_data = pd.read_pickle(DATA_PATH)\n",
    "    # all_data = all_data[all_data['hrs_bRFD'] >= 24*Xi]\n",
    "    all_data = all_data.loc[all_data['hrs_bRFD'] >= 24*Xi]\n",
    "\n",
    "    # new_icustays = new_icustays.rename({'ICUSTAY_ID':'C.ICUSTAY_ID'})\n",
    "    new_icustays = new_icustays.rename(columns={'ICUSTAY_ID':'C.ICUSTAY_ID'})\n",
    "    # all_data = all_data.join(right=new_icustays, on='C.ICUSTAY_ID', how='inner')\n",
    "    all_data = pd.merge(all_data,new_icustays, on='C.ICUSTAY_ID', how='inner')\n",
    "    # all_data = all_data.remove_column('C.ICUSTAY_ID')\n",
    "    all_data = all_data.drop(columns='C.ICUSTAY_ID',axis= 1)\n",
    "    # all_data = all_data.rename({'new_ID':'C.ICUSTAY_ID'})\n",
    "    all_data = all_data.rename(columns={'new_ID':'C.ICUSTAY_ID'})\n",
    "\n",
    "    # final_values = all_data.groupby(key_columns=['C.ICUSTAY_ID', 'VARIABLE'],\n",
    "    #                                 operations={\n",
    "    #                                             'hrs_bRFD':agg.ARGMAX('C.CHARTTIME', 'hrs_bRFD'),\n",
    "    #                                             'C.VALUENUM':agg.ARGMAX('C.CHARTTIME', 'C.VALUENUM')\n",
    "    #                                             })\n",
    "    all_data['C.VALUENUM']=all_data['C.VALUENUM'].astype(float)\n",
    "    final_values = all_data.groupby(by=['C.ICUSTAY_ID', 'VARIABLE'])\n",
    "    final_values = final_values.agg(\n",
    "        hrs_bRFD=('hrs_bRFD','mean'),\n",
    "        VALUENUM=('C.VALUENUM','mean')\n",
    "    )\n",
    "    #.rename(columns={'VALUENUM':'C.VALUENUM'})\n",
    "    final_values = final_values.reset_index()\n",
    "\n",
    "    final_values = final_values[final_values['hrs_bRFD'] <= MAXIMUM_LOOKBACK + (24*Xi)]\n",
    "    final_values = final_values[final_values['hrs_bRFD'] > H + (24*Xi)]\n",
    "\n",
    "    # final_values = final_values.sort(ascending=True, sort_columns=['VARIABLE', 'C.ICUSTAY_ID'])\n",
    "    final_values = final_values.sort_values(ascending=True, by=['VARIABLE', 'C.ICUSTAY_ID'])\n",
    "    vars_to_use_fv = [var for var in final_values['VARIABLE'].unique()]\n",
    "    # FM_filled = FM_filled.sort(ascending=True, sort_columns='ICUSTAY_ID')\n",
    "    FM_filled = FM_filled.sort_values(ascending=True, by='ICUSTAY_ID')\n",
    "\n",
    "    for variable in vars_to_use_fv:\n",
    "        print( variable)\n",
    "\n",
    "        # _subset = final_values[final_values['VARIABLE']==variable]\n",
    "        _subset = final_values[final_values['VARIABLE']==variable].reset_index()\n",
    "        # _subset = _subset.sort(sort_columns='C.ICUSTAY_ID', ascending=True)\n",
    "        _subset = _subset.sort_values(by='C.ICUSTAY_ID', ascending=True)\n",
    "#_subset = features[features['VARIABLE']==var].reset_index\n",
    "        N = len(_subset)-1\n",
    "\n",
    "        if variable not in single_feature_variables:\n",
    "            FM_filled = replace_missing_value(_subset, variable, FM_filled, N, vtype='min')\n",
    "            FM_filled = replace_missing_value(_subset, variable, FM_filled, N, vtype='max')\n",
    "        else:\n",
    "            FM_filled = replace_missing_value(_subset, variable, FM_filled, N, vtype='single')\n",
    "\n",
    "    return FM_filled\n"
   ]
  },
  {
   "cell_type": "markdown",
   "metadata": {
    "pycharm": {
     "name": "#%% md\n"
    }
   },
   "source": [
    "Fill separately for each Xi and then recombine:\n",
    "分别填充每个Xi，然后重新组合:\n"
   ]
  },
  {
   "cell_type": "code",
   "execution_count": null,
   "metadata": {
    "pycharm": {
     "name": "#%%\n"
    }
   },
   "outputs": [],
   "source": [
    "Xi = Xi_range[0]\n",
    "## filter feature matrix to only contain instances from Xi sample过滤特征矩阵，只包含来自Xi样本的实例\n",
    "# _temp_FM_filled = _FM_negative_filled.filter_by(column_name='ICUSTAY_ID', values=id_mapping[id_mapping['Xi']==float(Xi)]['new_ID'])\n",
    "_temp_FM_filled = _FM_negative_filled[_FM_negative_filled['ICUSTAY_ID'].isin(id_mapping[id_mapping['Xi']==float(Xi)]['new_ID'])]"
   ]
  },
  {
   "cell_type": "code",
   "execution_count": null,
   "metadata": {
    "pycharm": {
     "name": "#%%\n"
    }
   },
   "outputs": [],
   "source": [
    "## fill with appropriate final values:填充适当的最终值:\n",
    "new_icustays = id_mapping[id_mapping['Xi']==float(Xi)]\n",
    "_temp_FM_filled = fill_with_final_values(FM_filled=_temp_FM_filled, Xi=Xi, new_icustays = new_icustays)\n",
    "FM_negative_filled = _temp_FM_filled.copy()"
   ]
  },
  {
   "cell_type": "code",
   "execution_count": null,
   "metadata": {
    "pycharm": {
     "name": "#%%\n"
    }
   },
   "outputs": [],
   "source": [
    "for Xi in Xi_range[1:]:\n",
    "    ## filter feature matrix to only contain instances from Xi sample过滤特征矩阵，只包含来自Xi样本的实例\n",
    "    # _temp_FM_filled = _FM_negative_filled.filter_by(column_name='ICUSTAY_ID', values=id_mapping[id_mapping['Xi']==float(Xi)]['new_ID'])\n",
    "    _temp_FM_filled = _FM_negative_filled[_FM_negative_filled['ICUSTAY_ID'].isin(id_mapping[id_mapping['Xi']==float(Xi)]['new_ID'])]\n",
    "    ## fill with appropriate final values:填充适当的最终值:\n",
    "    new_icustays = id_mapping[id_mapping['Xi']==float(Xi)]\n",
    "    _temp_FM_filled = fill_with_final_values(FM_filled=_temp_FM_filled, Xi=Xi, new_icustays = new_icustays)\n",
    "    FM_negative_filled = FM_negative_filled.append(_temp_FM_filled)\n"
   ]
  },
  {
   "cell_type": "markdown",
   "metadata": {
    "pycharm": {
     "name": "#%% md\n"
    }
   },
   "source": [
    "How much missing data in the feature matrix for these extra NRFD samples:\n",
    "这些额外的NRFD样本在特征矩阵中缺失了多少数据:"
   ]
  },
  {
   "cell_type": "code",
   "execution_count": null,
   "metadata": {
    "pycharm": {
     "name": "#%%\n"
    }
   },
   "outputs": [],
   "source": [
    "nrows = float(len(FM_negative_filled))\n",
    "for col in FM_negative_filled.columns:\n",
    "        print('%s : %.3f' %(col, (FM_negative_filled[col].isnull().sum())/nrows))\n",
    "\n",
    "#(_FM_negative[col].isnull().sum()"
   ]
  },
  {
   "cell_type": "markdown",
   "metadata": {
    "pycharm": {
     "name": "#%% md\n"
    }
   },
   "source": [
    "出错了，老错误，缺少 'variable'  FM_negative_filled[row['variable']],,想出了一个替代的方法"
   ]
  },
  {
   "cell_type": "markdown",
   "metadata": {
    "pycharm": {
     "name": "#%% md\n"
    }
   },
   "source": [
    "出错了，老错误，缺少 'variable'  FM_negative_filled[row['variable']]\n",
    "for i in FM_negative_filled.columns:\n",
    "    missing_data_summary['mimic_negex_36hr']=missing_data_summary['variable'].apply(lambda i : (FM_negative_filled[i].isnull().sum())/nrows)"
   ]
  },
  {
   "cell_type": "markdown",
   "metadata": {
    "pycharm": {
     "name": "#%% md\n"
    }
   },
   "source": [
    "出错了，老错误，缺少 'variable'  FM_negative_filled[row['variable']]"
   ]
  },
  {
   "cell_type": "code",
   "execution_count": null,
   "metadata": {
    "pycharm": {
     "name": "#%%\n"
    }
   },
   "outputs": [],
   "source": [
    "# missing_data_summary['mimic_negex_36hr'] = \\\n",
    "#     missing_data_summary.apply(lambda row: (FM_negative_filled[row['variable']].isnull().sum())/nrows )\n",
    "# s = pd.DataFrame()\n",
    "for i in FM_negative_filled.columns:\n",
    "    missing_data_summary['mimic_negex_36hr']=missing_data_summary['variable'].apply(lambda i : (FM_negative_filled[i].isnull().sum())/nrows)"
   ]
  },
  {
   "cell_type": "code",
   "execution_count": null,
   "metadata": {
    "pycharm": {
     "name": "#%%\n"
    }
   },
   "outputs": [],
   "source": [
    "# n=[]\n",
    "# for i in FM_negative_filled.columns:\n",
    "#     print(i)\n",
    "#     n.append(i)\n",
    "# n"
   ]
  },
  {
   "cell_type": "code",
   "execution_count": null,
   "metadata": {
    "pycharm": {
     "name": "#%%\n"
    }
   },
   "outputs": [],
   "source": [
    "nrows = float(len(FM_negative_filled))\n",
    "# s = pd.DataFrame()\n",
    "for i in FM_negative_filled.columns:\n",
    "    missing_data_summary['mimic_negex_36hr']=missing_data_summary['variable'].apply(lambda i : (FM_negative_filled[i].isnull().sum())/nrows)"
   ]
  },
  {
   "cell_type": "code",
   "execution_count": null,
   "metadata": {
    "pycharm": {
     "name": "#%%\n"
    }
   },
   "outputs": [],
   "source": [
    "# missing_data_summary1['mimic_negex_36hr']=missing_data_summary['mimic_negex_36hr']"
   ]
  },
  {
   "cell_type": "code",
   "execution_count": null,
   "metadata": {
    "pycharm": {
     "name": "#%%\n"
    }
   },
   "outputs": [],
   "source": []
  },
  {
   "cell_type": "code",
   "execution_count": null,
   "metadata": {
    "pycharm": {
     "name": "#%%\n"
    }
   },
   "outputs": [],
   "source": [
    "all_data = pd.read_pickle(DATA_PATH)\n",
    "summary1 = all_data.groupby(by=['C.ICUSTAY_ID'])\n",
    "summary = summary1.agg(\n",
    "    outcome=('outcome',np.random.choice),\n",
    "    cohort=('cohort',np.random.choice),\n",
    "    readmit=('readmit',np.random.choice),\n",
    "    in_h_death=('in_h_death',np.random.choice),\n",
    "    in_icu_death=('in_icu_death',np.random.choice),\n",
    "    LOS=('II.LOS',np.random.choice),\n",
    "    OUTTIME=('II.OUTTIME',np.random.choice),\n",
    "    INTIME=('II.INTIME',np.random.choice),\n",
    "    RFD=('RFD',np.random.choice)\n",
    ").rename(columns={\n",
    "    'LOS':'II.LOS',\n",
    "    'OUTTIME':'II.OUTTIME',\n",
    "    'INTIME':'II.INTIME'\n",
    "})"
   ]
  },
  {
   "cell_type": "code",
   "execution_count": null,
   "metadata": {
    "pycharm": {
     "name": "#%%\n"
    }
   },
   "outputs": [],
   "source": [
    "summary=summary.reset_index()\n",
    "# summary"
   ]
  },
  {
   "cell_type": "code",
   "execution_count": null,
   "metadata": {
    "pycharm": {
     "name": "#%%\n"
    }
   },
   "outputs": [],
   "source": [
    "summary = summary.rename(columns={'C.ICUSTAY_ID':'ICUSTAY_ID'})\n",
    "# cohort_info = id_mapping.join(how='inner', on='ICUSTAY_ID', right=summary)\n",
    "cohort_info = pd.merge(id_mapping,summary,how='inner', on='ICUSTAY_ID')"
   ]
  },
  {
   "cell_type": "code",
   "execution_count": null,
   "metadata": {
    "pycharm": {
     "name": "#%%\n"
    }
   },
   "outputs": [],
   "source": [
    "cohort_info = cohort_info[['new_ID', 'cohort']]\n",
    "cohort_info = cohort_info.rename(columns={'new_ID':'ICUSTAY_ID'})\n",
    "\n",
    "# FM_negative_filled = FM_negative_filled.join(how='inner', on='ICUSTAY_ID', right=cohort_info)\n",
    "FM_negative_filled = pd.merge(FM_negative_filled,cohort_info,how='inner', on='ICUSTAY_ID')\n",
    "\n",
    "FM_negative_filled['outcome'] = np.zeros(len(FM_negative_filled), dtype=int)"
   ]
  },
  {
   "cell_type": "markdown",
   "metadata": {
    "pycharm": {
     "name": "#%% md\n"
    }
   },
   "source": [
    "We finally join the extra negative instances to the original feature matrix:\n",
    "我们最终将额外的负实例加入到原始特征矩阵中:"
   ]
  },
  {
   "cell_type": "code",
   "execution_count": null,
   "metadata": {
    "pycharm": {
     "name": "#%%\n"
    }
   },
   "outputs": [],
   "source": [
    "FM_filled = FM_filled.append(FM_negative_filled)\n",
    "\n"
   ]
  },
  {
   "cell_type": "markdown",
   "metadata": {
    "pycharm": {
     "name": "#%% md\n"
    }
   },
   "source": [
    "Save the feature matrix with and without missing values included:\n",
    "保存包含或不包含缺失值的特征矩阵:\n"
   ]
  },
  {
   "cell_type": "code",
   "execution_count": null,
   "metadata": {
    "pycharm": {
     "name": "#%%\n"
    }
   },
   "outputs": [],
   "source": [
    "if SAVE_FLAG:\n",
    "        FM_filled.to_pickle('Feature_Matrix_MIMIC_with_missing_values')\n",
    "        print(len(FM_filled))\n",
    "\n",
    "        FM_filled_cc = FM_filled.dropna(axis=0,how='any')\n",
    "        FM_filled=FM_filled_cc.reset_index(drop=True)\n",
    "        FM_filled_cc.to_pickle('Feature_Matrix_MIMIC_complete_case')\n",
    "        print(len(FM_filled))"
   ]
  },
  {
   "cell_type": "markdown",
   "metadata": {
    "pycharm": {
     "name": "#%% md\n"
    }
   },
   "source": [
    "Produce summary of missing values as recorded throughout this script:\n",
    "生成缺失值的总结，记录在整个脚本中:\n",
    "\n"
   ]
  },
  {
   "cell_type": "code",
   "execution_count": null,
   "metadata": {
    "pycharm": {
     "name": "#%%\n"
    }
   },
   "outputs": [],
   "source": [
    "order = pd.DataFrame()\n",
    "order['variable'] =['hr_max', 'hr_min','spo2_max',\n",
    "                'spo2_min','airway','resp_max',\n",
    "                'resp_min','bp_min','bp_max',\n",
    "                'temp_min','temp_max','gcs_max',\n",
    "                'gcs_min','pain','hco3',\n",
    "                'pco2','po2','fio2',\n",
    "                'haemoglobin','k','bun',\n",
    "                'creatinine','na']"
   ]
  },
  {
   "cell_type": "code",
   "execution_count": null,
   "metadata": {
    "pycharm": {
     "name": "#%%\n"
    }
   },
   "outputs": [],
   "source": [
    "order['num'] = range(len(order))\n",
    "\n"
   ]
  },
  {
   "cell_type": "code",
   "execution_count": null,
   "metadata": {
    "pycharm": {
     "name": "#%%\n"
    }
   },
   "outputs": [],
   "source": [
    "# missing_data_summary = missing_data_summary.join(how='inner', on='variable', right=order)\n",
    "missing_data_summary = pd.merge(missing_data_summary,order,how='inner', on='variable')\n",
    "missing_data_summary = missing_data_summary.sort_values(by='num')\n",
    "# missing_data_summary = missing_data_summary.remove_column('num')\n",
    "missing_data_summary = missing_data_summary.drop(columns='num',axis= 1)\n",
    "\n"
   ]
  },
  {
   "cell_type": "code",
   "execution_count": null,
   "metadata": {
    "pycharm": {
     "name": "#%%\n"
    }
   },
   "outputs": [],
   "source": [
    "missing_data_summary=missing_data_summary.reset_index(drop=True)\n",
    "# missing_data_summary.export_csv(header=True, filename='missing_data_summary_mimic.csv')\n",
    "missing_data_summary.to_csv(header=True, path_or_buf='missing_data_summary_mimic.csv')"
   ]
  },
  {
   "cell_type": "code",
   "execution_count": null,
   "metadata": {
    "pycharm": {
     "name": "#%%\n"
    }
   },
   "outputs": [],
   "source": [
    "# missing_data_summary.print_rows(num_rows=len(missing_data_summary))\n",
    "missing_data_summary.loc[0:(len(missing_data_summary)-1)]"
   ]
  },
  {
   "cell_type": "code",
   "execution_count": null,
   "metadata": {
    "pycharm": {
     "name": "#%%\n"
    }
   },
   "outputs": [],
   "source": [
    "# FM_filled.export_csv('Feature_Matrix_MIMIC_with_missing_values.csv')\n",
    "FM_filled.to_csv('Feature_Matrix_MIMIC_with_missing_values.csv')"
   ]
  },
  {
   "cell_type": "code",
   "execution_count": null,
   "metadata": {
    "pycharm": {
     "name": "#%%\n"
    }
   },
   "outputs": [],
   "source": [
    "FM_filled_cc.to_csv('Feature_Matrix_MIMIC_complete_case.csv')"
   ]
  },
  {
   "cell_type": "code",
   "execution_count": null,
   "metadata": {
    "pycharm": {
     "name": "#%%\n"
    }
   },
   "outputs": [],
   "source": [
    "FM_filled1=pd.read_pickle('Feature_Matrix_MIMIC_with_missing_values')\n",
    "\n"
   ]
  },
  {
   "cell_type": "code",
   "execution_count": null,
   "metadata": {
    "pycharm": {
     "name": "#%%\n"
    }
   },
   "outputs": [],
   "source": [
    "FM_filled1.to_csv('Feature_Matrix_MIMIC_with_missing_values.csv')\n"
   ]
  },
  {
   "cell_type": "markdown",
   "metadata": {
    "pycharm": {
     "name": "#%% md\n"
    }
   },
   "source": [
    "#下面为别的文件\n",
    "\n"
   ]
  },
  {
   "cell_type": "code",
   "execution_count": null,
   "metadata": {
    "pycharm": {
     "name": "#%%\n"
    }
   },
   "outputs": [],
   "source": [
    "all_data_to=pd.read_pickle('mimic_all_data_CLEANED1')\n",
    "all_data_to"
   ]
  },
  {
   "cell_type": "code",
   "execution_count": null,
   "metadata": {
    "pycharm": {
     "name": "#%%\n"
    }
   },
   "outputs": [],
   "source": [
    "all_data_to.to_csv('mimic_all_data_CLEANED1')\n",
    "\n"
   ]
  },
  {
   "cell_type": "code",
   "execution_count": null,
   "metadata": {
    "pycharm": {
     "name": "#%%\n"
    }
   },
   "outputs": [],
   "source": [
    "all_data_to[all_data_to['outcome']==0]\n"
   ]
  },
  {
   "cell_type": "code",
   "execution_count": null,
   "metadata": {
    "pycharm": {
     "name": "#%%\n"
    }
   },
   "outputs": [],
   "source": [
    "\n"
   ]
  }
 ],
 "metadata": {
  "kernelspec": {
   "display_name": "Python 3 (ipykernel)",
   "language": "python",
   "name": "python3"
  },
  "language_info": {
   "codemirror_mode": {
    "name": "ipython",
    "version": 3
   },
   "file_extension": ".py",
   "mimetype": "text/x-python",
   "name": "python",
   "nbconvert_exporter": "python",
   "pygments_lexer": "ipython3",
   "version": "3.7.0"
  }
 },
 "nbformat": 4,
 "nbformat_minor": 1
}
